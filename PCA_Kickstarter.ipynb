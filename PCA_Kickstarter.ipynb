{
 "cells": [
  {
   "cell_type": "markdown",
   "metadata": {},
   "source": [
    "# Principle Component analysis of crowdfunding projects\n",
    "Data visualization of Kickstarter projects based on suitable visualization techniques including a principal component analysis (PCA).\n",
    "\n",
    "The dataset was downloaded from\n",
    "https://www.kaggle.com/kemical/kickstarter-projects \n",
    "on September 14th 2018."
   ]
  },
  {
   "cell_type": "code",
   "execution_count": 1,
   "metadata": {},
   "outputs": [
    {
     "data": {
      "text/html": [
       "<script>requirejs.config({paths: { 'plotly': ['https://cdn.plot.ly/plotly-latest.min']},});if(!window.Plotly) {{require(['plotly'],function(plotly) {window.Plotly=plotly;});}}</script>"
      ],
      "text/vnd.plotly.v1+html": [
       "<script>requirejs.config({paths: { 'plotly': ['https://cdn.plot.ly/plotly-latest.min']},});if(!window.Plotly) {{require(['plotly'],function(plotly) {window.Plotly=plotly;});}}</script>"
      ]
     },
     "metadata": {},
     "output_type": "display_data"
    }
   ],
   "source": [
    "import numpy as np\n",
    "import pandas as pd\n",
    "import matplotlib.pyplot as plt\n",
    "from scipy.linalg import svd\n",
    "import plotly as py\n",
    "import plotly.graph_objs as go\n",
    "import seaborn as sns\n",
    "\n",
    "# use plotly in offline mode:\n",
    "py.offline.init_notebook_mode(connected=True)"
   ]
  },
  {
   "cell_type": "code",
   "execution_count": 2,
   "metadata": {},
   "outputs": [],
   "source": [
    "%matplotlib inline"
   ]
  },
  {
   "cell_type": "code",
   "execution_count": 3,
   "metadata": {},
   "outputs": [],
   "source": [
    "# basic pandas settings\n",
    "pd.options.display.max_rows = 10\n",
    "pd.options.display.float_format = '{:,.2f}'.format\n",
    "plt.rcParams['figure.figsize'] = (16, 12)"
   ]
  },
  {
   "cell_type": "markdown",
   "metadata": {},
   "source": [
    "## 1. Data inspection and cleaning"
   ]
  },
  {
   "cell_type": "code",
   "execution_count": 4,
   "metadata": {
    "scrolled": true
   },
   "outputs": [],
   "source": [
    "# create the dataframe and define a reduced version with the first \n",
    "# 5000 observations of project goal and the total amount pledged\n",
    "raw_data = pd.read_csv('ks-projects-201801.csv')\n",
    "cols = ['goal', 'pledged']\n",
    "df = pd.DataFrame(raw_data, columns = cols)\n",
    "df_training = df[0:5000] # real training set: df[0:250000]\n",
    "# df_testing = df[250000:]\n",
    "\n",
    "# compute (reduced) dataframe dimensions (X = N x M)\n",
    "N = len(df['goal'])\n",
    "M = len(cols)"
   ]
  },
  {
   "cell_type": "code",
   "execution_count": 5,
   "metadata": {},
   "outputs": [
    {
     "name": "stdout",
     "output_type": "stream",
     "text": [
      "name\n",
      "4\n",
      "usd pledged\n",
      "3797\n"
     ]
    }
   ],
   "source": [
    "# Initial check for missing values\n",
    "col = raw_data.columns\n",
    "\n",
    "for i in col:\n",
    "    if raw_data[i].isnull().sum().sum() != 0:\n",
    "        print(i)\n",
    "        print(raw_data[i].isnull().sum().sum())\n",
    "\n",
    "# 4 missing name values\n",
    "# 3797 missing usd pledged values\n",
    "# We won't be using either of these attributes\n",
    "# so let's not worry about this."
   ]
  },
  {
   "cell_type": "code",
   "execution_count": 6,
   "metadata": {},
   "outputs": [
    {
     "name": "stdout",
     "output_type": "stream",
     "text": [
      "---- No empty strings/None values detected ----\n",
      "['3D Printing', 'Academic', 'Accessories', 'Action', 'Animals', 'Animation', 'Anthologies', 'Apparel', 'Apps', 'Architecture', 'Art', 'Art Books', 'Audio', 'Bacon', 'Blues', 'Calendars', 'Camera Equipment', 'Candles', 'Ceramics', \"Children's Books\", 'Childrenswear', 'Chiptune', 'Civic Design', 'Classical Music', 'Comedy', 'Comic Books', 'Comics', 'Community Gardens', 'Conceptual Art', 'Cookbooks', 'Country & Folk', 'Couture', 'Crafts', 'Crochet', 'DIY', 'DIY Electronics', 'Dance', 'Design', 'Digital Art', 'Documentary', 'Drama', 'Drinks', 'Electronic Music', 'Embroidery', 'Events', 'Experimental', 'Fabrication Tools', 'Faith', 'Family', 'Fantasy', \"Farmer's Markets\", 'Farms', 'Fashion', 'Festivals', 'Fiction', 'Film & Video', 'Fine Art', 'Flight', 'Food', 'Food Trucks', 'Footwear', 'Gadgets', 'Games', 'Gaming Hardware', 'Glass', 'Graphic Design', 'Graphic Novels', 'Hardware', 'Hip-Hop', 'Horror', 'Illustration', 'Immersive', 'Indie Rock', 'Installations', 'Interactive Design', 'Jazz', 'Jewelry', 'Journalism', 'Kids', 'Knitting', 'Latin', 'Letterpress', 'Literary Journals', 'Literary Spaces', 'Live Games', 'Makerspaces', 'Metal', 'Mixed Media', 'Mobile Games', 'Movie Theaters', 'Music', 'Music Videos', 'Musical', 'Narrative Film', 'Nature', 'Nonfiction', 'Painting', 'People', 'Performance Art', 'Performances', 'Periodicals', 'Pet Fashion', 'Photo', 'Photobooks', 'Photography', 'Places', 'Playing Cards', 'Plays', 'Poetry', 'Pop', 'Pottery', 'Print', 'Printing', 'Product Design', 'Public Art', 'Publishing', 'Punk', 'Puzzles', 'Quilts', 'R&B', 'Radio & Podcasts', 'Ready-to-wear', 'Residencies', 'Restaurants', 'Robots', 'Rock', 'Romance', 'Science Fiction', 'Sculpture', 'Shorts', 'Small Batch', 'Software', 'Sound', 'Space Exploration', 'Spaces', 'Stationery', 'Tabletop Games', 'Taxidermy', 'Technology', 'Television', 'Textiles', 'Theater', 'Thrillers', 'Translations', 'Typography', 'Vegan', 'Video', 'Video Art', 'Video Games', 'Wearables', 'Weaving', 'Web', 'Webcomics', 'Webseries', 'Woodworking', 'Workshops', 'World Music', 'Young Adult', 'Zines']\n",
      "\n",
      "Total number of individual categories: \n",
      " 159\n"
     ]
    }
   ],
   "source": [
    "# Now for the categories. Let's view them:\n",
    "cat = raw_data.loc[:,'category']\n",
    "\n",
    "if cat.isnull().values.any():\n",
    "    print('---- Empty string/None values detected ----')\n",
    "else:\n",
    "    print('---- No empty strings/None values detected ----')\n",
    "    cat_sort = sorted(set(cat))\n",
    "    print(cat_sort)\n",
    "    print('\\nTotal number of individual categories: \\n', len(cat_sort))"
   ]
  },
  {
   "cell_type": "code",
   "execution_count": 7,
   "metadata": {},
   "outputs": [
    {
     "data": {
      "text/plain": [
       "array(['ID', 'name', 'category', 'main_category', 'currency', 'deadline',\n",
       "       'goal', 'launched', 'pledged', 'state', 'backers', 'country',\n",
       "       'usd pledged', 'usd_pledged_real', 'usd_goal_real',\n",
       "       'category_3D Printing', 'category_Academic',\n",
       "       'category_Accessories', 'category_Action', 'category_Animals',\n",
       "       'category_Animation', 'category_Anthologies', 'category_Apparel',\n",
       "       'category_Apps', 'category_Architecture', 'category_Art',\n",
       "       'category_Art Books', 'category_Audio', 'category_Bacon',\n",
       "       'category_Blues', 'category_Calendars',\n",
       "       'category_Camera Equipment', 'category_Candles',\n",
       "       'category_Ceramics', \"category_Children's Books\",\n",
       "       'category_Childrenswear', 'category_Chiptune',\n",
       "       'category_Civic Design', 'category_Classical Music',\n",
       "       'category_Comedy', 'category_Comic Books', 'category_Comics',\n",
       "       'category_Community Gardens', 'category_Conceptual Art',\n",
       "       'category_Cookbooks', 'category_Country & Folk',\n",
       "       'category_Couture', 'category_Crafts', 'category_Crochet',\n",
       "       'category_DIY', 'category_DIY Electronics', 'category_Dance',\n",
       "       'category_Design', 'category_Digital Art', 'category_Documentary',\n",
       "       'category_Drama', 'category_Drinks', 'category_Electronic Music',\n",
       "       'category_Embroidery', 'category_Events', 'category_Experimental',\n",
       "       'category_Fabrication Tools', 'category_Faith', 'category_Family',\n",
       "       'category_Fantasy', \"category_Farmer's Markets\", 'category_Farms',\n",
       "       'category_Fashion', 'category_Festivals', 'category_Fiction',\n",
       "       'category_Film & Video', 'category_Fine Art', 'category_Flight',\n",
       "       'category_Food', 'category_Food Trucks', 'category_Footwear',\n",
       "       'category_Gadgets', 'category_Games', 'category_Gaming Hardware',\n",
       "       'category_Glass', 'category_Graphic Design',\n",
       "       'category_Graphic Novels', 'category_Hardware', 'category_Hip-Hop',\n",
       "       'category_Horror', 'category_Illustration', 'category_Immersive',\n",
       "       'category_Indie Rock', 'category_Installations',\n",
       "       'category_Interactive Design', 'category_Jazz', 'category_Jewelry',\n",
       "       'category_Journalism', 'category_Kids', 'category_Knitting',\n",
       "       'category_Latin', 'category_Letterpress',\n",
       "       'category_Literary Journals', 'category_Literary Spaces',\n",
       "       'category_Live Games', 'category_Makerspaces', 'category_Metal',\n",
       "       'category_Mixed Media', 'category_Mobile Games',\n",
       "       'category_Movie Theaters', 'category_Music',\n",
       "       'category_Music Videos', 'category_Musical',\n",
       "       'category_Narrative Film', 'category_Nature',\n",
       "       'category_Nonfiction', 'category_Painting', 'category_People',\n",
       "       'category_Performance Art', 'category_Performances',\n",
       "       'category_Periodicals', 'category_Pet Fashion', 'category_Photo',\n",
       "       'category_Photobooks', 'category_Photography', 'category_Places',\n",
       "       'category_Playing Cards', 'category_Plays', 'category_Poetry',\n",
       "       'category_Pop', 'category_Pottery', 'category_Print',\n",
       "       'category_Printing', 'category_Product Design',\n",
       "       'category_Public Art', 'category_Publishing', 'category_Punk',\n",
       "       'category_Puzzles', 'category_Quilts', 'category_R&B',\n",
       "       'category_Radio & Podcasts', 'category_Ready-to-wear',\n",
       "       'category_Residencies', 'category_Restaurants', 'category_Robots',\n",
       "       'category_Rock', 'category_Romance', 'category_Science Fiction',\n",
       "       'category_Sculpture', 'category_Shorts', 'category_Small Batch',\n",
       "       'category_Software', 'category_Sound',\n",
       "       'category_Space Exploration', 'category_Spaces',\n",
       "       'category_Stationery', 'category_Tabletop Games',\n",
       "       'category_Taxidermy', 'category_Technology', 'category_Television',\n",
       "       'category_Textiles', 'category_Theater', 'category_Thrillers',\n",
       "       'category_Translations', 'category_Typography', 'category_Vegan',\n",
       "       'category_Video', 'category_Video Art', 'category_Video Games',\n",
       "       'category_Wearables', 'category_Weaving', 'category_Web',\n",
       "       'category_Webcomics', 'category_Webseries', 'category_Woodworking',\n",
       "       'category_Workshops', 'category_World Music',\n",
       "       'category_Young Adult', 'category_Zines'], dtype=object)"
      ]
     },
     "execution_count": 7,
     "metadata": {},
     "output_type": "execute_result"
    }
   ],
   "source": [
    "# We inspect the cat_sort vector and don't\n",
    "# find any mistakes/errors.\n",
    "\n",
    "# We'll use 1-of-K encoding. Declare the attribute\n",
    "# categorical with pandas\n",
    "raw_data['category'] = pd.Categorical(raw_data['category'])\n",
    "\n",
    "# 1-of-K and combine w/ raw data\n",
    "cat_Dummies = pd.get_dummies(raw_data['category'], prefix = 'category')\n",
    "raw_data = pd.concat([raw_data, cat_Dummies], axis=1)\n",
    "\n",
    "# Check columns\n",
    "raw_data.columns.values"
   ]
  },
  {
   "cell_type": "code",
   "execution_count": 8,
   "metadata": {},
   "outputs": [
    {
     "name": "stdout",
     "output_type": "stream",
     "text": [
      "---- No empty strings/None values detected ----\n",
      "['Art', 'Comics', 'Crafts', 'Dance', 'Design', 'Fashion', 'Film & Video', 'Food', 'Games', 'Journalism', 'Music', 'Photography', 'Publishing', 'Technology', 'Theater']\n"
     ]
    }
   ],
   "source": [
    "# Now for the main categories. Let's view them:\n",
    "main_cat = raw_data.loc[:,'main_category']\n",
    "if main_cat.isnull().values.any():\n",
    "    print('---- Empty string/None values detected ----')\n",
    "else:\n",
    "    print('---- No empty strings/None values detected ----')\n",
    "    main_cat_sort = sorted(set(main_cat))\n",
    "    print(main_cat_sort)"
   ]
  },
  {
   "cell_type": "code",
   "execution_count": 9,
   "metadata": {},
   "outputs": [
    {
     "data": {
      "text/plain": [
       "array(['ID', 'name', 'category', 'main_category', 'currency', 'deadline',\n",
       "       'goal', 'launched', 'pledged', 'state', 'backers', 'country',\n",
       "       'usd pledged', 'usd_pledged_real', 'usd_goal_real',\n",
       "       'category_3D Printing', 'category_Academic',\n",
       "       'category_Accessories', 'category_Action', 'category_Animals',\n",
       "       'category_Animation', 'category_Anthologies', 'category_Apparel',\n",
       "       'category_Apps', 'category_Architecture', 'category_Art',\n",
       "       'category_Art Books', 'category_Audio', 'category_Bacon',\n",
       "       'category_Blues', 'category_Calendars',\n",
       "       'category_Camera Equipment', 'category_Candles',\n",
       "       'category_Ceramics', \"category_Children's Books\",\n",
       "       'category_Childrenswear', 'category_Chiptune',\n",
       "       'category_Civic Design', 'category_Classical Music',\n",
       "       'category_Comedy', 'category_Comic Books', 'category_Comics',\n",
       "       'category_Community Gardens', 'category_Conceptual Art',\n",
       "       'category_Cookbooks', 'category_Country & Folk',\n",
       "       'category_Couture', 'category_Crafts', 'category_Crochet',\n",
       "       'category_DIY', 'category_DIY Electronics', 'category_Dance',\n",
       "       'category_Design', 'category_Digital Art', 'category_Documentary',\n",
       "       'category_Drama', 'category_Drinks', 'category_Electronic Music',\n",
       "       'category_Embroidery', 'category_Events', 'category_Experimental',\n",
       "       'category_Fabrication Tools', 'category_Faith', 'category_Family',\n",
       "       'category_Fantasy', \"category_Farmer's Markets\", 'category_Farms',\n",
       "       'category_Fashion', 'category_Festivals', 'category_Fiction',\n",
       "       'category_Film & Video', 'category_Fine Art', 'category_Flight',\n",
       "       'category_Food', 'category_Food Trucks', 'category_Footwear',\n",
       "       'category_Gadgets', 'category_Games', 'category_Gaming Hardware',\n",
       "       'category_Glass', 'category_Graphic Design',\n",
       "       'category_Graphic Novels', 'category_Hardware', 'category_Hip-Hop',\n",
       "       'category_Horror', 'category_Illustration', 'category_Immersive',\n",
       "       'category_Indie Rock', 'category_Installations',\n",
       "       'category_Interactive Design', 'category_Jazz', 'category_Jewelry',\n",
       "       'category_Journalism', 'category_Kids', 'category_Knitting',\n",
       "       'category_Latin', 'category_Letterpress',\n",
       "       'category_Literary Journals', 'category_Literary Spaces',\n",
       "       'category_Live Games', 'category_Makerspaces', 'category_Metal',\n",
       "       'category_Mixed Media', 'category_Mobile Games',\n",
       "       'category_Movie Theaters', 'category_Music',\n",
       "       'category_Music Videos', 'category_Musical',\n",
       "       'category_Narrative Film', 'category_Nature',\n",
       "       'category_Nonfiction', 'category_Painting', 'category_People',\n",
       "       'category_Performance Art', 'category_Performances',\n",
       "       'category_Periodicals', 'category_Pet Fashion', 'category_Photo',\n",
       "       'category_Photobooks', 'category_Photography', 'category_Places',\n",
       "       'category_Playing Cards', 'category_Plays', 'category_Poetry',\n",
       "       'category_Pop', 'category_Pottery', 'category_Print',\n",
       "       'category_Printing', 'category_Product Design',\n",
       "       'category_Public Art', 'category_Publishing', 'category_Punk',\n",
       "       'category_Puzzles', 'category_Quilts', 'category_R&B',\n",
       "       'category_Radio & Podcasts', 'category_Ready-to-wear',\n",
       "       'category_Residencies', 'category_Restaurants', 'category_Robots',\n",
       "       'category_Rock', 'category_Romance', 'category_Science Fiction',\n",
       "       'category_Sculpture', 'category_Shorts', 'category_Small Batch',\n",
       "       'category_Software', 'category_Sound',\n",
       "       'category_Space Exploration', 'category_Spaces',\n",
       "       'category_Stationery', 'category_Tabletop Games',\n",
       "       'category_Taxidermy', 'category_Technology', 'category_Television',\n",
       "       'category_Textiles', 'category_Theater', 'category_Thrillers',\n",
       "       'category_Translations', 'category_Typography', 'category_Vegan',\n",
       "       'category_Video', 'category_Video Art', 'category_Video Games',\n",
       "       'category_Wearables', 'category_Weaving', 'category_Web',\n",
       "       'category_Webcomics', 'category_Webseries', 'category_Woodworking',\n",
       "       'category_Workshops', 'category_World Music',\n",
       "       'category_Young Adult', 'category_Zines', 'main_cat_Art',\n",
       "       'main_cat_Comics', 'main_cat_Crafts', 'main_cat_Dance',\n",
       "       'main_cat_Design', 'main_cat_Fashion', 'main_cat_Film & Video',\n",
       "       'main_cat_Food', 'main_cat_Games', 'main_cat_Journalism',\n",
       "       'main_cat_Music', 'main_cat_Photography', 'main_cat_Publishing',\n",
       "       'main_cat_Technology', 'main_cat_Theater'], dtype=object)"
      ]
     },
     "execution_count": 9,
     "metadata": {},
     "output_type": "execute_result"
    }
   ],
   "source": [
    "# No mistakes/errors. 1-of-K encoding. Declare categorical\n",
    "raw_data['main_category'] = pd.Categorical(raw_data['main_category'])\n",
    "\n",
    "# 1-of-K and combine w/ raw data\n",
    "main_cat_Dummies = pd.get_dummies(raw_data['main_category'], prefix = 'main_cat')\n",
    "raw_data = pd.concat([raw_data, main_cat_Dummies], axis=1)\n",
    "\n",
    "# Check columns\n",
    "raw_data.columns.values"
   ]
  },
  {
   "cell_type": "code",
   "execution_count": 10,
   "metadata": {},
   "outputs": [
    {
     "name": "stdout",
     "output_type": "stream",
     "text": [
      "---- No empty strings/None values detected ----\n",
      "['AUD', 'CAD', 'CHF', 'DKK', 'EUR', 'GBP', 'HKD', 'JPY', 'MXN', 'NOK', 'NZD', 'SEK', 'SGD', 'USD']\n"
     ]
    }
   ],
   "source": [
    "# Now for currencies. Let's view them:\n",
    "cur = raw_data.loc[:,'currency']\n",
    "if cur.isnull().values.any():\n",
    "    print('---- Empty string/None values detected ----')\n",
    "else:\n",
    "    print('---- No empty strings/None values detected ----')\n",
    "    cur_sort = sorted(set(cur))\n",
    "    print(cur_sort)"
   ]
  },
  {
   "cell_type": "code",
   "execution_count": 11,
   "metadata": {},
   "outputs": [
    {
     "data": {
      "text/plain": [
       "array(['ID', 'name', 'category', 'main_category', 'currency', 'deadline',\n",
       "       'goal', 'launched', 'pledged', 'state', 'backers', 'country',\n",
       "       'usd pledged', 'usd_pledged_real', 'usd_goal_real',\n",
       "       'category_3D Printing', 'category_Academic',\n",
       "       'category_Accessories', 'category_Action', 'category_Animals',\n",
       "       'category_Animation', 'category_Anthologies', 'category_Apparel',\n",
       "       'category_Apps', 'category_Architecture', 'category_Art',\n",
       "       'category_Art Books', 'category_Audio', 'category_Bacon',\n",
       "       'category_Blues', 'category_Calendars',\n",
       "       'category_Camera Equipment', 'category_Candles',\n",
       "       'category_Ceramics', \"category_Children's Books\",\n",
       "       'category_Childrenswear', 'category_Chiptune',\n",
       "       'category_Civic Design', 'category_Classical Music',\n",
       "       'category_Comedy', 'category_Comic Books', 'category_Comics',\n",
       "       'category_Community Gardens', 'category_Conceptual Art',\n",
       "       'category_Cookbooks', 'category_Country & Folk',\n",
       "       'category_Couture', 'category_Crafts', 'category_Crochet',\n",
       "       'category_DIY', 'category_DIY Electronics', 'category_Dance',\n",
       "       'category_Design', 'category_Digital Art', 'category_Documentary',\n",
       "       'category_Drama', 'category_Drinks', 'category_Electronic Music',\n",
       "       'category_Embroidery', 'category_Events', 'category_Experimental',\n",
       "       'category_Fabrication Tools', 'category_Faith', 'category_Family',\n",
       "       'category_Fantasy', \"category_Farmer's Markets\", 'category_Farms',\n",
       "       'category_Fashion', 'category_Festivals', 'category_Fiction',\n",
       "       'category_Film & Video', 'category_Fine Art', 'category_Flight',\n",
       "       'category_Food', 'category_Food Trucks', 'category_Footwear',\n",
       "       'category_Gadgets', 'category_Games', 'category_Gaming Hardware',\n",
       "       'category_Glass', 'category_Graphic Design',\n",
       "       'category_Graphic Novels', 'category_Hardware', 'category_Hip-Hop',\n",
       "       'category_Horror', 'category_Illustration', 'category_Immersive',\n",
       "       'category_Indie Rock', 'category_Installations',\n",
       "       'category_Interactive Design', 'category_Jazz', 'category_Jewelry',\n",
       "       'category_Journalism', 'category_Kids', 'category_Knitting',\n",
       "       'category_Latin', 'category_Letterpress',\n",
       "       'category_Literary Journals', 'category_Literary Spaces',\n",
       "       'category_Live Games', 'category_Makerspaces', 'category_Metal',\n",
       "       'category_Mixed Media', 'category_Mobile Games',\n",
       "       'category_Movie Theaters', 'category_Music',\n",
       "       'category_Music Videos', 'category_Musical',\n",
       "       'category_Narrative Film', 'category_Nature',\n",
       "       'category_Nonfiction', 'category_Painting', 'category_People',\n",
       "       'category_Performance Art', 'category_Performances',\n",
       "       'category_Periodicals', 'category_Pet Fashion', 'category_Photo',\n",
       "       'category_Photobooks', 'category_Photography', 'category_Places',\n",
       "       'category_Playing Cards', 'category_Plays', 'category_Poetry',\n",
       "       'category_Pop', 'category_Pottery', 'category_Print',\n",
       "       'category_Printing', 'category_Product Design',\n",
       "       'category_Public Art', 'category_Publishing', 'category_Punk',\n",
       "       'category_Puzzles', 'category_Quilts', 'category_R&B',\n",
       "       'category_Radio & Podcasts', 'category_Ready-to-wear',\n",
       "       'category_Residencies', 'category_Restaurants', 'category_Robots',\n",
       "       'category_Rock', 'category_Romance', 'category_Science Fiction',\n",
       "       'category_Sculpture', 'category_Shorts', 'category_Small Batch',\n",
       "       'category_Software', 'category_Sound',\n",
       "       'category_Space Exploration', 'category_Spaces',\n",
       "       'category_Stationery', 'category_Tabletop Games',\n",
       "       'category_Taxidermy', 'category_Technology', 'category_Television',\n",
       "       'category_Textiles', 'category_Theater', 'category_Thrillers',\n",
       "       'category_Translations', 'category_Typography', 'category_Vegan',\n",
       "       'category_Video', 'category_Video Art', 'category_Video Games',\n",
       "       'category_Wearables', 'category_Weaving', 'category_Web',\n",
       "       'category_Webcomics', 'category_Webseries', 'category_Woodworking',\n",
       "       'category_Workshops', 'category_World Music',\n",
       "       'category_Young Adult', 'category_Zines', 'main_cat_Art',\n",
       "       'main_cat_Comics', 'main_cat_Crafts', 'main_cat_Dance',\n",
       "       'main_cat_Design', 'main_cat_Fashion', 'main_cat_Film & Video',\n",
       "       'main_cat_Food', 'main_cat_Games', 'main_cat_Journalism',\n",
       "       'main_cat_Music', 'main_cat_Photography', 'main_cat_Publishing',\n",
       "       'main_cat_Technology', 'main_cat_Theater', 'currency_AUD',\n",
       "       'currency_CAD', 'currency_CHF', 'currency_DKK', 'currency_EUR',\n",
       "       'currency_GBP', 'currency_HKD', 'currency_JPY', 'currency_MXN',\n",
       "       'currency_NOK', 'currency_NZD', 'currency_SEK', 'currency_SGD',\n",
       "       'currency_USD'], dtype=object)"
      ]
     },
     "execution_count": 11,
     "metadata": {},
     "output_type": "execute_result"
    }
   ],
   "source": [
    "# No mistakes/errors. Declare categorical\n",
    "raw_data['currency'] = pd.Categorical(raw_data['currency'])\n",
    "\n",
    "# 1-of-K and combine w/ raw data\n",
    "cur_Dummies = pd.get_dummies(raw_data['currency'], prefix = 'currency')\n",
    "raw_data = pd.concat([raw_data, cur_Dummies], axis=1)\n",
    "\n",
    "# Check columns\n",
    "raw_data.columns.values"
   ]
  },
  {
   "cell_type": "code",
   "execution_count": 12,
   "metadata": {},
   "outputs": [
    {
     "name": "stdout",
     "output_type": "stream",
     "text": [
      "12 projects with implausible starting date were found and removed.\n"
     ]
    },
    {
     "data": {
      "text/plain": [
       "True"
      ]
     },
     "execution_count": 12,
     "metadata": {},
     "output_type": "execute_result"
    }
   ],
   "source": [
    "# As far as the dates go, we'd like to exclude projects that started\n",
    "# before April of 2009 and projects that ended after September of 2018\n",
    "# (we only want to look at finished projects)\n",
    "\n",
    "raw_data['launched'] = pd.to_datetime(raw_data['launched'])\n",
    "raw_data['deadline'] = pd.to_datetime(raw_data['deadline'])\n",
    "print(len(raw_data[raw_data['launched'] < pd.Timestamp('2009-04-28')]), \\\n",
    "     'projects with implausible starting date were found and removed.')\n",
    "\n",
    "# There are 12 observations that started before Kickstarter's founding.\n",
    "# These are removed and checked:\n",
    "raw_data = raw_data[raw_data['launched'] >= pd.Timestamp('2009-04-28')]\n",
    "len(raw_data[raw_data['launched'] < pd.Timestamp('2009-04-28')]) == 0"
   ]
  },
  {
   "cell_type": "code",
   "execution_count": 13,
   "metadata": {},
   "outputs": [
    {
     "name": "stdout",
     "output_type": "stream",
     "text": [
      "---- No empty strings/None values detected ----\n",
      "---- No empty strings/None values detected ----\n"
     ]
    }
   ],
   "source": [
    "# Check dates for missing values\n",
    "if raw_data.launched.isnull().values.any():\n",
    "    print('---- Empty string/None values detected ----')\n",
    "else:\n",
    "    print('---- No empty strings/None values detected ----')\n",
    "    \n",
    "if raw_data.deadline.isnull().values.any():\n",
    "    print('---- Empty string/None values detected ----')\n",
    "else:\n",
    "    print('---- No empty strings/None values detected ----')"
   ]
  },
  {
   "cell_type": "code",
   "execution_count": 14,
   "metadata": {},
   "outputs": [],
   "source": [
    "# Now we'd like to go from \"launched\" and \"deadline\"\n",
    "# to \"duration\" (in days), \"yearlaunched\", \"monthlaunched\"\n",
    "# and the number of the month after the founding of Kickstarter\n",
    "\n",
    "# Year launched \n",
    "raw_data['yearlaunched'] = pd.DatetimeIndex(raw_data['launched']).year\n",
    "# Month launched \n",
    "raw_data['monthlaunched'] = pd.DatetimeIndex(raw_data['launched']).month\n",
    "\n",
    "# Make a new coloum with the new duration\n",
    "raw_data['duration']=(raw_data['deadline']-raw_data['launched']).astype('timedelta64[h]')/24"
   ]
  },
  {
   "cell_type": "code",
   "execution_count": 15,
   "metadata": {},
   "outputs": [
    {
     "data": {
      "text/plain": [
       "Index(['ID', 'name', 'category', 'main_category', 'currency', 'deadline',\n",
       "       'goal', 'launched', 'pledged', 'state',\n",
       "       ...\n",
       "       'currency_MXN', 'currency_NOK', 'currency_NZD', 'currency_SEK',\n",
       "       'currency_SGD', 'currency_USD', 'yearlaunched', 'monthlaunched',\n",
       "       'duration', 'month_absolute'],\n",
       "      dtype='object', length=207)"
      ]
     },
     "execution_count": 15,
     "metadata": {},
     "output_type": "execute_result"
    }
   ],
   "source": [
    "# Kickstarter was founded in April 2009. We'll assign this April \n",
    "# to the value zero and count up 1 for every month after that\n",
    "# (e.g. June 2010 = 13)\n",
    "year_month = raw_data[['yearlaunched', 'monthlaunched']]\n",
    "\n",
    "# (-5) at the end to make May the first month\n",
    "month_absolute = (year_month.iloc[:, 0] - 2009) * 12 + (year_month.iloc[:, 1] - 5)\n",
    "\n",
    "# add to dataframe\n",
    "raw_data['month_absolute'] = month_absolute\n",
    "raw_data.columns"
   ]
  },
  {
   "cell_type": "code",
   "execution_count": 16,
   "metadata": {},
   "outputs": [
    {
     "name": "stdout",
     "output_type": "stream",
     "text": [
      "---- No empty strings/None values detected ----\n",
      "[2009, 2010, 2011, 2012, 2013, 2014, 2015, 2016, 2017, 2018]\n"
     ]
    }
   ],
   "source": [
    "# Let's 1-of-K the yearlaunched attribute\n",
    "# Check for missing values\n",
    "if raw_data.yearlaunched.isnull().values.any():\n",
    "    print('---- Empty string/None values detected ----')\n",
    "else:\n",
    "    yr = raw_data.yearlaunched\n",
    "    print('---- No empty strings/None values detected ----')\n",
    "    yr_sort = sorted(set(yr))\n",
    "    print(yr_sort)"
   ]
  },
  {
   "cell_type": "code",
   "execution_count": 17,
   "metadata": {},
   "outputs": [
    {
     "data": {
      "text/plain": [
       "[2009, 2010, 2011, 2012, 2013, 2014, 2015, 2016, 2017]"
      ]
     },
     "execution_count": 17,
     "metadata": {},
     "output_type": "execute_result"
    }
   ],
   "source": [
    "# somehow 2 projects from 2018 still made it into yr_sort\n",
    "# we don't want these\n",
    "del yr_sort[-1]\n",
    "yr_sort"
   ]
  },
  {
   "cell_type": "code",
   "execution_count": 18,
   "metadata": {},
   "outputs": [],
   "source": [
    "# No mistakes/errors. Declare categorical\n",
    "raw_data['yearlaunched'] = pd.Categorical(raw_data['yearlaunched'])\n",
    "\n",
    "# 1-of-K and combine w/ raw data\n",
    "yr_Dummies = pd.get_dummies(raw_data['yearlaunched'], prefix = 'yearlaunched')\n",
    "raw_data = pd.concat([raw_data, yr_Dummies], axis=1)"
   ]
  },
  {
   "cell_type": "code",
   "execution_count": 19,
   "metadata": {},
   "outputs": [
    {
     "name": "stdout",
     "output_type": "stream",
     "text": [
      "457 projects with implausible project duration were found and removed.\n"
     ]
    },
    {
     "data": {
      "text/plain": [
       "True"
      ]
     },
     "execution_count": 19,
     "metadata": {},
     "output_type": "execute_result"
    }
   ],
   "source": [
    "# Kickstarter projects used to have a max duration of 90 days (now 60 days).\n",
    "# Therefore we'd like to cut the projects that have a duration of over 90 days.\n",
    "print(len(raw_data[raw_data['duration'] > 90]), \\\n",
    "     'projects with implausible project duration were found and removed.')\n",
    "\n",
    "# There are 457 such projects. Cut and check:\n",
    "raw_data = raw_data[raw_data['duration'] < 90]\n",
    "len(raw_data[raw_data['duration'] > 90]) == 0"
   ]
  },
  {
   "cell_type": "code",
   "execution_count": 20,
   "metadata": {},
   "outputs": [
    {
     "name": "stdout",
     "output_type": "stream",
     "text": [
      "---- No empty strings/None values detected ----\n",
      "['canceled', 'failed', 'live', 'successful', 'suspended', 'undefined']\n"
     ]
    }
   ],
   "source": [
    "# Now for the states. Let's view them:\n",
    "states = raw_data['state']\n",
    "if states.isnull().values.any():\n",
    "    print('---- Empty string/None values detected ----')\n",
    "else:\n",
    "    print('---- No empty strings/None values detected ----')\n",
    "    states_sort = sorted(set(states))\n",
    "    print(states_sort)\n",
    "\n",
    "# We inspect the states_sort vector and don't\n",
    "# find any mistakes/errors. We do, however, have canceled, failed, suspended,\n",
    "# undefined, and live projects."
   ]
  },
  {
   "cell_type": "code",
   "execution_count": 21,
   "metadata": {},
   "outputs": [
    {
     "name": "stdout",
     "output_type": "stream",
     "text": [
      "                ID                                               name  \\\n",
      "169     1000694855                      STREETFIGHTERZ WHEELIE MURICA   \n",
      "328      100149523                        Duncan Woods - Chameleon EP   \n",
      "632     1003023003          The Making of Ashley Kelley's Debut Album   \n",
      "647     1003130892                       Butter Side Down Debut Album   \n",
      "749     1003629045                            Chase Goehring debut EP   \n",
      "...            ...                                                ...   \n",
      "378233   997971307  EQUUS International Film Festival®, all-equine...   \n",
      "378303   998319149                            Emily 2050 - Short Film   \n",
      "378434     9988744                             Matthew Stephens Music   \n",
      "378585   999610349     Lady Vendredi: Afrofuturist concept 12 inch EP   \n",
      "378588   999621278                     Jeune auteur a besoin de vous!   \n",
      "\n",
      "            category main_category currency   deadline     goal  \\\n",
      "169     Film & Video  Film & Video      USD 2014-09-20 6,500.00   \n",
      "328            Music         Music      AUD 2015-08-25 4,500.00   \n",
      "632            Music         Music      USD 2015-04-09 3,500.00   \n",
      "647            Music         Music      USD 2015-11-26 6,000.00   \n",
      "749            Music         Music      USD 2016-03-21 3,000.00   \n",
      "...              ...           ...      ...        ...      ...   \n",
      "378233  Film & Video  Film & Video      USD 2015-02-03 7,500.00   \n",
      "378303  Film & Video  Film & Video      CAD 2014-05-23 3,000.00   \n",
      "378434         Music         Music      USD 2016-02-05 5,000.00   \n",
      "378585         Music         Music      GBP 2015-10-19 2,000.00   \n",
      "378588    Publishing    Publishing      EUR 2015-11-20 1,600.00   \n",
      "\n",
      "                  launched  pledged      state        ...          \\\n",
      "169    2014-08-06 21:28:36   555.00  undefined        ...           \n",
      "328    2015-08-04 12:05:17 4,767.00  undefined        ...           \n",
      "632    2015-03-10 20:06:13 3,576.00  undefined        ...           \n",
      "647    2015-11-02 22:09:19 7,007.80  undefined        ...           \n",
      "749    2016-02-23 03:09:49 3,660.38  undefined        ...           \n",
      "...                    ...      ...        ...        ...           \n",
      "378233 2014-12-05 04:19:14    10.00  undefined        ...           \n",
      "378303 2014-04-08 00:30:09 3,102.00  undefined        ...           \n",
      "378434 2016-01-06 21:59:23   235.00  undefined        ...           \n",
      "378585 2015-09-21 22:33:18 2,125.00  undefined        ...           \n",
      "378588 2015-10-21 21:28:13     0.00  undefined        ...           \n",
      "\n",
      "        yearlaunched_2009 yearlaunched_2010  yearlaunched_2011  \\\n",
      "169                     0                 0                  0   \n",
      "328                     0                 0                  0   \n",
      "632                     0                 0                  0   \n",
      "647                     0                 0                  0   \n",
      "749                     0                 0                  0   \n",
      "...                   ...               ...                ...   \n",
      "378233                  0                 0                  0   \n",
      "378303                  0                 0                  0   \n",
      "378434                  0                 0                  0   \n",
      "378585                  0                 0                  0   \n",
      "378588                  0                 0                  0   \n",
      "\n",
      "        yearlaunched_2012  yearlaunched_2013  yearlaunched_2014  \\\n",
      "169                     0                  0                  1   \n",
      "328                     0                  0                  0   \n",
      "632                     0                  0                  0   \n",
      "647                     0                  0                  0   \n",
      "749                     0                  0                  0   \n",
      "...                   ...                ...                ...   \n",
      "378233                  0                  0                  1   \n",
      "378303                  0                  0                  1   \n",
      "378434                  0                  0                  0   \n",
      "378585                  0                  0                  0   \n",
      "378588                  0                  0                  0   \n",
      "\n",
      "        yearlaunched_2015  yearlaunched_2016  yearlaunched_2017  \\\n",
      "169                     0                  0                  0   \n",
      "328                     1                  0                  0   \n",
      "632                     1                  0                  0   \n",
      "647                     1                  0                  0   \n",
      "749                     0                  1                  0   \n",
      "...                   ...                ...                ...   \n",
      "378233                  0                  0                  0   \n",
      "378303                  0                  0                  0   \n",
      "378434                  0                  1                  0   \n",
      "378585                  1                  0                  0   \n",
      "378588                  1                  0                  0   \n",
      "\n",
      "        yearlaunched_2018  \n",
      "169                     0  \n",
      "328                     0  \n",
      "632                     0  \n",
      "647                     0  \n",
      "749                     0  \n",
      "...                   ...  \n",
      "378233                  0  \n",
      "378303                  0  \n",
      "378434                  0  \n",
      "378585                  0  \n",
      "378588                  0  \n",
      "\n",
      "[3562 rows x 217 columns]\n"
     ]
    }
   ],
   "source": [
    "# Let's start by inspecting at the undefined.\n",
    "undefined = raw_data[states == 'undefined']\n",
    "print(undefined)"
   ]
  },
  {
   "cell_type": "code",
   "execution_count": 22,
   "metadata": {},
   "outputs": [
    {
     "name": "stdout",
     "output_type": "stream",
     "text": [
      "99.7 percent of undefined projects were in categories \"Music\", \"Publishing\" or \"Film & Video\". \n",
      "All undefined projects were removed.\n"
     ]
    },
    {
     "data": {
      "text/plain": [
       "True"
      ]
     },
     "execution_count": 22,
     "metadata": {},
     "output_type": "execute_result"
    }
   ],
   "source": [
    "# Seems like most of the undefined are in main categories \"Music\",\n",
    "# \"Publishing\" or \"Film & Video\":\n",
    "percent_undefined = (len(undefined[undefined['main_category'] == 'Music'])+ \\\n",
    "       len(undefined[undefined['main_category'] == 'Publishing'])+ \\\n",
    "       len(undefined[undefined['main_category'] == 'Film & Video']))/len(undefined)\n",
    "\n",
    "print('%.1f' % float(percent_undefined*100), \\\n",
    "      'percent of undefined projects were in categories \"Music\", \"Publishing\" or \"Film & Video\".',\\\n",
    "     '\\nAll undefined projects were removed.')\n",
    "\n",
    "# Based on what we're doing, we can't really use undefined \n",
    "# projects for anything, so we'll take these rows out.\n",
    "raw_data = raw_data[raw_data['state'] != 'undefined']\n",
    "len(raw_data[raw_data['state'] == 'undefined']) == 0"
   ]
  },
  {
   "cell_type": "code",
   "execution_count": 23,
   "metadata": {},
   "outputs": [
    {
     "name": "stdout",
     "output_type": "stream",
     "text": [
      "1845 paused projects were removed from the dataset.\n"
     ]
    },
    {
     "data": {
      "text/plain": [
       "True"
      ]
     },
     "execution_count": 23,
     "metadata": {},
     "output_type": "execute_result"
    }
   ],
   "source": [
    "# Let's inspect the paused projects.\n",
    "print(len(raw_data[raw_data['state'] == 'suspended']), \\\n",
    "      'paused projects were removed from the dataset.')\n",
    "\n",
    "# There are about 1800 of these. We'll take them out as well, since they don't\n",
    "# help us.\n",
    "raw_data = raw_data[raw_data['state'] != 'suspended']\n",
    "len(raw_data[raw_data['state'] == 'suspended']) == 0"
   ]
  },
  {
   "cell_type": "code",
   "execution_count": 24,
   "metadata": {},
   "outputs": [
    {
     "name": "stdout",
     "output_type": "stream",
     "text": [
      "38751 projects with status \"canceled\".\n"
     ]
    }
   ],
   "source": [
    "# Now for canceled projects:\n",
    "print(len(raw_data[raw_data['state'] == 'canceled']), 'projects with status \"canceled\".')\n",
    "\n",
    "# About 10% of projects in the data set have been canceled. Let's keep these\n",
    "# in and see if the algorithm can guess which projects will be canceled."
   ]
  },
  {
   "cell_type": "code",
   "execution_count": 25,
   "metadata": {},
   "outputs": [
    {
     "data": {
      "text/html": [
       "<div>\n",
       "<style scoped>\n",
       "    .dataframe tbody tr th:only-of-type {\n",
       "        vertical-align: middle;\n",
       "    }\n",
       "\n",
       "    .dataframe tbody tr th {\n",
       "        vertical-align: top;\n",
       "    }\n",
       "\n",
       "    .dataframe thead th {\n",
       "        text-align: right;\n",
       "    }\n",
       "</style>\n",
       "<table border=\"1\" class=\"dataframe\">\n",
       "  <thead>\n",
       "    <tr style=\"text-align: right;\">\n",
       "      <th></th>\n",
       "      <th>ID</th>\n",
       "      <th>name</th>\n",
       "      <th>category</th>\n",
       "      <th>main_category</th>\n",
       "      <th>currency</th>\n",
       "      <th>deadline</th>\n",
       "      <th>goal</th>\n",
       "      <th>launched</th>\n",
       "      <th>pledged</th>\n",
       "      <th>state</th>\n",
       "      <th>...</th>\n",
       "      <th>yearlaunched_2009</th>\n",
       "      <th>yearlaunched_2010</th>\n",
       "      <th>yearlaunched_2011</th>\n",
       "      <th>yearlaunched_2012</th>\n",
       "      <th>yearlaunched_2013</th>\n",
       "      <th>yearlaunched_2014</th>\n",
       "      <th>yearlaunched_2015</th>\n",
       "      <th>yearlaunched_2016</th>\n",
       "      <th>yearlaunched_2017</th>\n",
       "      <th>yearlaunched_2018</th>\n",
       "    </tr>\n",
       "  </thead>\n",
       "  <tbody>\n",
       "    <tr>\n",
       "      <th>371277</th>\n",
       "      <td>961951460</td>\n",
       "      <td>Jahque Inc. is merging with Reesi's Cakes 'N T...</td>\n",
       "      <td>Events</td>\n",
       "      <td>Food</td>\n",
       "      <td>USD</td>\n",
       "      <td>2016-05-05</td>\n",
       "      <td>25,000.00</td>\n",
       "      <td>2016-04-05 06:01:09</td>\n",
       "      <td>0.00</td>\n",
       "      <td>live</td>\n",
       "      <td>...</td>\n",
       "      <td>0</td>\n",
       "      <td>0</td>\n",
       "      <td>0</td>\n",
       "      <td>0</td>\n",
       "      <td>0</td>\n",
       "      <td>0</td>\n",
       "      <td>0</td>\n",
       "      <td>1</td>\n",
       "      <td>0</td>\n",
       "      <td>0</td>\n",
       "    </tr>\n",
       "    <tr>\n",
       "      <th>339521</th>\n",
       "      <td>79946509</td>\n",
       "      <td>Omnicharge: Smart &amp; Compact Portable Power Bank</td>\n",
       "      <td>Gadgets</td>\n",
       "      <td>Technology</td>\n",
       "      <td>USD</td>\n",
       "      <td>2016-08-08</td>\n",
       "      <td>8,000.00</td>\n",
       "      <td>2016-07-25 23:57:23</td>\n",
       "      <td>7,035.00</td>\n",
       "      <td>live</td>\n",
       "      <td>...</td>\n",
       "      <td>0</td>\n",
       "      <td>0</td>\n",
       "      <td>0</td>\n",
       "      <td>0</td>\n",
       "      <td>0</td>\n",
       "      <td>0</td>\n",
       "      <td>0</td>\n",
       "      <td>1</td>\n",
       "      <td>0</td>\n",
       "      <td>0</td>\n",
       "    </tr>\n",
       "    <tr>\n",
       "      <th>304386</th>\n",
       "      <td>619709625</td>\n",
       "      <td>Escapsim</td>\n",
       "      <td>Film &amp; Video</td>\n",
       "      <td>Film &amp; Video</td>\n",
       "      <td>USD</td>\n",
       "      <td>2017-02-16</td>\n",
       "      <td>5,000.00</td>\n",
       "      <td>2017-01-07 21:54:19</td>\n",
       "      <td>30.00</td>\n",
       "      <td>live</td>\n",
       "      <td>...</td>\n",
       "      <td>0</td>\n",
       "      <td>0</td>\n",
       "      <td>0</td>\n",
       "      <td>0</td>\n",
       "      <td>0</td>\n",
       "      <td>0</td>\n",
       "      <td>0</td>\n",
       "      <td>0</td>\n",
       "      <td>1</td>\n",
       "      <td>0</td>\n",
       "    </tr>\n",
       "    <tr>\n",
       "      <th>19716</th>\n",
       "      <td>1100111323</td>\n",
       "      <td>DAWSON HOLLOW</td>\n",
       "      <td>Indie Rock</td>\n",
       "      <td>Music</td>\n",
       "      <td>USD</td>\n",
       "      <td>2017-04-20</td>\n",
       "      <td>40,000.00</td>\n",
       "      <td>2017-03-17 18:06:01</td>\n",
       "      <td>20.00</td>\n",
       "      <td>live</td>\n",
       "      <td>...</td>\n",
       "      <td>0</td>\n",
       "      <td>0</td>\n",
       "      <td>0</td>\n",
       "      <td>0</td>\n",
       "      <td>0</td>\n",
       "      <td>0</td>\n",
       "      <td>0</td>\n",
       "      <td>0</td>\n",
       "      <td>1</td>\n",
       "      <td>0</td>\n",
       "    </tr>\n",
       "    <tr>\n",
       "      <th>229599</th>\n",
       "      <td>237278551</td>\n",
       "      <td>Flyboard Air®</td>\n",
       "      <td>Technology</td>\n",
       "      <td>Technology</td>\n",
       "      <td>EUR</td>\n",
       "      <td>2017-08-15</td>\n",
       "      <td>250,000.00</td>\n",
       "      <td>2017-07-16 14:56:18</td>\n",
       "      <td>520.00</td>\n",
       "      <td>live</td>\n",
       "      <td>...</td>\n",
       "      <td>0</td>\n",
       "      <td>0</td>\n",
       "      <td>0</td>\n",
       "      <td>0</td>\n",
       "      <td>0</td>\n",
       "      <td>0</td>\n",
       "      <td>0</td>\n",
       "      <td>0</td>\n",
       "      <td>1</td>\n",
       "      <td>0</td>\n",
       "    </tr>\n",
       "    <tr>\n",
       "      <th>...</th>\n",
       "      <td>...</td>\n",
       "      <td>...</td>\n",
       "      <td>...</td>\n",
       "      <td>...</td>\n",
       "      <td>...</td>\n",
       "      <td>...</td>\n",
       "      <td>...</td>\n",
       "      <td>...</td>\n",
       "      <td>...</td>\n",
       "      <td>...</td>\n",
       "      <td>...</td>\n",
       "      <td>...</td>\n",
       "      <td>...</td>\n",
       "      <td>...</td>\n",
       "      <td>...</td>\n",
       "      <td>...</td>\n",
       "      <td>...</td>\n",
       "      <td>...</td>\n",
       "      <td>...</td>\n",
       "      <td>...</td>\n",
       "      <td>...</td>\n",
       "    </tr>\n",
       "    <tr>\n",
       "      <th>260693</th>\n",
       "      <td>396064457</td>\n",
       "      <td>Deaths of Athazar</td>\n",
       "      <td>Games</td>\n",
       "      <td>Games</td>\n",
       "      <td>USD</td>\n",
       "      <td>2018-03-02</td>\n",
       "      <td>15,000.00</td>\n",
       "      <td>2018-01-01 13:27:13</td>\n",
       "      <td>1.00</td>\n",
       "      <td>live</td>\n",
       "      <td>...</td>\n",
       "      <td>0</td>\n",
       "      <td>0</td>\n",
       "      <td>0</td>\n",
       "      <td>0</td>\n",
       "      <td>0</td>\n",
       "      <td>0</td>\n",
       "      <td>0</td>\n",
       "      <td>0</td>\n",
       "      <td>0</td>\n",
       "      <td>1</td>\n",
       "    </tr>\n",
       "    <tr>\n",
       "      <th>292034</th>\n",
       "      <td>55596200</td>\n",
       "      <td>Plateforme de statistiques</td>\n",
       "      <td>Apps</td>\n",
       "      <td>Technology</td>\n",
       "      <td>EUR</td>\n",
       "      <td>2018-03-02</td>\n",
       "      <td>9,000.00</td>\n",
       "      <td>2018-01-01 15:40:26</td>\n",
       "      <td>0.00</td>\n",
       "      <td>live</td>\n",
       "      <td>...</td>\n",
       "      <td>0</td>\n",
       "      <td>0</td>\n",
       "      <td>0</td>\n",
       "      <td>0</td>\n",
       "      <td>0</td>\n",
       "      <td>0</td>\n",
       "      <td>0</td>\n",
       "      <td>0</td>\n",
       "      <td>0</td>\n",
       "      <td>1</td>\n",
       "    </tr>\n",
       "    <tr>\n",
       "      <th>226982</th>\n",
       "      <td>22387366</td>\n",
       "      <td>Nerd Collect</td>\n",
       "      <td>Apps</td>\n",
       "      <td>Technology</td>\n",
       "      <td>GBP</td>\n",
       "      <td>2018-03-03</td>\n",
       "      <td>150,000.00</td>\n",
       "      <td>2018-01-02 03:26:52</td>\n",
       "      <td>0.00</td>\n",
       "      <td>live</td>\n",
       "      <td>...</td>\n",
       "      <td>0</td>\n",
       "      <td>0</td>\n",
       "      <td>0</td>\n",
       "      <td>0</td>\n",
       "      <td>0</td>\n",
       "      <td>0</td>\n",
       "      <td>0</td>\n",
       "      <td>0</td>\n",
       "      <td>0</td>\n",
       "      <td>1</td>\n",
       "    </tr>\n",
       "    <tr>\n",
       "      <th>7164</th>\n",
       "      <td>1036415983</td>\n",
       "      <td>Aikyam : Onnu</td>\n",
       "      <td>Music</td>\n",
       "      <td>Music</td>\n",
       "      <td>USD</td>\n",
       "      <td>2018-03-03</td>\n",
       "      <td>10,000.00</td>\n",
       "      <td>2018-01-02 08:11:58</td>\n",
       "      <td>174.00</td>\n",
       "      <td>live</td>\n",
       "      <td>...</td>\n",
       "      <td>0</td>\n",
       "      <td>0</td>\n",
       "      <td>0</td>\n",
       "      <td>0</td>\n",
       "      <td>0</td>\n",
       "      <td>0</td>\n",
       "      <td>0</td>\n",
       "      <td>0</td>\n",
       "      <td>0</td>\n",
       "      <td>1</td>\n",
       "    </tr>\n",
       "    <tr>\n",
       "      <th>180250</th>\n",
       "      <td>1916988520</td>\n",
       "      <td>Back in Black Hills Movie</td>\n",
       "      <td>Drama</td>\n",
       "      <td>Film &amp; Video</td>\n",
       "      <td>USD</td>\n",
       "      <td>2018-03-03</td>\n",
       "      <td>5,500.00</td>\n",
       "      <td>2018-01-02 01:16:16</td>\n",
       "      <td>0.00</td>\n",
       "      <td>live</td>\n",
       "      <td>...</td>\n",
       "      <td>0</td>\n",
       "      <td>0</td>\n",
       "      <td>0</td>\n",
       "      <td>0</td>\n",
       "      <td>0</td>\n",
       "      <td>0</td>\n",
       "      <td>0</td>\n",
       "      <td>0</td>\n",
       "      <td>0</td>\n",
       "      <td>1</td>\n",
       "    </tr>\n",
       "  </tbody>\n",
       "</table>\n",
       "<p>2799 rows × 217 columns</p>\n",
       "</div>"
      ],
      "text/plain": [
       "                ID                                               name  \\\n",
       "371277   961951460  Jahque Inc. is merging with Reesi's Cakes 'N T...   \n",
       "339521    79946509    Omnicharge: Smart & Compact Portable Power Bank   \n",
       "304386   619709625                                           Escapsim   \n",
       "19716   1100111323                                      DAWSON HOLLOW   \n",
       "229599   237278551                                      Flyboard Air®   \n",
       "...            ...                                                ...   \n",
       "260693   396064457                                  Deaths of Athazar   \n",
       "292034    55596200                         Plateforme de statistiques   \n",
       "226982    22387366                                       Nerd Collect   \n",
       "7164    1036415983                                      Aikyam : Onnu   \n",
       "180250  1916988520                          Back in Black Hills Movie   \n",
       "\n",
       "            category main_category currency   deadline       goal  \\\n",
       "371277        Events          Food      USD 2016-05-05  25,000.00   \n",
       "339521       Gadgets    Technology      USD 2016-08-08   8,000.00   \n",
       "304386  Film & Video  Film & Video      USD 2017-02-16   5,000.00   \n",
       "19716     Indie Rock         Music      USD 2017-04-20  40,000.00   \n",
       "229599    Technology    Technology      EUR 2017-08-15 250,000.00   \n",
       "...              ...           ...      ...        ...        ...   \n",
       "260693         Games         Games      USD 2018-03-02  15,000.00   \n",
       "292034          Apps    Technology      EUR 2018-03-02   9,000.00   \n",
       "226982          Apps    Technology      GBP 2018-03-03 150,000.00   \n",
       "7164           Music         Music      USD 2018-03-03  10,000.00   \n",
       "180250         Drama  Film & Video      USD 2018-03-03   5,500.00   \n",
       "\n",
       "                  launched  pledged state        ...          \\\n",
       "371277 2016-04-05 06:01:09     0.00  live        ...           \n",
       "339521 2016-07-25 23:57:23 7,035.00  live        ...           \n",
       "304386 2017-01-07 21:54:19    30.00  live        ...           \n",
       "19716  2017-03-17 18:06:01    20.00  live        ...           \n",
       "229599 2017-07-16 14:56:18   520.00  live        ...           \n",
       "...                    ...      ...   ...        ...           \n",
       "260693 2018-01-01 13:27:13     1.00  live        ...           \n",
       "292034 2018-01-01 15:40:26     0.00  live        ...           \n",
       "226982 2018-01-02 03:26:52     0.00  live        ...           \n",
       "7164   2018-01-02 08:11:58   174.00  live        ...           \n",
       "180250 2018-01-02 01:16:16     0.00  live        ...           \n",
       "\n",
       "        yearlaunched_2009 yearlaunched_2010  yearlaunched_2011  \\\n",
       "371277                  0                 0                  0   \n",
       "339521                  0                 0                  0   \n",
       "304386                  0                 0                  0   \n",
       "19716                   0                 0                  0   \n",
       "229599                  0                 0                  0   \n",
       "...                   ...               ...                ...   \n",
       "260693                  0                 0                  0   \n",
       "292034                  0                 0                  0   \n",
       "226982                  0                 0                  0   \n",
       "7164                    0                 0                  0   \n",
       "180250                  0                 0                  0   \n",
       "\n",
       "        yearlaunched_2012  yearlaunched_2013  yearlaunched_2014  \\\n",
       "371277                  0                  0                  0   \n",
       "339521                  0                  0                  0   \n",
       "304386                  0                  0                  0   \n",
       "19716                   0                  0                  0   \n",
       "229599                  0                  0                  0   \n",
       "...                   ...                ...                ...   \n",
       "260693                  0                  0                  0   \n",
       "292034                  0                  0                  0   \n",
       "226982                  0                  0                  0   \n",
       "7164                    0                  0                  0   \n",
       "180250                  0                  0                  0   \n",
       "\n",
       "        yearlaunched_2015  yearlaunched_2016  yearlaunched_2017  \\\n",
       "371277                  0                  1                  0   \n",
       "339521                  0                  1                  0   \n",
       "304386                  0                  0                  1   \n",
       "19716                   0                  0                  1   \n",
       "229599                  0                  0                  1   \n",
       "...                   ...                ...                ...   \n",
       "260693                  0                  0                  0   \n",
       "292034                  0                  0                  0   \n",
       "226982                  0                  0                  0   \n",
       "7164                    0                  0                  0   \n",
       "180250                  0                  0                  0   \n",
       "\n",
       "        yearlaunched_2018  \n",
       "371277                  0  \n",
       "339521                  0  \n",
       "304386                  0  \n",
       "19716                   0  \n",
       "229599                  0  \n",
       "...                   ...  \n",
       "260693                  1  \n",
       "292034                  1  \n",
       "226982                  1  \n",
       "7164                    1  \n",
       "180250                  1  \n",
       "\n",
       "[2799 rows x 217 columns]"
      ]
     },
     "execution_count": 25,
     "metadata": {},
     "output_type": "execute_result"
    }
   ],
   "source": [
    "# Now for live projects:\n",
    "len(raw_data[raw_data['state'] == 'live'])\n",
    "\n",
    "# There are about 2800 of these. The data was pulled in January 2018, so\n",
    "# let's see what that means in terms of end dates.\n",
    "live = raw_data[raw_data['state'] == 'live'].sort_values(by = 'deadline')\n",
    "live"
   ]
  },
  {
   "cell_type": "code",
   "execution_count": 26,
   "metadata": {},
   "outputs": [
    {
     "data": {
      "text/plain": [
       "371277    -25,000.00\n",
       "339521       -965.00\n",
       "304386     -4,970.00\n",
       "19716     -39,980.00\n",
       "229599   -292,889.09\n",
       "44312      -2,680.00\n",
       "178739    -33,394.33\n",
       "dtype: float64"
      ]
     },
     "execution_count": 26,
     "metadata": {},
     "output_type": "execute_result"
    }
   ],
   "source": [
    "# The first 7 examples are mistakes of some sort. Let's see what's up:\n",
    "live.iloc[0:7,:]['usd_pledged_real'] - live.iloc[0:7,:]['usd_goal_real']"
   ]
  },
  {
   "cell_type": "code",
   "execution_count": 27,
   "metadata": {},
   "outputs": [],
   "source": [
    "# Its seems that all these projects actually failed. Let's change their status.\n",
    "# Copy slice\n",
    "notlive = raw_data['state'][raw_data['deadline'] < pd.Timestamp('2018-01-01')][raw_data['state'] == 'live'].copy()\n",
    "\n",
    "# Edit copy\n",
    "for i in range(len(notlive)):\n",
    "    notlive.iloc[i] = 'failed'"
   ]
  },
  {
   "cell_type": "code",
   "execution_count": 28,
   "metadata": {},
   "outputs": [
    {
     "data": {
      "text/plain": [
       "True"
      ]
     },
     "execution_count": 28,
     "metadata": {},
     "output_type": "execute_result"
    }
   ],
   "source": [
    "# Update original dataframe and check\n",
    "raw_data.update(notlive)\n",
    "len(raw_data['state'][raw_data['deadline'] < pd.Timestamp('2018-01-01')][raw_data['state'] == 'live']) == 0\n",
    "\n",
    "# Delete rest of the live values and check\n",
    "raw_data = raw_data[raw_data['state'] != 'live']\n",
    "len(raw_data[raw_data['state'] == 'live']) == 0"
   ]
  },
  {
   "cell_type": "code",
   "execution_count": 29,
   "metadata": {},
   "outputs": [
    {
     "name": "stdout",
     "output_type": "stream",
     "text": [
      "---- No empty strings/None values detected ----\n",
      "['canceled', 'failed', 'successful']\n"
     ]
    }
   ],
   "source": [
    "# Let's view states again\n",
    "states_1 = raw_data.loc[:,'state']\n",
    "if states_1.isnull().values.any():\n",
    "    print('---- Empty string/None values detected ----')\n",
    "else:\n",
    "    print('---- No empty strings/None values detected ----')\n",
    "    states_1_sort = sorted(set(states_1))\n",
    "    print(states_1_sort)"
   ]
  },
  {
   "cell_type": "code",
   "execution_count": 30,
   "metadata": {},
   "outputs": [],
   "source": [
    "# No mistakes/errors. Declare categorical\n",
    "raw_data['state'] = pd.Categorical(raw_data['state'])\n",
    "\n",
    "# 1-of-K and combine w/ raw data\n",
    "state_Dummies = pd.get_dummies(raw_data['state'], prefix = 'state')\n",
    "raw_data = pd.concat([raw_data, state_Dummies], axis=1)"
   ]
  },
  {
   "cell_type": "code",
   "execution_count": 31,
   "metadata": {},
   "outputs": [
    {
     "name": "stdout",
     "output_type": "stream",
     "text": [
      "---- No empty strings/None values detected ----\n"
     ]
    }
   ],
   "source": [
    "# Let's look at backers. Check for missing values\n",
    "if raw_data.backers.isnull().values.any():\n",
    "    print('---- Empty string/None values detected ----')\n",
    "else:\n",
    "    print('---- No empty strings/None values detected ----')"
   ]
  },
  {
   "cell_type": "code",
   "execution_count": 32,
   "metadata": {},
   "outputs": [
    {
     "name": "stdout",
     "output_type": "stream",
     "text": [
      "---- No empty strings/None values detected ----\n",
      "['AT', 'AU', 'BE', 'CA', 'CH', 'DE', 'DK', 'ES', 'FR', 'GB', 'HK', 'IE', 'IT', 'JP', 'LU', 'MX', 'N,0\"', 'NL', 'NO', 'NZ', 'SE', 'SG', 'US']\n"
     ]
    }
   ],
   "source": [
    "# Now for the countries. Let's view them:\n",
    "if raw_data.country.isnull().values.any():\n",
    "    print('---- Empty string/None values detected ----')\n",
    "else:\n",
    "    countries = raw_data.country\n",
    "    print('---- No empty strings/None values detected ----')\n",
    "    countries_sort = sorted(set(countries))\n",
    "    print(countries_sort)"
   ]
  },
  {
   "cell_type": "code",
   "execution_count": 33,
   "metadata": {},
   "outputs": [
    {
     "data": {
      "text/plain": [
       "2457      N,0\"\n",
       "4338      N,0\"\n",
       "4892      N,0\"\n",
       "5353      N,0\"\n",
       "5597      N,0\"\n",
       "          ... \n",
       "371277    N,0\"\n",
       "371387    N,0\"\n",
       "372375    N,0\"\n",
       "375359    N,0\"\n",
       "378188    N,0\"\n",
       "Name: country, Length: 233, dtype: object"
      ]
     },
     "execution_count": 33,
     "metadata": {},
     "output_type": "execute_result"
    }
   ],
   "source": [
    "# 'N,0\"' is clearly a mistake.\n",
    "raw_data.country[raw_data.country == 'N,0\"']"
   ]
  },
  {
   "cell_type": "code",
   "execution_count": 34,
   "metadata": {},
   "outputs": [
    {
     "data": {
      "text/plain": [
       "2457      USD\n",
       "4338      USD\n",
       "4892      USD\n",
       "5353      USD\n",
       "5597      USD\n",
       "         ... \n",
       "371277    USD\n",
       "371387    EUR\n",
       "372375    USD\n",
       "375359    USD\n",
       "378188    USD\n",
       "Name: currency, Length: 233, dtype: category\n",
       "Categories (14, object): [AUD, CAD, CHF, DKK, ..., NZD, SEK, SGD, USD]"
      ]
     },
     "execution_count": 34,
     "metadata": {},
     "output_type": "execute_result"
    }
   ],
   "source": [
    "# For whatever reason there are 233 of these observations. No clue what that\n",
    "# means. Let's check currency for these observations\n",
    "raw_data.currency[raw_data.country == 'N,0\"']"
   ]
  },
  {
   "cell_type": "code",
   "execution_count": 35,
   "metadata": {},
   "outputs": [
    {
     "data": {
      "text/html": [
       "<div>\n",
       "<style scoped>\n",
       "    .dataframe tbody tr th:only-of-type {\n",
       "        vertical-align: middle;\n",
       "    }\n",
       "\n",
       "    .dataframe tbody tr th {\n",
       "        vertical-align: top;\n",
       "    }\n",
       "\n",
       "    .dataframe thead th {\n",
       "        text-align: right;\n",
       "    }\n",
       "</style>\n",
       "<table border=\"1\" class=\"dataframe\">\n",
       "  <thead>\n",
       "    <tr style=\"text-align: right;\">\n",
       "      <th></th>\n",
       "      <th>ID</th>\n",
       "      <th>name</th>\n",
       "      <th>category</th>\n",
       "      <th>main_category</th>\n",
       "      <th>currency</th>\n",
       "      <th>deadline</th>\n",
       "      <th>goal</th>\n",
       "      <th>launched</th>\n",
       "      <th>pledged</th>\n",
       "      <th>state</th>\n",
       "      <th>...</th>\n",
       "      <th>yearlaunched_2012</th>\n",
       "      <th>yearlaunched_2013</th>\n",
       "      <th>yearlaunched_2014</th>\n",
       "      <th>yearlaunched_2015</th>\n",
       "      <th>yearlaunched_2016</th>\n",
       "      <th>yearlaunched_2017</th>\n",
       "      <th>yearlaunched_2018</th>\n",
       "      <th>state_canceled</th>\n",
       "      <th>state_failed</th>\n",
       "      <th>state_successful</th>\n",
       "    </tr>\n",
       "  </thead>\n",
       "  <tbody>\n",
       "    <tr>\n",
       "      <th>289718</th>\n",
       "      <td>544130636</td>\n",
       "      <td>Anabella and The Lost Kingdom-- short film</td>\n",
       "      <td>Film &amp; Video</td>\n",
       "      <td>Film &amp; Video</td>\n",
       "      <td>USD</td>\n",
       "      <td>2016-05-27</td>\n",
       "      <td>4,500.00</td>\n",
       "      <td>2016-05-02 21:02:32</td>\n",
       "      <td>0.00</td>\n",
       "      <td>canceled</td>\n",
       "      <td>...</td>\n",
       "      <td>0</td>\n",
       "      <td>0</td>\n",
       "      <td>0</td>\n",
       "      <td>0</td>\n",
       "      <td>1</td>\n",
       "      <td>0</td>\n",
       "      <td>0</td>\n",
       "      <td>1</td>\n",
       "      <td>0</td>\n",
       "      <td>0</td>\n",
       "    </tr>\n",
       "    <tr>\n",
       "      <th>74887</th>\n",
       "      <td>1381563978</td>\n",
       "      <td>Butterfield VHS Tape Recovery Project</td>\n",
       "      <td>Film &amp; Video</td>\n",
       "      <td>Film &amp; Video</td>\n",
       "      <td>USD</td>\n",
       "      <td>2016-05-29</td>\n",
       "      <td>1,200.00</td>\n",
       "      <td>2016-04-29 22:34:34</td>\n",
       "      <td>0.00</td>\n",
       "      <td>canceled</td>\n",
       "      <td>...</td>\n",
       "      <td>0</td>\n",
       "      <td>0</td>\n",
       "      <td>0</td>\n",
       "      <td>0</td>\n",
       "      <td>1</td>\n",
       "      <td>0</td>\n",
       "      <td>0</td>\n",
       "      <td>1</td>\n",
       "      <td>0</td>\n",
       "      <td>0</td>\n",
       "    </tr>\n",
       "    <tr>\n",
       "      <th>291121</th>\n",
       "      <td>551357943</td>\n",
       "      <td>XHuman</td>\n",
       "      <td>Music</td>\n",
       "      <td>Music</td>\n",
       "      <td>USD</td>\n",
       "      <td>2016-05-27</td>\n",
       "      <td>5,000.00</td>\n",
       "      <td>2016-03-28 16:24:08</td>\n",
       "      <td>0.00</td>\n",
       "      <td>failed</td>\n",
       "      <td>...</td>\n",
       "      <td>0</td>\n",
       "      <td>0</td>\n",
       "      <td>0</td>\n",
       "      <td>0</td>\n",
       "      <td>1</td>\n",
       "      <td>0</td>\n",
       "      <td>0</td>\n",
       "      <td>0</td>\n",
       "      <td>1</td>\n",
       "      <td>0</td>\n",
       "    </tr>\n",
       "    <tr>\n",
       "      <th>42065</th>\n",
       "      <td>121413755</td>\n",
       "      <td>have you seen jordan?</td>\n",
       "      <td>Music</td>\n",
       "      <td>Music</td>\n",
       "      <td>USD</td>\n",
       "      <td>2016-06-22</td>\n",
       "      <td>3,200.00</td>\n",
       "      <td>2016-04-23 06:19:25</td>\n",
       "      <td>0.00</td>\n",
       "      <td>canceled</td>\n",
       "      <td>...</td>\n",
       "      <td>0</td>\n",
       "      <td>0</td>\n",
       "      <td>0</td>\n",
       "      <td>0</td>\n",
       "      <td>1</td>\n",
       "      <td>0</td>\n",
       "      <td>0</td>\n",
       "      <td>1</td>\n",
       "      <td>0</td>\n",
       "      <td>0</td>\n",
       "    </tr>\n",
       "    <tr>\n",
       "      <th>44594</th>\n",
       "      <td>1226622252</td>\n",
       "      <td>Documentary: A Child Of Their Own</td>\n",
       "      <td>Film &amp; Video</td>\n",
       "      <td>Film &amp; Video</td>\n",
       "      <td>USD</td>\n",
       "      <td>2016-05-13</td>\n",
       "      <td>15,000.00</td>\n",
       "      <td>2016-04-28 11:28:39</td>\n",
       "      <td>0.00</td>\n",
       "      <td>canceled</td>\n",
       "      <td>...</td>\n",
       "      <td>0</td>\n",
       "      <td>0</td>\n",
       "      <td>0</td>\n",
       "      <td>0</td>\n",
       "      <td>1</td>\n",
       "      <td>0</td>\n",
       "      <td>0</td>\n",
       "      <td>1</td>\n",
       "      <td>0</td>\n",
       "      <td>0</td>\n",
       "    </tr>\n",
       "    <tr>\n",
       "      <th>...</th>\n",
       "      <td>...</td>\n",
       "      <td>...</td>\n",
       "      <td>...</td>\n",
       "      <td>...</td>\n",
       "      <td>...</td>\n",
       "      <td>...</td>\n",
       "      <td>...</td>\n",
       "      <td>...</td>\n",
       "      <td>...</td>\n",
       "      <td>...</td>\n",
       "      <td>...</td>\n",
       "      <td>...</td>\n",
       "      <td>...</td>\n",
       "      <td>...</td>\n",
       "      <td>...</td>\n",
       "      <td>...</td>\n",
       "      <td>...</td>\n",
       "      <td>...</td>\n",
       "      <td>...</td>\n",
       "      <td>...</td>\n",
       "      <td>...</td>\n",
       "    </tr>\n",
       "    <tr>\n",
       "      <th>368860</th>\n",
       "      <td>949209229</td>\n",
       "      <td>Be A Catalyst!!!! Help Casey Clark make a name...</td>\n",
       "      <td>Music</td>\n",
       "      <td>Music</td>\n",
       "      <td>USD</td>\n",
       "      <td>2016-05-24</td>\n",
       "      <td>8,000.00</td>\n",
       "      <td>2016-03-25 03:54:04</td>\n",
       "      <td>9,625.00</td>\n",
       "      <td>successful</td>\n",
       "      <td>...</td>\n",
       "      <td>0</td>\n",
       "      <td>0</td>\n",
       "      <td>0</td>\n",
       "      <td>0</td>\n",
       "      <td>1</td>\n",
       "      <td>0</td>\n",
       "      <td>0</td>\n",
       "      <td>0</td>\n",
       "      <td>0</td>\n",
       "      <td>1</td>\n",
       "    </tr>\n",
       "    <tr>\n",
       "      <th>170332</th>\n",
       "      <td>1866608144</td>\n",
       "      <td>ensemble, et al. second full-length album —wit...</td>\n",
       "      <td>Music</td>\n",
       "      <td>Music</td>\n",
       "      <td>USD</td>\n",
       "      <td>2016-04-26</td>\n",
       "      <td>8,000.00</td>\n",
       "      <td>2016-03-26 18:56:44</td>\n",
       "      <td>9,897.00</td>\n",
       "      <td>successful</td>\n",
       "      <td>...</td>\n",
       "      <td>0</td>\n",
       "      <td>0</td>\n",
       "      <td>0</td>\n",
       "      <td>0</td>\n",
       "      <td>1</td>\n",
       "      <td>0</td>\n",
       "      <td>0</td>\n",
       "      <td>0</td>\n",
       "      <td>0</td>\n",
       "      <td>1</td>\n",
       "    </tr>\n",
       "    <tr>\n",
       "      <th>264759</th>\n",
       "      <td>416754357</td>\n",
       "      <td>Stixx garland clamp: easiest way to hang up pa...</td>\n",
       "      <td>Product Design</td>\n",
       "      <td>Design</td>\n",
       "      <td>EUR</td>\n",
       "      <td>2016-05-01</td>\n",
       "      <td>10,000.00</td>\n",
       "      <td>2016-04-01 09:07:12</td>\n",
       "      <td>10,063.00</td>\n",
       "      <td>successful</td>\n",
       "      <td>...</td>\n",
       "      <td>0</td>\n",
       "      <td>0</td>\n",
       "      <td>0</td>\n",
       "      <td>0</td>\n",
       "      <td>1</td>\n",
       "      <td>0</td>\n",
       "      <td>0</td>\n",
       "      <td>0</td>\n",
       "      <td>0</td>\n",
       "      <td>1</td>\n",
       "    </tr>\n",
       "    <tr>\n",
       "      <th>47931</th>\n",
       "      <td>1244340555</td>\n",
       "      <td>Stern Pinball Arcade: AC/DC</td>\n",
       "      <td>Video Games</td>\n",
       "      <td>Games</td>\n",
       "      <td>USD</td>\n",
       "      <td>2016-06-01</td>\n",
       "      <td>108,435.00</td>\n",
       "      <td>2016-05-02 20:22:39</td>\n",
       "      <td>17,425.00</td>\n",
       "      <td>canceled</td>\n",
       "      <td>...</td>\n",
       "      <td>0</td>\n",
       "      <td>0</td>\n",
       "      <td>0</td>\n",
       "      <td>0</td>\n",
       "      <td>1</td>\n",
       "      <td>0</td>\n",
       "      <td>0</td>\n",
       "      <td>1</td>\n",
       "      <td>0</td>\n",
       "      <td>0</td>\n",
       "    </tr>\n",
       "    <tr>\n",
       "      <th>13001</th>\n",
       "      <td>1065249597</td>\n",
       "      <td>SCiO: Your Sixth Sense. A Pocket Molecular Sen...</td>\n",
       "      <td>Hardware</td>\n",
       "      <td>Technology</td>\n",
       "      <td>USD</td>\n",
       "      <td>2014-06-15</td>\n",
       "      <td>200,000.00</td>\n",
       "      <td>2014-04-29 17:18:03</td>\n",
       "      <td>2,762,571.78</td>\n",
       "      <td>successful</td>\n",
       "      <td>...</td>\n",
       "      <td>0</td>\n",
       "      <td>0</td>\n",
       "      <td>1</td>\n",
       "      <td>0</td>\n",
       "      <td>0</td>\n",
       "      <td>0</td>\n",
       "      <td>0</td>\n",
       "      <td>0</td>\n",
       "      <td>0</td>\n",
       "      <td>1</td>\n",
       "    </tr>\n",
       "  </tbody>\n",
       "</table>\n",
       "<p>233 rows × 220 columns</p>\n",
       "</div>"
      ],
      "text/plain": [
       "                ID                                               name  \\\n",
       "289718   544130636         Anabella and The Lost Kingdom-- short film   \n",
       "74887   1381563978              Butterfield VHS Tape Recovery Project   \n",
       "291121   551357943                                             XHuman   \n",
       "42065    121413755                              have you seen jordan?   \n",
       "44594   1226622252                  Documentary: A Child Of Their Own   \n",
       "...            ...                                                ...   \n",
       "368860   949209229  Be A Catalyst!!!! Help Casey Clark make a name...   \n",
       "170332  1866608144  ensemble, et al. second full-length album —wit...   \n",
       "264759   416754357  Stixx garland clamp: easiest way to hang up pa...   \n",
       "47931   1244340555                        Stern Pinball Arcade: AC/DC   \n",
       "13001   1065249597  SCiO: Your Sixth Sense. A Pocket Molecular Sen...   \n",
       "\n",
       "              category main_category currency   deadline       goal  \\\n",
       "289718    Film & Video  Film & Video      USD 2016-05-27   4,500.00   \n",
       "74887     Film & Video  Film & Video      USD 2016-05-29   1,200.00   \n",
       "291121           Music         Music      USD 2016-05-27   5,000.00   \n",
       "42065            Music         Music      USD 2016-06-22   3,200.00   \n",
       "44594     Film & Video  Film & Video      USD 2016-05-13  15,000.00   \n",
       "...                ...           ...      ...        ...        ...   \n",
       "368860           Music         Music      USD 2016-05-24   8,000.00   \n",
       "170332           Music         Music      USD 2016-04-26   8,000.00   \n",
       "264759  Product Design        Design      EUR 2016-05-01  10,000.00   \n",
       "47931      Video Games         Games      USD 2016-06-01 108,435.00   \n",
       "13001         Hardware    Technology      USD 2014-06-15 200,000.00   \n",
       "\n",
       "                  launched      pledged       state        ...         \\\n",
       "289718 2016-05-02 21:02:32         0.00    canceled        ...          \n",
       "74887  2016-04-29 22:34:34         0.00    canceled        ...          \n",
       "291121 2016-03-28 16:24:08         0.00      failed        ...          \n",
       "42065  2016-04-23 06:19:25         0.00    canceled        ...          \n",
       "44594  2016-04-28 11:28:39         0.00    canceled        ...          \n",
       "...                    ...          ...         ...        ...          \n",
       "368860 2016-03-25 03:54:04     9,625.00  successful        ...          \n",
       "170332 2016-03-26 18:56:44     9,897.00  successful        ...          \n",
       "264759 2016-04-01 09:07:12    10,063.00  successful        ...          \n",
       "47931  2016-05-02 20:22:39    17,425.00    canceled        ...          \n",
       "13001  2014-04-29 17:18:03 2,762,571.78  successful        ...          \n",
       "\n",
       "        yearlaunched_2012 yearlaunched_2013  yearlaunched_2014  \\\n",
       "289718                  0                 0                  0   \n",
       "74887                   0                 0                  0   \n",
       "291121                  0                 0                  0   \n",
       "42065                   0                 0                  0   \n",
       "44594                   0                 0                  0   \n",
       "...                   ...               ...                ...   \n",
       "368860                  0                 0                  0   \n",
       "170332                  0                 0                  0   \n",
       "264759                  0                 0                  0   \n",
       "47931                   0                 0                  0   \n",
       "13001                   0                 0                  1   \n",
       "\n",
       "        yearlaunched_2015  yearlaunched_2016  yearlaunched_2017  \\\n",
       "289718                  0                  1                  0   \n",
       "74887                   0                  1                  0   \n",
       "291121                  0                  1                  0   \n",
       "42065                   0                  1                  0   \n",
       "44594                   0                  1                  0   \n",
       "...                   ...                ...                ...   \n",
       "368860                  0                  1                  0   \n",
       "170332                  0                  1                  0   \n",
       "264759                  0                  1                  0   \n",
       "47931                   0                  1                  0   \n",
       "13001                   0                  0                  0   \n",
       "\n",
       "        yearlaunched_2018  state_canceled  state_failed  state_successful  \n",
       "289718                  0               1             0                 0  \n",
       "74887                   0               1             0                 0  \n",
       "291121                  0               0             1                 0  \n",
       "42065                   0               1             0                 0  \n",
       "44594                   0               1             0                 0  \n",
       "...                   ...             ...           ...               ...  \n",
       "368860                  0               0             0                 1  \n",
       "170332                  0               0             0                 1  \n",
       "264759                  0               0             0                 1  \n",
       "47931                   0               1             0                 0  \n",
       "13001                   0               0             0                 1  \n",
       "\n",
       "[233 rows x 220 columns]"
      ]
     },
     "execution_count": 35,
     "metadata": {},
     "output_type": "execute_result"
    }
   ],
   "source": [
    "# All sorts of different currencies. Let's check more generally.\n",
    "raw_data[raw_data.country == 'N,0\"'].sort_values(by = 'usd_pledged_real')"
   ]
  },
  {
   "cell_type": "code",
   "execution_count": 36,
   "metadata": {},
   "outputs": [],
   "source": [
    "# Let's not delete these values. At least one of these projects seem significant\n",
    "# (there's one with over 2.7 mio USD pledged).\n",
    "\n",
    "# 1-of-K encoding. Declare categorical\n",
    "raw_data.country = pd.Categorical(raw_data.country)\n",
    "\n",
    "# 1-of-K and combine w/ raw data\n",
    "country_Dummies = pd.get_dummies(raw_data.country, prefix = 'country')\n",
    "raw_data = pd.concat([raw_data, country_Dummies], axis=1)"
   ]
  },
  {
   "cell_type": "code",
   "execution_count": 37,
   "metadata": {},
   "outputs": [
    {
     "name": "stdout",
     "output_type": "stream",
     "text": [
      "---- No empty strings/None values detected ----\n",
      "---- No empty strings/None values detected ----\n"
     ]
    }
   ],
   "source": [
    "# We only want to use usd_pledged_real and usd_goal_real, so we'll delete\n",
    "# everything else. Now we'll also delete the ID and name columns, and the\n",
    "# categorical variables that we've 1-of-K encoded.\n",
    "\n",
    "# First let's check usd_pledged_real and usd_goal_real. Check for missing values:\n",
    "pledged = raw_data.usd_pledged_real\n",
    "if pledged.isnull().values.any():\n",
    "    print('---- Empty string/None values detected ----')\n",
    "else:\n",
    "    print('---- No empty strings/None values detected ----')\n",
    "    \n",
    "goal = raw_data.usd_goal_real\n",
    "if goal.isnull().values.any():\n",
    "    print('---- Empty string/None values detected ----')\n",
    "else:\n",
    "    print('---- No empty strings/None values detected ----')"
   ]
  },
  {
   "cell_type": "code",
   "execution_count": 38,
   "metadata": {},
   "outputs": [
    {
     "data": {
      "text/plain": [
       "0"
      ]
     },
     "execution_count": 38,
     "metadata": {},
     "output_type": "execute_result"
    }
   ],
   "source": [
    "# Check for negatives:\n",
    "len(raw_data[raw_data['usd_pledged_real'] < 0])\n",
    "len(raw_data[raw_data['usd_goal_real'] < 0])"
   ]
  },
  {
   "cell_type": "code",
   "execution_count": 39,
   "metadata": {},
   "outputs": [
    {
     "name": "stdout",
     "output_type": "stream",
     "text": [
      "No more missing data in the dataset.\n"
     ]
    },
    {
     "data": {
      "text/plain": [
       "True"
      ]
     },
     "execution_count": 39,
     "metadata": {},
     "output_type": "execute_result"
    }
   ],
   "source": [
    "# Now let's take the important part of the data\n",
    "backers_data = raw_data.backers\n",
    "cleaned_data = pd.concat([backers_data, raw_data.iloc[:,13:]], axis=1)\n",
    "cleaned_data = cleaned_data.drop(['yearlaunched'], axis = 1)\n",
    "cleaned_data.columns.values\n",
    "\n",
    "# Check one last time for missing data\n",
    "print('No more missing data in the dataset.')\n",
    "cleaned_data.isnull().sum().sum() == 0\n",
    "\n",
    "# ----------- OUTPUT FOR ALL OF THIS IS THE DATAFRAME cleaned_data -------\n",
    "# ----------- FOR PCA, RATIO ATTRIBUTES STILL NEED TO BE NORMALIZED ------\n",
    "# ----------- FOR PLOTS, OUTLIERS NEED TO BE TAKEN OUT -------------------"
   ]
  },
  {
   "cell_type": "code",
   "execution_count": 40,
   "metadata": {},
   "outputs": [
    {
     "data": {
      "text/plain": [
       "(369961, 230)"
      ]
     },
     "execution_count": 40,
     "metadata": {},
     "output_type": "execute_result"
    }
   ],
   "source": [
    "np.shape(cleaned_data)"
   ]
  },
  {
   "cell_type": "markdown",
   "metadata": {},
   "source": [
    "**Bottom line data preprocessing**   \n",
    "***\n",
    "The various preprocessing steps have changed the dimensions of the dataset. The data matrix has lost some observations in the cleaning process but gained a lot of attributes, mainly due to 1 of K encoding.  \n",
    "  \n",
    "The current shape and size of __X__ (called `cleaned_data`) is displayed in the two cells above. In total, we're left with  \n",
    "**N** = 230 attributes of  \n",
    "**M** = 369961 features  \n",
    "(adding up to over 85 million entries)."
   ]
  },
  {
   "cell_type": "markdown",
   "metadata": {},
   "source": [
    "## 2. Visualizations\n",
    "\n"
   ]
  },
  {
   "cell_type": "code",
   "execution_count": 93,
   "metadata": {},
   "outputs": [
    {
     "name": "stdout",
     "output_type": "stream",
     "text": [
      "On average, projects in this dataset were launched 5.22 years after Kickstarter was founded.\n"
     ]
    },
    {
     "data": {
      "image/png": "[encoded data removed]",
      "text/plain": [
       "<Figure size 1152x864 with 1 Axes>"
      ]
     },
     "metadata": {},
     "output_type": "display_data"
    }
   ],
   "source": [
    "# In which year did projects start?\n",
    "\n",
    "# create a list of indices to address the individual years\n",
    "yearlaunched_index_ = list('yearlaunched_' + str(yr_sort[i]) for i in range(len(yr_sort)))\n",
    "\n",
    "# sum up number of projects per year and store in list\n",
    "projects_per_year = list(cleaned_data[yearlaunched_index_[year]].sum() for year in range(len(yr_sort)))\n",
    "\n",
    "# calculate mean launchyear relative to Kickstarter founding.\n",
    "years_after_launch = np.arange(9)\n",
    "mean_launchyear = sum(projects_per_year*years_after_launch)/sum(projects_per_year)\n",
    "print('On average, projects in this dataset were launched', \\\n",
    "      '%.2f' % mean_launchyear, 'years after Kickstarter was founded.')\n",
    "\n",
    "\n",
    "\n",
    "successful_projects = cleaned_data[cleaned_data['state_successful'] == 1]\n",
    "\n",
    "successes_per_year = list(successful_projects[yearlaunched_index_[year]].sum() for year in range(len(yr_sort)))\n",
    "\n",
    "projects = np.asarray(projects_per_year)\n",
    "successes = np.asarray(successes_per_year)\n",
    "\n",
    "fails = projects - successes"
   ]
  },
  {
   "cell_type": "code",
   "execution_count": 95,
   "metadata": {},
   "outputs": [
    {
     "data": {
      "image/png": "[encoded data removed]",
      "text/plain": [
       "<Figure size 504x360 with 1 Axes>"
      ]
     },
     "metadata": {},
     "output_type": "display_data"
    }
   ],
   "source": [
    "fig = plt.subplots(figsize=(7,5))\n",
    "N = 9\n",
    "ind = np.arange(N)\n",
    "width = 0.5        # the width of the bars\n",
    "\n",
    "p1 = plt.bar(ind, successes, width, color='#d62728')\n",
    "p2 = plt.bar(ind, fails, width, bottom=successes)\n",
    "\n",
    "plt.ylabel('Total number of projects')\n",
    "plt.title('Failed and succeeded Kickstarter projects')\n",
    "plt.xlabel('Year')\n",
    "plt.xticks(ind, yr_sort)\n",
    "plt.legend((p1[0], p2[0]), ('Succeeded', 'Failed'));"
   ]
  },
  {
   "cell_type": "code",
   "execution_count": null,
   "metadata": {},
   "outputs": [],
   "source": [
    "fig, ax = plt.subplots(figsize=(10,6))\n",
    "sns.countplot(\n",
    "    cleaned_data['month_absolute'],\n",
    "    palette='Blues'\n",
    ")\n",
    "sns.despine()"
   ]
  },
  {
   "cell_type": "code",
   "execution_count": null,
   "metadata": {},
   "outputs": [],
   "source": [
    "# plot a simple relationship\n",
    "fig, ax = plt.subplots(figsize=(5,5))\n",
    "ax.set(title='5000 projects up to 100k USD',\n",
    "      xlabel='Project goal [USD]', ylabel='Money pledged [USD]',\n",
    "      xlim=[0, 100000], ylim=[0, 100000])\n",
    "ax.scatter(df_training['goal'], df_training['pledged'], alpha=0.4)\n",
    "ax.plot(df_training['goal'], df_training['goal'], color='black', linewidth=1, label='Threshold')\n",
    "ax.legend()\n",
    "# idea: split dataset\n",
    "success_mask = [df_training['pledged'] >= df_training['goal']]\n",
    "# 'succeeded'-color blue, else 'failed'-red "
   ]
  },
  {
   "cell_type": "markdown",
   "metadata": {},
   "source": [
    "## 3. Principle component analysis\n",
    "\n",
    "Next up is decomposing this set into its principal components. The mean value of all interval or ratio data is computed and stored as pandas object `means`, thre respective standard deviations are calculated using numpy's `std()`. \n",
    "\n",
    "The data is then normalized to prepare it for the singular value decomposition. As attribute values differ by orders of magnitude, they are all divided by their standard deviation (eg. compare number of backers: ~$10^2$ to funding goals: ~$10^4$)."
   ]
  },
  {
   "cell_type": "code",
   "execution_count": null,
   "metadata": {},
   "outputs": [],
   "source": [
    "list(cleaned_data)"
   ]
  },
  {
   "cell_type": "code",
   "execution_count": 96,
   "metadata": {},
   "outputs": [
    {
     "name": "stdout",
     "output_type": "stream",
     "text": [
      "Mean values of ratio attributes:\n",
      "\n",
      "backers               107.00\n",
      "usd_pledged_real    9,156.00\n",
      "usd_goal_real      45,084.00\n",
      "duration               34.00\n",
      "month_absolute         64.00\n",
      "dtype: float64\n",
      "\n",
      "Their standard deviations:\n",
      "\n",
      "backers                  916.00\n",
      "usd_pledged_real      91,724.00\n",
      "usd_goal_real      1,128,930.00\n",
      "duration                  13.00\n",
      "month_absolute            23.00\n",
      "dtype: float64\n",
      "\n",
      "The modes are:\n",
      "\n",
      "   backers  usd_pledged_real  usd_goal_real  duration  month_absolute\n",
      "0        0              0.00       5,000.00     29.00              62\n",
      "\n",
      "The medians are:\n",
      "\n",
      "backers               12.00\n",
      "usd_pledged_real     633.00\n",
      "usd_goal_real      5,500.00\n",
      "duration              30.00\n",
      "month_absolute        66.00\n",
      "dtype: float64\n"
     ]
    }
   ],
   "source": [
    "# Extract all ratio columns for normalization and calculate \n",
    "# summary statistics (mean, standard dev, mode, median).\n",
    "\n",
    "ratio_data = ['backers', 'usd_pledged_real', 'usd_goal_real', 'duration', 'month_absolute']\n",
    "\n",
    "means = round(cleaned_data[ratio_data].mean())\n",
    "print('Mean values of ratio attributes:\\n')\n",
    "print(means)\n",
    "\n",
    "standard_deviations = round(np.std(cleaned_data[ratio_data]))\n",
    "print('\\nTheir standard deviations:\\n')\n",
    "print(standard_deviations)\n",
    "\n",
    "modes = round(cleaned_data[ratio_data].mode())\n",
    "print('\\nThe modes are:\\n')\n",
    "print(modes)\n",
    "\n",
    "medians = round(cleaned_data[ratio_data].median())\n",
    "print('\\nThe medians are:\\n')\n",
    "print(medians)"
   ]
  },
  {
   "cell_type": "code",
   "execution_count": 97,
   "metadata": {},
   "outputs": [
    {
     "name": "stdout",
     "output_type": "stream",
     "text": [
      "The first four principal components explain 95.0 % of the variance.\n"
     ]
    }
   ],
   "source": [
    "# Subtract mean value from data and divide by standard deviation\n",
    "normalized = (cleaned_data[ratio_data] - means)/standard_deviations\n",
    "\n",
    "# PCA by computing SVD of Y\n",
    "U,S,V = svd(normalized,full_matrices=False)\n",
    "# print('U[0] = ', U[0], '\\nS[0] =', S[0], '\\nV[0] =', V[0])\n",
    "\n",
    "# Compute variance explained by principal components\n",
    "rho = (S**2) / (S**2).sum()\n",
    "\n",
    "print('The first four principal components explain', '%.1f' % sum(rho[i]*100 for i in range(4)),'% of the variance.')"
   ]
  },
  {
   "cell_type": "code",
   "execution_count": 98,
   "metadata": {},
   "outputs": [
    {
     "data": {
      "application/vnd.plotly.v1+json": {
       "data": [
        {
         "name": "VE absolute",
         "type": "scatter",
         "uid": "130ec5fe-c4b1-11e8-a4d8-c485083c724b",
         "x": [
          1,
          2,
          3,
          4,
          5
         ],
         "y": [
          0.35451501216455145,
          0.22955945455873428,
          0.20286692443892845,
          0.16299692341714286,
          0.050061685420642876
         ]
        },
        {
         "name": "VE cumulated",
         "type": "scatter",
         "uid": "130ec5ff-c4b1-11e8-ac84-c485083c724b",
         "x": [
          1,
          2,
          3,
          4,
          5
         ],
         "y": [
          0.35451501216455145,
          0.5840744667232858,
          0.7869413911622143,
          0.9499383145793572,
          1
         ]
        }
       ],
       "layout": {
        "xaxis": {
         "dtick": 1,
         "title": "Principal component"
        },
        "yaxis": {
         "title": "Variance explained"
        }
       }
      },
      "text/html": [
       "<div id=\"7f3f92ad-1441-4250-b6e8-097152a2b40a\" style=\"height: 525px; width: 100%;\" class=\"plotly-graph-div\"></div><script type=\"text/javascript\">require([\"plotly\"], function(Plotly) { window.PLOTLYENV=window.PLOTLYENV || {};window.PLOTLYENV.BASE_URL=\"https://plot.ly\";Plotly.newPlot(\"7f3f92ad-1441-4250-b6e8-097152a2b40a\", [{\"name\": \"VE absolute\", \"x\": [1, 2, 3, 4, 5], \"y\": [0.35451501216455145, 0.22955945455873428, 0.20286692443892845, 0.16299692341714286, 0.050061685420642876], \"type\": \"scatter\", \"uid\": \"130ec5fe-c4b1-11e8-a4d8-c485083c724b\"}, {\"name\": \"VE cumulated\", \"x\": [1, 2, 3, 4, 5], \"y\": [0.35451501216455145, 0.5840744667232858, 0.7869413911622143, 0.9499383145793572, 1.0], \"type\": \"scatter\", \"uid\": \"130ec5ff-c4b1-11e8-ac84-c485083c724b\"}], {\"xaxis\": {\"dtick\": 1, \"title\": \"Principal component\"}, \"yaxis\": {\"title\": \"Variance explained\"}}, {\"showLink\": true, \"linkText\": \"Export to plot.ly\"})});</script>"
      ],
      "text/vnd.plotly.v1+html": [
       "<div id=\"7f3f92ad-1441-4250-b6e8-097152a2b40a\" style=\"height: 525px; width: 100%;\" class=\"plotly-graph-div\"></div><script type=\"text/javascript\">require([\"plotly\"], function(Plotly) { window.PLOTLYENV=window.PLOTLYENV || {};window.PLOTLYENV.BASE_URL=\"https://plot.ly\";Plotly.newPlot(\"7f3f92ad-1441-4250-b6e8-097152a2b40a\", [{\"name\": \"VE absolute\", \"x\": [1, 2, 3, 4, 5], \"y\": [0.35451501216455145, 0.22955945455873428, 0.20286692443892845, 0.16299692341714286, 0.050061685420642876], \"type\": \"scatter\", \"uid\": \"130ec5fe-c4b1-11e8-a4d8-c485083c724b\"}, {\"name\": \"VE cumulated\", \"x\": [1, 2, 3, 4, 5], \"y\": [0.35451501216455145, 0.5840744667232858, 0.7869413911622143, 0.9499383145793572, 1.0], \"type\": \"scatter\", \"uid\": \"130ec5ff-c4b1-11e8-ac84-c485083c724b\"}], {\"xaxis\": {\"dtick\": 1, \"title\": \"Principal component\"}, \"yaxis\": {\"title\": \"Variance explained\"}}, {\"showLink\": true, \"linkText\": \"Export to plot.ly\"})});</script>"
      ]
     },
     "metadata": {},
     "output_type": "display_data"
    }
   ],
   "source": [
    "# Plot variance explained\n",
    "\n",
    "# I've decided to implement the graphs in plotly because the\n",
    "# interactiveness can become really helpful with more complex plots later on\n",
    "\n",
    "layout = go.Layout(xaxis=dict(title='Principal component', dtick=1), \n",
    "                   yaxis=dict(title='Variance explained'),\n",
    "                   )\n",
    "\n",
    "trace1 = go.Scatter(\n",
    "    name = 'VE absolute',\n",
    "    x = np.arange(1,len(rho)+1),\n",
    "    y = rho )\n",
    "trace2 = go.Scatter(\n",
    "    name = 'VE cumulated',\n",
    "    x = np.arange(1,len(rho)+1),\n",
    "    y = np.cumsum(rho) )\n",
    "\n",
    "\n",
    "data = [trace1, trace2]\n",
    "\n",
    "fig = go.Figure(data=[trace1, trace2], layout=layout)\n",
    "py.offline.iplot(fig)"
   ]
  },
  {
   "cell_type": "code",
   "execution_count": 112,
   "metadata": {},
   "outputs": [
    {
     "data": {
      "image/png": "[encoded data removed]",
      "text/plain": [
       "<Figure size 288x288 with 1 Axes>"
      ]
     },
     "metadata": {},
     "output_type": "display_data"
    }
   ],
   "source": [
    "# should you prefer matplotlib, this block gives the same output:\n",
    "\n",
    "fig, ax = plt.subplots(figsize=(4,4))\n",
    "ax.plot(np.arange(1,len(rho)+1), np.cumsum(rho), 'x-', label = 'Cumulated VE')\n",
    "ax.plot(range(1,len(rho)+1),rho,'o-', label = 'Absolute VE')\n",
    "ax.set(xlabel='Principal component', ylabel='Variance explained (VE)', \n",
    "       xticks=[1,2,3,4,5]);\n",
    "ax.legend();\n",
    "\n",
    "plt.savefig('Variance_explained.eps', format='eps', dpi = 1000)"
   ]
  },
  {
   "cell_type": "code",
   "execution_count": null,
   "metadata": {},
   "outputs": [],
   "source": [
    "# for plotting purposes, a reduced dataframe\n",
    "ratio = cleaned_data[ratio_data]\n",
    "ratio_reduced = ratio[0:20]\n",
    "print(ratio_reduced['backers'])"
   ]
  },
  {
   "cell_type": "code",
   "execution_count": null,
   "metadata": {},
   "outputs": [],
   "source": [
    "V = V.T\n",
    "# Project the centered data onto principal component space\n",
    "normalized_reduced = (ratio_reduced - means)/standard_deviations\n",
    "Z = np.array(normalized_reduced @ V)\n",
    "print(np.shape(Z))\n",
    "Z"
   ]
  },
  {
   "cell_type": "code",
   "execution_count": null,
   "metadata": {},
   "outputs": [],
   "source": [
    "fig, ax = plt.subplots(figsize=(6,6))\n",
    "ax.plot(Z[:,0], Z[:,1], 'o')"
   ]
  },
  {
   "cell_type": "code",
   "execution_count": null,
   "metadata": {},
   "outputs": [],
   "source": [
    "states_merge = ['state_successful', 'state_failed', 'state_canceled']\n",
    "cleaned_data[states_merge] == 'state_successful'"
   ]
  },
  {
   "cell_type": "code",
   "execution_count": null,
   "metadata": {},
   "outputs": [],
   "source": [
    "\n",
    "framework=;\n",
    "list_of_cmaps=['Blues','Greens','Reds','Oranges','Reds','Reds']\n",
    "printsample=pltdf.sample(n=40)\n",
    "\n",
    "g = sns.PairGrid(printsample,hue='state',hue_kws={\"cmap\":list_of_cmaps})\n",
    "g.map_upper(plt.scatter)\n",
    "g.map_lower(sns.kdeplot, shade=False, shade_lowest=False)\n",
    "g.map_diag(sns.distplot)\n",
    "# g.map_diag(plt.hist)\n",
    "g.add_legend()"
   ]
  },
  {
   "cell_type": "code",
   "execution_count": 113,
   "metadata": {},
   "outputs": [
    {
     "ename": "NameError",
     "evalue": "name 'classLabels' is not defined",
     "output_type": "error",
     "traceback": [
      "\u001b[1;31m---------------------------------------------------------------------------\u001b[0m",
      "\u001b[1;31mNameError\u001b[0m                                 Traceback (most recent call last)",
      "\u001b[1;32m<ipython-input-113-30061d8a8cd7>\u001b[0m in \u001b[0;36m<module>\u001b[1;34m()\u001b[0m\n\u001b[0;32m      8\u001b[0m \u001b[1;33m\u001b[0m\u001b[0m\n\u001b[0;32m      9\u001b[0m \u001b[1;31m# Extract vector y, convert to NumPy array\u001b[0m\u001b[1;33m\u001b[0m\u001b[1;33m\u001b[0m\u001b[0m\n\u001b[1;32m---> 10\u001b[1;33m \u001b[0my\u001b[0m \u001b[1;33m=\u001b[0m \u001b[0mnp\u001b[0m\u001b[1;33m.\u001b[0m\u001b[0masarray\u001b[0m\u001b[1;33m(\u001b[0m\u001b[1;33m[\u001b[0m\u001b[0mclassDict\u001b[0m\u001b[1;33m[\u001b[0m\u001b[0mvalue\u001b[0m\u001b[1;33m]\u001b[0m \u001b[1;32mfor\u001b[0m \u001b[0mvalue\u001b[0m \u001b[1;32min\u001b[0m \u001b[0mclassLabels\u001b[0m\u001b[1;33m]\u001b[0m\u001b[1;33m)\u001b[0m\u001b[1;33m\u001b[0m\u001b[0m\n\u001b[0m\u001b[0;32m     11\u001b[0m \u001b[1;33m\u001b[0m\u001b[0m\n\u001b[0;32m     12\u001b[0m \u001b[0mC\u001b[0m \u001b[1;33m=\u001b[0m \u001b[0mlen\u001b[0m\u001b[1;33m(\u001b[0m\u001b[0mratio_reduced\u001b[0m\u001b[1;33m[\u001b[0m\u001b[1;34m'backers'\u001b[0m\u001b[1;33m]\u001b[0m\u001b[1;33m)\u001b[0m\u001b[1;33m\u001b[0m\u001b[0m\n",
      "\u001b[1;31mNameError\u001b[0m: name 'classLabels' is not defined"
     ]
    }
   ],
   "source": [
    "# Indices of the principal components to be plotted\n",
    "from matplotlib.pyplot import figure, plot, title, xlabel, ylabel, show, legend\n",
    "\n",
    "V = V.T\n",
    "# Project the centered data onto principal component space\n",
    "Z = np.array(normalized @ V)\n",
    "\n",
    "\n",
    "# Extract vector y, convert to NumPy array\n",
    "y = np.asarray([classDict[value] for value in classLabels])\n",
    "\n",
    "C = len(ratio_reduced['backers'])\n",
    "\n",
    "i = 0\n",
    "j = 1\n",
    "\n",
    "# Plot PCA of the data\n",
    "f = figure()\n",
    "title('NanoNose data: PCA')\n",
    "#Z = array(Z)\n",
    "for c in range(C):\n",
    "    # select indices belonging to class c:\n",
    "    class_mask = y==c\n",
    "    plot(Z[class_mask,i], Z[class_mask,j], 'o')\n",
    "legend(classNames)\n",
    "xlabel('PC{0}'.format(i+1))\n",
    "ylabel('PC{0}'.format(j+1))"
   ]
  },
  {
   "cell_type": "code",
   "execution_count": null,
   "metadata": {},
   "outputs": [],
   "source": [
    "V = V.T\n",
    "# Project the centered data onto principal component space\n",
    "Z = np.array(normalized @ V)\n",
    "\n",
    "\n",
    "# Indices of the principal components to be plotted\n",
    "pc1 = 0\n",
    "pc2 = 1\n",
    "pc3 = 2\n",
    "\n",
    "component1 = Z[ratio_reduced['backers'],pc1]\n",
    "component2 = Z[ratio_reduced['duration'],pc2]\n",
    "\n",
    "# Plot PCA of the data\n",
    "f = plt.figure()\n",
    "plt.title('Kickstarter data: PCA')\n",
    "for c in range(len(interval_ratio_reduced['backers'])):\n",
    "    plt.plot(component1[c], \n",
    "             component2[c], 'o')"
   ]
  },
  {
   "cell_type": "code",
   "execution_count": null,
   "metadata": {},
   "outputs": [],
   "source": [
    "# plot first 3 principle components in 3d\n",
    "# so far, x, y and z are just for testing purposees\n",
    "\n",
    "scatter = dict(\n",
    "    mode = \"markers\",\n",
    "    name = \"y\",\n",
    "    type = \"scatter3d\",    \n",
    "    x = [1,2,3], y = [2,3,4], z = [3,4,5],\n",
    "    marker = dict( size=2, color=\"rgb(23, 190, 207)\" ))\n",
    "\n",
    "layout = dict(\n",
    "    title = '3d point clustering',\n",
    "    scene = dict(\n",
    "        xaxis = dict( zeroline=False ),\n",
    "        yaxis = dict( zeroline=False ),\n",
    "        zaxis = dict( zeroline=False ) ))\n",
    "    \n",
    "fig2 = dict(data=[scatter], layout=layout)\n",
    "py.offline.iplot(fig2)"
   ]
  }
 ],
 "metadata": {
  "kernelspec": {
   "display_name": "Python 3",
   "language": "python",
   "name": "python3"
  },
  "language_info": {
   "codemirror_mode": {
    "name": "ipython",
    "version": 3
   },
   "file_extension": ".py",
   "mimetype": "text/x-python",
   "name": "python",
   "nbconvert_exporter": "python",
   "pygments_lexer": "ipython3",
   "version": "3.6.5"
  },
  "varInspector": {
   "cols": {
    "lenName": 16,
    "lenType": 16,
    "lenVar": 40
   },
   "kernels_config": {
    "python": {
     "delete_cmd_postfix": "",
     "delete_cmd_prefix": "del ",
     "library": "var_list.py",
     "varRefreshCmd": "print(var_dic_list())"
    },
    "r": {
     "delete_cmd_postfix": ") ",
     "delete_cmd_prefix": "rm(",
     "library": "var_list.r",
     "varRefreshCmd": "cat(var_dic_list()) "
    }
   },
   "types_to_exclude": [
    "module",
    "function",
    "builtin_function_or_method",
    "instance",
    "_Feature"
   ],
   "window_display": false
  }
 },
 "nbformat": 4,
 "nbformat_minor": 2
}
