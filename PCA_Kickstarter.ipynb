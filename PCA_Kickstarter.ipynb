{
 "cells": [
  {
   "cell_type": "markdown",
   "metadata": {},
   "source": [
    "# Principle Component analysis of crowdfunding projects\n",
    "Data visualization of Kickstarter projects based on suitable visualization techniques including a principal component analysis (PCA).\n",
    "\n",
    "The dataset was downloaded from\n",
    "https://www.kaggle.com/kemical/kickstarter-projects \n",
    "on September 14th 2018."
   ]
  },
  {
   "cell_type": "code",
   "execution_count": 5,
   "metadata": {},
   "outputs": [
    {
     "data": {
      "text/html": [
       "<link href='http://fonts.googleapis.com/css?family=Alegreya+Sans:100,300,400,500,700,800,900,100italic,300italic,400italic,500italic,700italic,800italic,900italic' rel='stylesheet' type='text/css'>\n",
       "<link href='http://fonts.googleapis.com/css?family=Arvo:400,700,400italic' rel='stylesheet' type='text/css'>\n",
       "<link href='http://fonts.googleapis.com/css?family=PT+Mono' rel='stylesheet' type='text/css'>\n",
       "<link href='http://fonts.googleapis.com/css?family=Shadows+Into+Light' rel='stylesheet' type='text/css'>\n",
       "<link href='http://fonts.googleapis.com/css?family=Philosopher:400,700,400italic,700italic' rel='stylesheet' type='text/css'>\n",
       "\n",
       "<style>\n",
       "\n",
       "@font-face {\n",
       "    font-family: \"Computer Modern\";\n",
       "    src: url('http://mirrors.ctan.org/fonts/cm-unicode/fonts/otf/cmunss.otf');\n",
       "}\n",
       "\n",
       "#notebook_panel { /* main background */\n",
       "    background: #888;\n",
       "    color: #f6f6f6;\n",
       "}\n",
       "\n",
       "div.cell { /* set cell width to about 80 chars */\n",
       "    width: 800px;\n",
       "}\n",
       "\n",
       "div #notebook { /* centre the content */\n",
       "    background: #fff; /* white background for content */\n",
       "    width: 1000px;\n",
       "    margin: auto;\n",
       "    padding-left: 1em;\n",
       "}\n",
       "\n",
       "#notebook li { /* More space between bullet points */\n",
       "margin-top:0.8em;\n",
       "}\n",
       "\n",
       "/* draw border around running cells */\n",
       "div.cell.border-box-sizing.code_cell.running { \n",
       "    border: 3px solid #111;\n",
       "}\n",
       "\n",
       "/* Put a solid color box around each cell and its output, visually linking them together */\n",
       "div.cell.code_cell {\n",
       "    background-color: rgba(153,153,153,0.2); \n",
       "    border-radius: 10px; /* rounded borders */\n",
       "    padding: 1em;\n",
       "    margin-top: 1em;\n",
       "}\n",
       "\n",
       "div.text_cell_render{\n",
       "    font-family: 'Computer Modern' serif;\n",
       "    line-height: 130%;\n",
       "    font-size: 115%;\n",
       "    width:700px;\n",
       "    margin-left:auto;\n",
       "    margin-right:auto;\n",
       "}\n",
       "\n",
       "\n",
       "/* Formatting for header cells */\n",
       ".text_cell_render h1 {\n",
       "    font-family: 'Neo Sans', sans-serif;\n",
       "    font-weight: 300;\n",
       "    font-size: 40pt;\n",
       "    line-height: 100%;\n",
       "    color: rgb(153,0,0);\n",
       "    margin-bottom: 0.1em;\n",
       "    margin-top: 0.1em;\n",
       "    display: block;\n",
       "}\t\n",
       ".text_cell_render h2 {\n",
       "    font-family: 'Neo Sans', sans-serif;\n",
       "    font-weight: 300;\n",
       "    font-size: 24pt;\n",
       "    line-height: 100%;\n",
       "    color: rgb(153,0,0);\n",
       "    margin-bottom: 0.1em;\n",
       "    margin-top: 0.1em;\n",
       "    display: block;\n",
       "}\t\n",
       "\n",
       ".text_cell_render h3 {\n",
       "    font-family: 'Neo Sans', sans-serif;\n",
       "    margin-top:12px;\n",
       "    margin-bottom: 3px;\n",
       "    font-style: italic;\n",
       "    color: rgb(153,0,0);\n",
       "}\n",
       "\n",
       ".text_cell_render h4 {\n",
       "    font-family: 'Neo Sans', sans-serif;\n",
       "}\n",
       "\n",
       ".text_cell_render h5 {\n",
       "    font-family: 'Alegreya Sans', sans-serif;\n",
       "    font-weight: 300;\n",
       "    font-size: 16pt;\n",
       "    color: grey;\n",
       "    font-style: italic;\n",
       "    margin-bottom: .1em;\n",
       "    margin-top: 0.1em;\n",
       "    display: block;\n",
       "}\n",
       "\n",
       ".text_cell_render h6 {\n",
       "    font-family: 'PT Mono', sans-serif;\n",
       "    font-weight: 300;\n",
       "    font-size: 10pt;\n",
       "    color: grey;\n",
       "    margin-bottom: 1px;\n",
       "    margin-top: 1px;\n",
       "}\n",
       "\n",
       ".CodeMirror{\n",
       "        font-family: \"PT Mono\";\n",
       "        font-size: 100%;\n",
       "}\n",
       "\n",
       "</style>\n"
      ],
      "text/plain": [
       "<IPython.core.display.HTML object>"
      ]
     },
     "execution_count": 5,
     "metadata": {},
     "output_type": "execute_result"
    }
   ],
   "source": [
    "# Run this cell first to apply the style to the notebook\n",
    "from IPython.core.display import HTML\n",
    "css_file = './31380.css'\n",
    "HTML(open(css_file, \"r\").read())"
   ]
  },
  {
   "cell_type": "code",
   "execution_count": 1,
   "metadata": {
    "collapsed": true
   },
   "outputs": [],
   "source": [
    "import numpy as np\n",
    "import pandas as pd\n",
    "import matplotlib.pyplot as plt\n",
    "from scipy.linalg import svd\n",
    "%matplotlib inline"
   ]
  },
  {
   "cell_type": "code",
   "execution_count": 2,
   "metadata": {
    "scrolled": true
   },
   "outputs": [
    {
     "ename": "FileNotFoundError",
     "evalue": "File b'ks-projects-201801.csv' does not exist",
     "output_type": "error",
     "traceback": [
      "\u001b[1;31m---------------------------------------------------------------------------\u001b[0m",
      "\u001b[1;31mFileNotFoundError\u001b[0m                         Traceback (most recent call last)",
      "\u001b[1;32m<ipython-input-2-114afa0914f3>\u001b[0m in \u001b[0;36m<module>\u001b[1;34m()\u001b[0m\n\u001b[0;32m      1\u001b[0m \u001b[1;31m# create the dataframe and define a reduced version with the first\u001b[0m\u001b[1;33m\u001b[0m\u001b[1;33m\u001b[0m\u001b[0m\n\u001b[0;32m      2\u001b[0m \u001b[1;31m# 5000 observations of project goal and the total amount pledged\u001b[0m\u001b[1;33m\u001b[0m\u001b[1;33m\u001b[0m\u001b[0m\n\u001b[1;32m----> 3\u001b[1;33m \u001b[0mraw_data\u001b[0m \u001b[1;33m=\u001b[0m \u001b[0mpd\u001b[0m\u001b[1;33m.\u001b[0m\u001b[0mread_csv\u001b[0m\u001b[1;33m(\u001b[0m\u001b[1;34m'ks-projects-201801.csv'\u001b[0m\u001b[1;33m)\u001b[0m\u001b[1;33m\u001b[0m\u001b[0m\n\u001b[0m\u001b[0;32m      4\u001b[0m \u001b[0mcols\u001b[0m \u001b[1;33m=\u001b[0m \u001b[1;33m[\u001b[0m\u001b[1;34m'goal'\u001b[0m\u001b[1;33m,\u001b[0m \u001b[1;34m'pledged'\u001b[0m\u001b[1;33m]\u001b[0m\u001b[1;33m\u001b[0m\u001b[0m\n\u001b[0;32m      5\u001b[0m \u001b[0mdf\u001b[0m \u001b[1;33m=\u001b[0m \u001b[0mpd\u001b[0m\u001b[1;33m.\u001b[0m\u001b[0mDataFrame\u001b[0m\u001b[1;33m(\u001b[0m\u001b[0mraw_data\u001b[0m\u001b[1;33m,\u001b[0m \u001b[0mcolumns\u001b[0m \u001b[1;33m=\u001b[0m \u001b[0mcols\u001b[0m\u001b[1;33m)\u001b[0m\u001b[1;33m\u001b[0m\u001b[0m\n",
      "\u001b[1;32m~\\Anaconda3\\lib\\site-packages\\pandas\\io\\parsers.py\u001b[0m in \u001b[0;36mparser_f\u001b[1;34m(filepath_or_buffer, sep, delimiter, header, names, index_col, usecols, squeeze, prefix, mangle_dupe_cols, dtype, engine, converters, true_values, false_values, skipinitialspace, skiprows, nrows, na_values, keep_default_na, na_filter, verbose, skip_blank_lines, parse_dates, infer_datetime_format, keep_date_col, date_parser, dayfirst, iterator, chunksize, compression, thousands, decimal, lineterminator, quotechar, quoting, escapechar, comment, encoding, dialect, tupleize_cols, error_bad_lines, warn_bad_lines, skipfooter, skip_footer, doublequote, delim_whitespace, as_recarray, compact_ints, use_unsigned, low_memory, buffer_lines, memory_map, float_precision)\u001b[0m\n\u001b[0;32m    653\u001b[0m                     skip_blank_lines=skip_blank_lines)\n\u001b[0;32m    654\u001b[0m \u001b[1;33m\u001b[0m\u001b[0m\n\u001b[1;32m--> 655\u001b[1;33m         \u001b[1;32mreturn\u001b[0m \u001b[0m_read\u001b[0m\u001b[1;33m(\u001b[0m\u001b[0mfilepath_or_buffer\u001b[0m\u001b[1;33m,\u001b[0m \u001b[0mkwds\u001b[0m\u001b[1;33m)\u001b[0m\u001b[1;33m\u001b[0m\u001b[0m\n\u001b[0m\u001b[0;32m    656\u001b[0m \u001b[1;33m\u001b[0m\u001b[0m\n\u001b[0;32m    657\u001b[0m     \u001b[0mparser_f\u001b[0m\u001b[1;33m.\u001b[0m\u001b[0m__name__\u001b[0m \u001b[1;33m=\u001b[0m \u001b[0mname\u001b[0m\u001b[1;33m\u001b[0m\u001b[0m\n",
      "\u001b[1;32m~\\Anaconda3\\lib\\site-packages\\pandas\\io\\parsers.py\u001b[0m in \u001b[0;36m_read\u001b[1;34m(filepath_or_buffer, kwds)\u001b[0m\n\u001b[0;32m    403\u001b[0m \u001b[1;33m\u001b[0m\u001b[0m\n\u001b[0;32m    404\u001b[0m     \u001b[1;31m# Create the parser.\u001b[0m\u001b[1;33m\u001b[0m\u001b[1;33m\u001b[0m\u001b[0m\n\u001b[1;32m--> 405\u001b[1;33m     \u001b[0mparser\u001b[0m \u001b[1;33m=\u001b[0m \u001b[0mTextFileReader\u001b[0m\u001b[1;33m(\u001b[0m\u001b[0mfilepath_or_buffer\u001b[0m\u001b[1;33m,\u001b[0m \u001b[1;33m**\u001b[0m\u001b[0mkwds\u001b[0m\u001b[1;33m)\u001b[0m\u001b[1;33m\u001b[0m\u001b[0m\n\u001b[0m\u001b[0;32m    406\u001b[0m \u001b[1;33m\u001b[0m\u001b[0m\n\u001b[0;32m    407\u001b[0m     \u001b[1;32mif\u001b[0m \u001b[0mchunksize\u001b[0m \u001b[1;32mor\u001b[0m \u001b[0miterator\u001b[0m\u001b[1;33m:\u001b[0m\u001b[1;33m\u001b[0m\u001b[0m\n",
      "\u001b[1;32m~\\Anaconda3\\lib\\site-packages\\pandas\\io\\parsers.py\u001b[0m in \u001b[0;36m__init__\u001b[1;34m(self, f, engine, **kwds)\u001b[0m\n\u001b[0;32m    762\u001b[0m             \u001b[0mself\u001b[0m\u001b[1;33m.\u001b[0m\u001b[0moptions\u001b[0m\u001b[1;33m[\u001b[0m\u001b[1;34m'has_index_names'\u001b[0m\u001b[1;33m]\u001b[0m \u001b[1;33m=\u001b[0m \u001b[0mkwds\u001b[0m\u001b[1;33m[\u001b[0m\u001b[1;34m'has_index_names'\u001b[0m\u001b[1;33m]\u001b[0m\u001b[1;33m\u001b[0m\u001b[0m\n\u001b[0;32m    763\u001b[0m \u001b[1;33m\u001b[0m\u001b[0m\n\u001b[1;32m--> 764\u001b[1;33m         \u001b[0mself\u001b[0m\u001b[1;33m.\u001b[0m\u001b[0m_make_engine\u001b[0m\u001b[1;33m(\u001b[0m\u001b[0mself\u001b[0m\u001b[1;33m.\u001b[0m\u001b[0mengine\u001b[0m\u001b[1;33m)\u001b[0m\u001b[1;33m\u001b[0m\u001b[0m\n\u001b[0m\u001b[0;32m    765\u001b[0m \u001b[1;33m\u001b[0m\u001b[0m\n\u001b[0;32m    766\u001b[0m     \u001b[1;32mdef\u001b[0m \u001b[0mclose\u001b[0m\u001b[1;33m(\u001b[0m\u001b[0mself\u001b[0m\u001b[1;33m)\u001b[0m\u001b[1;33m:\u001b[0m\u001b[1;33m\u001b[0m\u001b[0m\n",
      "\u001b[1;32m~\\Anaconda3\\lib\\site-packages\\pandas\\io\\parsers.py\u001b[0m in \u001b[0;36m_make_engine\u001b[1;34m(self, engine)\u001b[0m\n\u001b[0;32m    983\u001b[0m     \u001b[1;32mdef\u001b[0m \u001b[0m_make_engine\u001b[0m\u001b[1;33m(\u001b[0m\u001b[0mself\u001b[0m\u001b[1;33m,\u001b[0m \u001b[0mengine\u001b[0m\u001b[1;33m=\u001b[0m\u001b[1;34m'c'\u001b[0m\u001b[1;33m)\u001b[0m\u001b[1;33m:\u001b[0m\u001b[1;33m\u001b[0m\u001b[0m\n\u001b[0;32m    984\u001b[0m         \u001b[1;32mif\u001b[0m \u001b[0mengine\u001b[0m \u001b[1;33m==\u001b[0m \u001b[1;34m'c'\u001b[0m\u001b[1;33m:\u001b[0m\u001b[1;33m\u001b[0m\u001b[0m\n\u001b[1;32m--> 985\u001b[1;33m             \u001b[0mself\u001b[0m\u001b[1;33m.\u001b[0m\u001b[0m_engine\u001b[0m \u001b[1;33m=\u001b[0m \u001b[0mCParserWrapper\u001b[0m\u001b[1;33m(\u001b[0m\u001b[0mself\u001b[0m\u001b[1;33m.\u001b[0m\u001b[0mf\u001b[0m\u001b[1;33m,\u001b[0m \u001b[1;33m**\u001b[0m\u001b[0mself\u001b[0m\u001b[1;33m.\u001b[0m\u001b[0moptions\u001b[0m\u001b[1;33m)\u001b[0m\u001b[1;33m\u001b[0m\u001b[0m\n\u001b[0m\u001b[0;32m    986\u001b[0m         \u001b[1;32melse\u001b[0m\u001b[1;33m:\u001b[0m\u001b[1;33m\u001b[0m\u001b[0m\n\u001b[0;32m    987\u001b[0m             \u001b[1;32mif\u001b[0m \u001b[0mengine\u001b[0m \u001b[1;33m==\u001b[0m \u001b[1;34m'python'\u001b[0m\u001b[1;33m:\u001b[0m\u001b[1;33m\u001b[0m\u001b[0m\n",
      "\u001b[1;32m~\\Anaconda3\\lib\\site-packages\\pandas\\io\\parsers.py\u001b[0m in \u001b[0;36m__init__\u001b[1;34m(self, src, **kwds)\u001b[0m\n\u001b[0;32m   1603\u001b[0m         \u001b[0mkwds\u001b[0m\u001b[1;33m[\u001b[0m\u001b[1;34m'allow_leading_cols'\u001b[0m\u001b[1;33m]\u001b[0m \u001b[1;33m=\u001b[0m \u001b[0mself\u001b[0m\u001b[1;33m.\u001b[0m\u001b[0mindex_col\u001b[0m \u001b[1;32mis\u001b[0m \u001b[1;32mnot\u001b[0m \u001b[1;32mFalse\u001b[0m\u001b[1;33m\u001b[0m\u001b[0m\n\u001b[0;32m   1604\u001b[0m \u001b[1;33m\u001b[0m\u001b[0m\n\u001b[1;32m-> 1605\u001b[1;33m         \u001b[0mself\u001b[0m\u001b[1;33m.\u001b[0m\u001b[0m_reader\u001b[0m \u001b[1;33m=\u001b[0m \u001b[0mparsers\u001b[0m\u001b[1;33m.\u001b[0m\u001b[0mTextReader\u001b[0m\u001b[1;33m(\u001b[0m\u001b[0msrc\u001b[0m\u001b[1;33m,\u001b[0m \u001b[1;33m**\u001b[0m\u001b[0mkwds\u001b[0m\u001b[1;33m)\u001b[0m\u001b[1;33m\u001b[0m\u001b[0m\n\u001b[0m\u001b[0;32m   1606\u001b[0m \u001b[1;33m\u001b[0m\u001b[0m\n\u001b[0;32m   1607\u001b[0m         \u001b[1;31m# XXX\u001b[0m\u001b[1;33m\u001b[0m\u001b[1;33m\u001b[0m\u001b[0m\n",
      "\u001b[1;32mpandas/_libs/parsers.pyx\u001b[0m in \u001b[0;36mpandas._libs.parsers.TextReader.__cinit__ (pandas\\_libs\\parsers.c:4209)\u001b[1;34m()\u001b[0m\n",
      "\u001b[1;32mpandas/_libs/parsers.pyx\u001b[0m in \u001b[0;36mpandas._libs.parsers.TextReader._setup_parser_source (pandas\\_libs\\parsers.c:8873)\u001b[1;34m()\u001b[0m\n",
      "\u001b[1;31mFileNotFoundError\u001b[0m: File b'ks-projects-201801.csv' does not exist"
     ]
    }
   ],
   "source": [
    "# create the dataframe and define a reduced version with the first \n",
    "# 5000 observations of project goal and the total amount pledged\n",
    "raw_data = pd.read_csv('ks-projects-201801.csv')\n",
    "cols = ['goal', 'pledged']\n",
    "df = pd.DataFrame(raw_data, columns = cols)\n",
    "df_training = df[0:5000] # real training set: df[0:250000]\n",
    "# df_testing = df[250000:]\n",
    "\n",
    "# compute (reduced) dataframe dimensions (X = N x M)\n",
    "N = len(df['goal'])\n",
    "M = len(cols)"
   ]
  },
  {
   "cell_type": "code",
   "execution_count": null,
   "metadata": {
    "collapsed": true
   },
   "outputs": [],
   "source": [
    "# Now we need to filter the data for errors\n",
    "\n",
    "# We don't care about the ID or name columns\n",
    "# (we assume that it doesn't matter if a project\n",
    "# is missing a name or ID, or if the name or\n",
    "# ID of the project is strange/missing). We'll take\n",
    "# these out later.\n",
    "\n",
    "# Now for the categories. Let's view them:\n",
    "cat = raw_data.loc[:,'category']\n",
    "if cat.isnull().values.any():\n",
    "    print('---- Empty string/None values detected ----')\n",
    "else:\n",
    "    print('---- No empty strings/None values detected ----')\n",
    "    cat_sort = sorted(set(cat))\n",
    "    print(cat_sort)"
   ]
  },
  {
   "cell_type": "code",
   "execution_count": null,
   "metadata": {
    "collapsed": true
   },
   "outputs": [],
   "source": [
    "# We inspect the cat_sort vector and don't\n",
    "# find any mistakes/errors.\n",
    "\n",
    "# We'll use 1-of-K encoding. Declare the attribute\n",
    "# categorical with pandas\n",
    "raw_data['category'] = pd.Categorical(raw_data['category'])\n",
    "\n",
    "# 1-of-K and combine w/ raw data\n",
    "cat_Dummies = pd.get_dummies(raw_data['category'], prefix = 'category')\n",
    "raw_data = pd.concat([raw_data, cat_Dummies], axis=1)"
   ]
  },
  {
   "cell_type": "code",
   "execution_count": null,
   "metadata": {
    "collapsed": true
   },
   "outputs": [],
   "source": [
    "# Now for the main categories. Let's view them:\n",
    "main_cat = raw_data.loc[:,'main_category']\n",
    "if main_cat.isnull().values.any():\n",
    "    print('---- Empty string/None values detected ----')\n",
    "else:\n",
    "    print('---- No empty strings/None values detected ----')\n",
    "    main_cat_sort = sorted(set(main_cat))\n",
    "    print(main_cat_sort)"
   ]
  },
  {
   "cell_type": "code",
   "execution_count": null,
   "metadata": {
    "collapsed": true
   },
   "outputs": [],
   "source": [
    "# No mistakes/errors. 1-of-K encoding. Declare categorical\n",
    "raw_data['main_category'] = pd.Categorical(raw_data['main_category'])\n",
    "\n",
    "# 1-of-K and combine w/ raw data\n",
    "main_cat_Dummies = pd.get_dummies(raw_data['main_category'], prefix = 'main_cat')\n",
    "raw_data = pd.concat([raw_data, main_cat_Dummies], axis=1)"
   ]
  },
  {
   "cell_type": "code",
   "execution_count": null,
   "metadata": {
    "collapsed": true
   },
   "outputs": [],
   "source": [
    "# Now for currencies. Let's view them:\n",
    "cur = raw_data.loc[:,'currency']\n",
    "if cur.isnull().values.any():\n",
    "    print('---- Empty string/None values detected ----')\n",
    "else:\n",
    "    print('---- No empty strings/None values detected ----')\n",
    "    cur_sort = sorted(set(cur))\n",
    "    print(cur_sort)"
   ]
  },
  {
   "cell_type": "code",
   "execution_count": null,
   "metadata": {
    "collapsed": true
   },
   "outputs": [],
   "source": [
    "# No mistakes/errors. Declare categorical\n",
    "raw_data['currency'] = pd.Categorical(raw_data['currency'])\n",
    "\n",
    "# 1-of-K and combine w/ raw data\n",
    "cur_Dummies = pd.get_dummies(raw_data['currency'], prefix = 'currency')\n",
    "raw_data = pd.concat([raw_data, cur_Dummies], axis=1)"
   ]
  },
  {
   "cell_type": "code",
   "execution_count": null,
   "metadata": {
    "collapsed": true
   },
   "outputs": [],
   "source": [
    "# As far as the dates go, we'd like to exclude projects that started\n",
    "# before April of 2009 and projects that ended after September of 2018\n",
    "# (we only want to look at finished projects)\n",
    "\n",
    "raw_data['launched'] = pd.to_datetime(raw_data['launched'])\n",
    "raw_data['deadline'] = pd.to_datetime(raw_data['deadline'])\n",
    "len(raw_data[raw_data['launched'] < datetime.date(2009,4,1)])\n",
    "\n",
    "# There are 7 observations that started before Kickstarter's founding month.\n",
    "# These are removed:\n",
    "raw_data = raw_data[raw_data['launched'] >= datetime.date(2009,4,1)]"
   ]
  },
  {
   "cell_type": "code",
   "execution_count": null,
   "metadata": {
    "collapsed": true
   },
   "outputs": [],
   "source": [
    "# Now check deadline dates:\n",
    "len(raw_data[raw_data['deadline'] > datetime.date(2018,9,20)])\n",
    "\n",
    "# There aren't any observations finishing after the start of our\n",
    "# work on this project, so we won't remove any."
   ]
  },
  {
   "cell_type": "code",
   "execution_count": null,
   "metadata": {
    "collapsed": true
   },
   "outputs": [],
   "source": [
    "# Now check dates for missing values\n",
    "if raw_data.launched.isnull().values.any():\n",
    "    print('---- Empty string/None values detected ----')\n",
    "else:\n",
    "    print('---- No empty strings/None values detected ----')\n",
    "    \n",
    "if raw_data.deadline.isnull().values.any():\n",
    "    print('---- Empty string/None values detected ----')\n",
    "else:\n",
    "    print('---- No empty strings/None values detected ----')"
   ]
  },
  {
   "cell_type": "code",
   "execution_count": null,
   "metadata": {
    "collapsed": true
   },
   "outputs": [],
   "source": [
    "# Now we'd like to go from \"launched\" and \"deadline\"\n",
    "# to \"duration\" (in days) and \"yearlaunched\"\n",
    "\n",
    "# Year launched \n",
    "raw_data['yearlaunched'] = pd.DatetimeIndex(raw_data['launched']).year\n",
    "\n",
    "# Make a new coloum with the new duration\n",
    "raw_data['duration']=(raw_data['deadline']-raw_data['launched']).astype('timedelta64[h]')/24"
   ]
  },
  {
   "cell_type": "code",
   "execution_count": null,
   "metadata": {
    "collapsed": true
   },
   "outputs": [],
   "source": [
    "# Kickstarter projects used to have a max duration of 90 days (now 60 days).\n",
    "# Therefore we'd like to cut the projects that have a duration of over 90 days.\n",
    "len(raw_data[raw_data['duration'] > 90])\n",
    "\n",
    "# There are 457 such projects. Let's take these out.\n",
    "raw_data = raw_data[raw_data['duration'] < 90]"
   ]
  },
  {
   "cell_type": "code",
   "execution_count": null,
   "metadata": {
    "collapsed": true
   },
   "outputs": [],
   "source": [
    "# Now for the states. Let's view them:\n",
    "states = raw_data['state']\n",
    "if states.isnull().values.any():\n",
    "    print('---- Empty string/None values detected ----')\n",
    "else:\n",
    "    print('---- No empty strings/None values detected ----')\n",
    "    states_sort = sorted(set(states))\n",
    "    print(states_sort)\n",
    "\n",
    "# We inspect the states_sort vector and don't\n",
    "# find any mistakes/errors. We do, however, have canceled, failed, suspended,\n",
    "# undefined, and live projects."
   ]
  },
  {
   "cell_type": "code",
   "execution_count": null,
   "metadata": {
    "collapsed": true
   },
   "outputs": [],
   "source": [
    "# Let's start by inspecting at the undefined.\n",
    "undefined = raw_data[states == 'undefined']\n",
    "print(undefined)"
   ]
  },
  {
   "cell_type": "code",
   "execution_count": null,
   "metadata": {
    "collapsed": true
   },
   "outputs": [],
   "source": [
    "# Seems like most of the undefined are in main categories \"Music\",\n",
    "# \"Publishing\" or \"Film & Video\":\n",
    "(len(undefined[undefined['main_category'] == 'Music'])+len(undefined[undefined['main_category'] == 'Publishing'])+len(undefined[undefined['main_category'] == 'Film & Video']))/len(undefined)\n",
    "\n",
    "# 99.7 percent of undefined projects were in these categories. But based on\n",
    "# what we're doing, we can't really use undefined projects for anything, so\n",
    "# we'll take these rows out.\n",
    "raw_data = raw_data[raw_data['state'] != 'undefined']\n",
    "len(raw_data[raw_data['state'] == 'undefined']) == 0"
   ]
  },
  {
   "cell_type": "code",
   "execution_count": null,
   "metadata": {
    "collapsed": true
   },
   "outputs": [],
   "source": [
    "# Let's inspect the paused projects.\n",
    "len(raw_data[states == 'suspended'])\n",
    "\n",
    "# There are about 1800 of these. We'll take them out as well, since they don't\n",
    "# help us.\n",
    "raw_data = raw_data[raw_data['state'] != 'suspended']\n",
    "len(raw_data[raw_data['state'] == 'suspended']) == 0"
   ]
  },
  {
   "cell_type": "code",
   "execution_count": null,
   "metadata": {
    "collapsed": true
   },
   "outputs": [],
   "source": [
    "# Now for canceled projects:\n",
    "len(raw_data[states == 'canceled'])\n",
    "\n",
    "# About 10% of projects in the data set have been canceled. Let's keep these\n",
    "# in and see if the algorithm can guess which projects will be canceled."
   ]
  },
  {
   "cell_type": "code",
   "execution_count": null,
   "metadata": {
    "collapsed": true
   },
   "outputs": [],
   "source": [
    "# Now for live projects:\n",
    "len(raw_data[states == 'live'])\n",
    "\n",
    "# There are about 2800 of these. The data was pulled in January 2018, so\n",
    "# let's see what that means in terms of end dates.\n",
    "live = raw_data[raw_data['state'] == 'live'].sort_values(by = 'deadline')"
   ]
  },
  {
   "cell_type": "code",
   "execution_count": null,
   "metadata": {
    "collapsed": true
   },
   "outputs": [],
   "source": [
    "# The first 7 examples are mistakes of some sort. Let's see what's up:\n",
    "live.iloc[0:7,:]['usd_pledged_real']\n",
    "live.iloc[0:7,:]['usd_goal_real']\n",
    "live.iloc[0:7,:]['usd_pledged_real'] - live.iloc[0:7,:]['usd_goal_real']"
   ]
  },
  {
   "cell_type": "code",
   "execution_count": null,
   "metadata": {
    "collapsed": true
   },
   "outputs": [],
   "source": [
    "# Its seems that all these projects actually failed. Let's change their status\n",
    "notlive = live.iloc[0:7,:]\n",
    "for i in range(len(notlive)):\n",
    "    notlive.at[i,9] = 'failed'"
   ]
  },
  {
   "cell_type": "code",
   "execution_count": null,
   "metadata": {
    "collapsed": true
   },
   "outputs": [],
   "source": [
    "# Update original dataframe and check\n",
    "raw_data.update(notlive)\n",
    "len(raw_data[raw_data['deadline'] < datetime.date(2018,1,1)][raw_data['state'] == 'live']) == 0\n",
    "\n",
    "# Delete rest of the live values and check\n",
    "raw_data = raw_data[raw_data['state'] != 'live']\n",
    "len(raw_data[raw_data['state'] == 'live']) == 0"
   ]
  },
  {
   "cell_type": "code",
   "execution_count": null,
   "metadata": {
    "collapsed": true
   },
   "outputs": [],
   "source": [
    "# Let's view states again\n",
    "states_1 = raw_data.loc[:,'state']\n",
    "if states_1.isnull().values.any():\n",
    "    print('---- Empty string/None values detected ----')\n",
    "else:\n",
    "    print('---- No empty strings/None values detected ----')\n",
    "    states_1_sort = sorted(set(states_1))\n",
    "    print(states_1_sort)"
   ]
  },
  {
   "cell_type": "code",
   "execution_count": null,
   "metadata": {
    "collapsed": true
   },
   "outputs": [],
   "source": [
    "# No mistakes/errors. Declare categorical\n",
    "raw_data['state'] = pd.Categorical(raw_data['state'])\n",
    "\n",
    "# 1-of-K and combine w/ raw data\n",
    "state_Dummies = pd.get_dummies(raw_data['state'], prefix = 'state')\n",
    "raw_data = pd.concat([raw_data, state_Dummies], axis=1)"
   ]
  },
  {
   "cell_type": "code",
   "execution_count": null,
   "metadata": {
    "collapsed": true
   },
   "outputs": [],
   "source": [
    "# Let's look at backers. Check for missing values\n",
    "if raw_data.backers.isnull().values.any():\n",
    "    print('---- Empty string/None values detected ----')\n",
    "else:\n",
    "    print('---- No empty strings/None values detected ----')"
   ]
  },
  {
   "cell_type": "code",
   "execution_count": null,
   "metadata": {
    "collapsed": true
   },
   "outputs": [],
   "source": [
    "# There are missing values. Let's inspect them:\n",
    "raw_data[raw_data.backers.isnull()]\n",
    "\n",
    "# I don't really know what to do with these, but I'd rather not\n",
    "# delete them. Let's see what the average\n",
    "# amount pledged to backer ratio is.\n",
    "\n",
    "raw_data.ratio = raw_data.usd_pledged_real[raw_data.backers > 0] / raw_data.backers[raw_data.backers > 0]\n",
    "avg_ratio = sum(raw_data.ratio[raw_data.ratio.notnull()]/len(raw_data.ratio[raw_data.ratio.notnull()]))\n",
    "print(avg_ratio)"
   ]
  },
  {
   "cell_type": "code",
   "execution_count": null,
   "metadata": {
    "collapsed": true
   },
   "outputs": [],
   "source": [
    "# Let's replace NaN values using this ratio. But, if there is 0 USD pledged, set backers to 0\n",
    "nullbackers = raw_data[raw_data.backers.isnull()]\n",
    "nullbackers.loc[nullbackers['usd_pledged_real'] == 0, 'backers'] = 0\n",
    "nullbackers.backers = round(nullbackers.usd_pledged_real/avg_ratio)"
   ]
  },
  {
   "cell_type": "code",
   "execution_count": null,
   "metadata": {
    "collapsed": true
   },
   "outputs": [],
   "source": [
    "# Put back into dataframe\n",
    "raw_data.update(nullbackers)\n",
    "\n",
    "# The type is float64, let's convert this to int\n",
    "raw_data.backers = raw_data.backers.astype(int)"
   ]
  },
  {
   "cell_type": "code",
   "execution_count": null,
   "metadata": {
    "collapsed": true
   },
   "outputs": [],
   "source": [
    "# Now for the countries. Let's view them:\n",
    "countries = raw_data.country\n",
    "if countries.isnull().values.any():\n",
    "    print('---- Empty string/None values detected ----')\n",
    "else:\n",
    "    print('---- No empty strings/None values detected ----')\n",
    "    countries_sort = sorted(set(countries))\n",
    "    print(countries_sort)"
   ]
  },
  {
   "cell_type": "code",
   "execution_count": null,
   "metadata": {
    "collapsed": true
   },
   "outputs": [],
   "source": [
    "# 'N,0\"' is clearly a mistake.\n",
    "raw_data.country[raw_data.country == 'N,0\"']"
   ]
  },
  {
   "cell_type": "code",
   "execution_count": null,
   "metadata": {
    "collapsed": true
   },
   "outputs": [],
   "source": [
    "# For whatever reason there are 233 of these observations. No clue what that\n",
    "# means. Let's check currency for these observations\n",
    "raw_data.currency[raw_data.country == 'N,0\"']"
   ]
  },
  {
   "cell_type": "code",
   "execution_count": null,
   "metadata": {
    "collapsed": true
   },
   "outputs": [],
   "source": [
    "# All sorts of different currencies. Let's check more generally.\n",
    "raw_data[raw_data.country == 'N,0\"'].sort_values(by = 'usd_pledged_real')"
   ]
  },
  {
   "cell_type": "code",
   "execution_count": null,
   "metadata": {
    "collapsed": true
   },
   "outputs": [],
   "source": [
    "# Let's not delete these values. At least one of these projects seem significant\n",
    "# (there's one with over 2.7 mio USD pledged).\n",
    "\n",
    "# 1-of-K encoding. Declare categorical\n",
    "raw_data.country = pd.Categorical(raw_data.country)\n",
    "\n",
    "# 1-of-K and combine w/ raw data\n",
    "country_Dummies = pd.get_dummies(raw_data.country, prefix = 'country')\n",
    "raw_data = pd.concat([raw_data, country_Dummies], axis=1)"
   ]
  },
  {
   "cell_type": "code",
   "execution_count": null,
   "metadata": {
    "collapsed": true
   },
   "outputs": [],
   "source": [
    "# We only want to use usd_pledged_real and usd_goal_real, so we'll delete\n",
    "# everything else. Now we'll also delete the ID and name columns, and the\n",
    "# categorical variables that we've 1-of-K encoded.\n",
    "\n",
    "# First let's check usd_pledged_real and usd_goal_real. Check for missing values:\n",
    "pledged = raw_data.usd_pledged_real\n",
    "if pledged.isnull().values.any():\n",
    "    print('---- Empty string/None values detected ----')\n",
    "else:\n",
    "    print('---- No empty strings/None values detected ----')\n",
    "    \n",
    "goal = raw_data.usd_goal_real\n",
    "if goal.isnull().values.any():\n",
    "    print('---- Empty string/None values detected ----')\n",
    "else:\n",
    "    print('---- No empty strings/None values detected ----')"
   ]
  },
  {
   "cell_type": "code",
   "execution_count": null,
   "metadata": {
    "collapsed": true
   },
   "outputs": [],
   "source": [
    "# Check for negatives:\n",
    "len(raw_data[raw_data['usd_pledged_real'] < 0])\n",
    "len(raw_data[raw_data['usd_goal_real'] < 0])"
   ]
  },
  {
   "cell_type": "code",
   "execution_count": null,
   "metadata": {
    "collapsed": true
   },
   "outputs": [],
   "source": [
    "# Fine. Fetch the new column names:\n",
    "col1 = raw_data.columns.values\n",
    "\n",
    "# Switch backers with usd_pledged_real (from https://stackoverflow.com/\n",
    "# questions/25649429/how-to-swap-two-dataframe-columns)\n",
    "col1[10], col1[12] = col1[12], col1[10]\n",
    "\n",
    "# assign back, the order will now be swapped\n",
    "raw_data.columns = col1\n",
    "raw_data.columns.values"
   ]
  },
  {
   "cell_type": "code",
   "execution_count": null,
   "metadata": {
    "collapsed": true
   },
   "outputs": [],
   "source": [
    "# Now let's take the important part of the data\n",
    "raw_data = raw_data.iloc[:,12:]\n",
    "\n",
    "# Check one last time for missing data\n",
    "raw_data.isnull().sum().sum()\n",
    "\n",
    "# PCA analysis should now be possible"
   ]
  },
  {
   "cell_type": "code",
   "execution_count": 68,
   "metadata": {},
   "outputs": [
    {
     "data": {
      "image/png": "[encoded data removed]",
      "text/plain": [
       "<Figure size 360x360 with 1 Axes>"
      ]
     },
     "metadata": {},
     "output_type": "display_data"
    }
   ],
   "source": [
    "# plot a simple relationship\n",
    "fig, ax = plt.subplots(figsize=(5,5))\n",
    "ax.set(title='5000 projects up to 100k USD',\n",
    "      xlabel='Project goal [USD]', ylabel='Money pledged [USD]',\n",
    "      xlim=[0, 100000], ylim=[0, 100000])\n",
    "ax.scatter(df_training['goal'], df_training['pledged'], alpha=0.5)\n",
    "ax.plot(df_training['goal'], df_training['goal'], color='black', linewidth=1, label='Threshold')\n",
    "ax.legend()\n",
    "# idea: split dataset\n",
    "success_mask = [df_training['pledged'] >= df_training['goal']]\n",
    "# 'succeeded'-color blue, else 'failed'-red "
   ]
  },
  {
   "cell_type": "code",
   "execution_count": null,
   "metadata": {
    "collapsed": true
   },
   "outputs": [],
   "source": [
    "# Subtract mean value from data\n",
    "Y = X - X.mean(axis=0)\n",
    "\n",
    "# PCA by computing SVD of Y\n",
    "U,S,V = svd(Y,full_matrices=False)\n",
    "# print('U[0] = ', U[0], '\\nS[0] =', S[0], '\\nV[0] =', V[0])\n",
    "\n",
    "# Compute variance explained by principal components\n",
    "rho = (S**2) / (S**2).sum()\n",
    "\n",
    "# Plot variance explained\n",
    "fig, ax = plt.subplots(ncols=2)\n",
    "ax1.plot(range(1,len(rho)+1),rho,'o-')\n",
    "ax1.set(title='Variance explained by principal components', \n",
    "        xlabel='Principal component', ylabel='Variance explained')"
   ]
  },
  {
   "cell_type": "markdown",
   "metadata": {},
   "source": [
    "It is possible to use standard LaTeX code to visualize formulas nicely:\n",
    "\n",
    "$$y+2x^2 = 2\\pi$$\n",
    "\n",
    "$$\\sum\\limits_{x=1}^{\\infty} {1 \\over x} = 2$$"
   ]
  }
 ],
 "metadata": {
  "kernelspec": {
   "display_name": "Python 3",
   "language": "python",
   "name": "python3"
  },
  "language_info": {
   "codemirror_mode": {
    "name": "ipython",
    "version": 3
   },
   "file_extension": ".py",
   "mimetype": "text/x-python",
   "name": "python",
   "nbconvert_exporter": "python",
   "pygments_lexer": "ipython3",
   "version": "3.6.3"
  }
 },
 "nbformat": 4,
 "nbformat_minor": 2
}
