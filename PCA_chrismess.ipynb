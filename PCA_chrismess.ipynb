{
 "cells": [
  {
   "cell_type": "markdown",
   "metadata": {},
   "source": [
    "# Principle Component analysis of crowdfunding projects\n",
    "Data visualization of Kickstarter projects based on suitable visualization techniques including a principal component analysis (PCA).\n",
    "\n",
    "The dataset was downloaded from\n",
    "https://www.kaggle.com/kemical/kickstarter-projects \n",
    "on September 14th 2018."
   ]
  },
  {
   "cell_type": "code",
   "execution_count": 374,
   "metadata": {},
   "outputs": [
    {
     "data": {
      "text/html": [
       "<script>requirejs.config({paths: { 'plotly': ['https://cdn.plot.ly/plotly-latest.min']},});if(!window.Plotly) {{require(['plotly'],function(plotly) {window.Plotly=plotly;});}}</script>"
      ],
      "text/vnd.plotly.v1+html": [
       "<script>requirejs.config({paths: { 'plotly': ['https://cdn.plot.ly/plotly-latest.min']},});if(!window.Plotly) {{require(['plotly'],function(plotly) {window.Plotly=plotly;});}}</script>"
      ]
     },
     "metadata": {},
     "output_type": "display_data"
    }
   ],
   "source": [
    "import numpy as np\n",
    "import pandas as pd\n",
    "import matplotlib.pyplot as plt\n",
    "plt.rcParams.update({'font.size': 40})\n",
    "from scipy.linalg import svd\n",
    "import plotly as py\n",
    "import plotly.graph_objs as go\n",
    "import seaborn as sns\n",
    "\n",
    "# use plotly in offline mode:\n",
    "py.offline.init_notebook_mode(connected=True)"
   ]
  },
  {
   "cell_type": "code",
   "execution_count": 184,
   "metadata": {
    "collapsed": true
   },
   "outputs": [],
   "source": [
    "%matplotlib inline"
   ]
  },
  {
   "cell_type": "code",
   "execution_count": 185,
   "metadata": {
    "collapsed": true
   },
   "outputs": [],
   "source": [
    "# basic pandas settings\n",
    "pd.options.display.max_rows = 10\n",
    "pd.options.display.float_format = '{:,.2f}'.format\n",
    "plt.rcParams['figure.figsize'] = (16, 12)"
   ]
  },
  {
   "cell_type": "markdown",
   "metadata": {},
   "source": [
    "## 1. Data inspection and cleaning"
   ]
  },
  {
   "cell_type": "code",
   "execution_count": 186,
   "metadata": {
    "collapsed": true,
    "scrolled": true
   },
   "outputs": [],
   "source": [
    "# create the dataframe and define a reduced version with the first \n",
    "# 5000 observations of project goal and the total amount pledged\n",
    "raw_data = pd.read_csv('ks-projects-201801.csv')\n",
    "cols = ['goal', 'pledged']\n",
    "df = pd.DataFrame(raw_data, columns = cols)\n",
    "df_training = df[0:5000] # real training set: df[0:250000]\n",
    "# df_testing = df[250000:]\n",
    "\n",
    "# compute (reduced) dataframe dimensions (X = N x M)\n",
    "N = len(df['goal'])\n",
    "M = len(cols)"
   ]
  },
  {
   "cell_type": "code",
   "execution_count": 187,
   "metadata": {},
   "outputs": [
    {
     "name": "stdout",
     "output_type": "stream",
     "text": [
      "name\n",
      "4\n",
      "usd pledged\n",
      "3797\n"
     ]
    }
   ],
   "source": [
    "# Initial check for missing values\n",
    "col = raw_data.columns\n",
    "\n",
    "for i in col:\n",
    "    if raw_data[i].isnull().sum().sum() != 0:\n",
    "        print(i)\n",
    "        print(raw_data[i].isnull().sum().sum())\n",
    "\n",
    "# 4 missing name values\n",
    "# 3797 missing usd pledged values\n",
    "# We won't be using either of these attributes\n",
    "# so let's not worry about this."
   ]
  },
  {
   "cell_type": "code",
   "execution_count": 188,
   "metadata": {},
   "outputs": [
    {
     "name": "stdout",
     "output_type": "stream",
     "text": [
      "---- No empty strings/None values detected ----\n",
      "['3D Printing', 'Academic', 'Accessories', 'Action', 'Animals', 'Animation', 'Anthologies', 'Apparel', 'Apps', 'Architecture', 'Art', 'Art Books', 'Audio', 'Bacon', 'Blues', 'Calendars', 'Camera Equipment', 'Candles', 'Ceramics', \"Children's Books\", 'Childrenswear', 'Chiptune', 'Civic Design', 'Classical Music', 'Comedy', 'Comic Books', 'Comics', 'Community Gardens', 'Conceptual Art', 'Cookbooks', 'Country & Folk', 'Couture', 'Crafts', 'Crochet', 'DIY', 'DIY Electronics', 'Dance', 'Design', 'Digital Art', 'Documentary', 'Drama', 'Drinks', 'Electronic Music', 'Embroidery', 'Events', 'Experimental', 'Fabrication Tools', 'Faith', 'Family', 'Fantasy', \"Farmer's Markets\", 'Farms', 'Fashion', 'Festivals', 'Fiction', 'Film & Video', 'Fine Art', 'Flight', 'Food', 'Food Trucks', 'Footwear', 'Gadgets', 'Games', 'Gaming Hardware', 'Glass', 'Graphic Design', 'Graphic Novels', 'Hardware', 'Hip-Hop', 'Horror', 'Illustration', 'Immersive', 'Indie Rock', 'Installations', 'Interactive Design', 'Jazz', 'Jewelry', 'Journalism', 'Kids', 'Knitting', 'Latin', 'Letterpress', 'Literary Journals', 'Literary Spaces', 'Live Games', 'Makerspaces', 'Metal', 'Mixed Media', 'Mobile Games', 'Movie Theaters', 'Music', 'Music Videos', 'Musical', 'Narrative Film', 'Nature', 'Nonfiction', 'Painting', 'People', 'Performance Art', 'Performances', 'Periodicals', 'Pet Fashion', 'Photo', 'Photobooks', 'Photography', 'Places', 'Playing Cards', 'Plays', 'Poetry', 'Pop', 'Pottery', 'Print', 'Printing', 'Product Design', 'Public Art', 'Publishing', 'Punk', 'Puzzles', 'Quilts', 'R&B', 'Radio & Podcasts', 'Ready-to-wear', 'Residencies', 'Restaurants', 'Robots', 'Rock', 'Romance', 'Science Fiction', 'Sculpture', 'Shorts', 'Small Batch', 'Software', 'Sound', 'Space Exploration', 'Spaces', 'Stationery', 'Tabletop Games', 'Taxidermy', 'Technology', 'Television', 'Textiles', 'Theater', 'Thrillers', 'Translations', 'Typography', 'Vegan', 'Video', 'Video Art', 'Video Games', 'Wearables', 'Weaving', 'Web', 'Webcomics', 'Webseries', 'Woodworking', 'Workshops', 'World Music', 'Young Adult', 'Zines']\n",
      "\n",
      "Total number of individual categories: \n",
      " 159\n"
     ]
    }
   ],
   "source": [
    "# Now for the categories. Let's view them:\n",
    "cat = raw_data.loc[:,'category']\n",
    "\n",
    "if cat.isnull().values.any():\n",
    "    print('---- Empty string/None values detected ----')\n",
    "else:\n",
    "    print('---- No empty strings/None values detected ----')\n",
    "    cat_sort = sorted(set(cat))\n",
    "    print(cat_sort)\n",
    "    print('\\nTotal number of individual categories: \\n', len(cat_sort))"
   ]
  },
  {
   "cell_type": "code",
   "execution_count": 189,
   "metadata": {},
   "outputs": [
    {
     "data": {
      "text/plain": [
       "array(['ID', 'name', 'category', 'main_category', 'currency', 'deadline',\n",
       "       'goal', 'launched', 'pledged', 'state', 'backers', 'country',\n",
       "       'usd pledged', 'usd_pledged_real', 'usd_goal_real',\n",
       "       'category_3D Printing', 'category_Academic', 'category_Accessories',\n",
       "       'category_Action', 'category_Animals', 'category_Animation',\n",
       "       'category_Anthologies', 'category_Apparel', 'category_Apps',\n",
       "       'category_Architecture', 'category_Art', 'category_Art Books',\n",
       "       'category_Audio', 'category_Bacon', 'category_Blues',\n",
       "       'category_Calendars', 'category_Camera Equipment',\n",
       "       'category_Candles', 'category_Ceramics',\n",
       "       \"category_Children's Books\", 'category_Childrenswear',\n",
       "       'category_Chiptune', 'category_Civic Design',\n",
       "       'category_Classical Music', 'category_Comedy',\n",
       "       'category_Comic Books', 'category_Comics',\n",
       "       'category_Community Gardens', 'category_Conceptual Art',\n",
       "       'category_Cookbooks', 'category_Country & Folk', 'category_Couture',\n",
       "       'category_Crafts', 'category_Crochet', 'category_DIY',\n",
       "       'category_DIY Electronics', 'category_Dance', 'category_Design',\n",
       "       'category_Digital Art', 'category_Documentary', 'category_Drama',\n",
       "       'category_Drinks', 'category_Electronic Music',\n",
       "       'category_Embroidery', 'category_Events', 'category_Experimental',\n",
       "       'category_Fabrication Tools', 'category_Faith', 'category_Family',\n",
       "       'category_Fantasy', \"category_Farmer's Markets\", 'category_Farms',\n",
       "       'category_Fashion', 'category_Festivals', 'category_Fiction',\n",
       "       'category_Film & Video', 'category_Fine Art', 'category_Flight',\n",
       "       'category_Food', 'category_Food Trucks', 'category_Footwear',\n",
       "       'category_Gadgets', 'category_Games', 'category_Gaming Hardware',\n",
       "       'category_Glass', 'category_Graphic Design',\n",
       "       'category_Graphic Novels', 'category_Hardware', 'category_Hip-Hop',\n",
       "       'category_Horror', 'category_Illustration', 'category_Immersive',\n",
       "       'category_Indie Rock', 'category_Installations',\n",
       "       'category_Interactive Design', 'category_Jazz', 'category_Jewelry',\n",
       "       'category_Journalism', 'category_Kids', 'category_Knitting',\n",
       "       'category_Latin', 'category_Letterpress',\n",
       "       'category_Literary Journals', 'category_Literary Spaces',\n",
       "       'category_Live Games', 'category_Makerspaces', 'category_Metal',\n",
       "       'category_Mixed Media', 'category_Mobile Games',\n",
       "       'category_Movie Theaters', 'category_Music',\n",
       "       'category_Music Videos', 'category_Musical',\n",
       "       'category_Narrative Film', 'category_Nature', 'category_Nonfiction',\n",
       "       'category_Painting', 'category_People', 'category_Performance Art',\n",
       "       'category_Performances', 'category_Periodicals',\n",
       "       'category_Pet Fashion', 'category_Photo', 'category_Photobooks',\n",
       "       'category_Photography', 'category_Places', 'category_Playing Cards',\n",
       "       'category_Plays', 'category_Poetry', 'category_Pop',\n",
       "       'category_Pottery', 'category_Print', 'category_Printing',\n",
       "       'category_Product Design', 'category_Public Art',\n",
       "       'category_Publishing', 'category_Punk', 'category_Puzzles',\n",
       "       'category_Quilts', 'category_R&B', 'category_Radio & Podcasts',\n",
       "       'category_Ready-to-wear', 'category_Residencies',\n",
       "       'category_Restaurants', 'category_Robots', 'category_Rock',\n",
       "       'category_Romance', 'category_Science Fiction',\n",
       "       'category_Sculpture', 'category_Shorts', 'category_Small Batch',\n",
       "       'category_Software', 'category_Sound', 'category_Space Exploration',\n",
       "       'category_Spaces', 'category_Stationery', 'category_Tabletop Games',\n",
       "       'category_Taxidermy', 'category_Technology', 'category_Television',\n",
       "       'category_Textiles', 'category_Theater', 'category_Thrillers',\n",
       "       'category_Translations', 'category_Typography', 'category_Vegan',\n",
       "       'category_Video', 'category_Video Art', 'category_Video Games',\n",
       "       'category_Wearables', 'category_Weaving', 'category_Web',\n",
       "       'category_Webcomics', 'category_Webseries', 'category_Woodworking',\n",
       "       'category_Workshops', 'category_World Music',\n",
       "       'category_Young Adult', 'category_Zines'], dtype=object)"
      ]
     },
     "execution_count": 189,
     "metadata": {},
     "output_type": "execute_result"
    }
   ],
   "source": [
    "# We inspect the cat_sort vector and don't\n",
    "# find any mistakes/errors.\n",
    "\n",
    "# We'll use 1-of-K encoding. Declare the attribute\n",
    "# categorical with pandas\n",
    "raw_data['category'] = pd.Categorical(raw_data['category'])\n",
    "\n",
    "# 1-of-K and combine w/ raw data\n",
    "cat_Dummies = pd.get_dummies(raw_data['category'], prefix = 'category')\n",
    "raw_data = pd.concat([raw_data, cat_Dummies], axis=1)\n",
    "\n",
    "# Check columns\n",
    "raw_data.columns.values"
   ]
  },
  {
   "cell_type": "code",
   "execution_count": 190,
   "metadata": {},
   "outputs": [
    {
     "name": "stdout",
     "output_type": "stream",
     "text": [
      "---- No empty strings/None values detected ----\n",
      "['Art', 'Comics', 'Crafts', 'Dance', 'Design', 'Fashion', 'Film & Video', 'Food', 'Games', 'Journalism', 'Music', 'Photography', 'Publishing', 'Technology', 'Theater']\n"
     ]
    }
   ],
   "source": [
    "# Now for the main categories. Let's view them:\n",
    "main_cat = raw_data.loc[:,'main_category']\n",
    "if main_cat.isnull().values.any():\n",
    "    print('---- Empty string/None values detected ----')\n",
    "else:\n",
    "    print('---- No empty strings/None values detected ----')\n",
    "    main_cat_sort = sorted(set(main_cat))\n",
    "    print(main_cat_sort)"
   ]
  },
  {
   "cell_type": "code",
   "execution_count": 191,
   "metadata": {},
   "outputs": [
    {
     "data": {
      "text/plain": [
       "array(['ID', 'name', 'category', 'main_category', 'currency', 'deadline',\n",
       "       'goal', 'launched', 'pledged', 'state', 'backers', 'country',\n",
       "       'usd pledged', 'usd_pledged_real', 'usd_goal_real',\n",
       "       'category_3D Printing', 'category_Academic', 'category_Accessories',\n",
       "       'category_Action', 'category_Animals', 'category_Animation',\n",
       "       'category_Anthologies', 'category_Apparel', 'category_Apps',\n",
       "       'category_Architecture', 'category_Art', 'category_Art Books',\n",
       "       'category_Audio', 'category_Bacon', 'category_Blues',\n",
       "       'category_Calendars', 'category_Camera Equipment',\n",
       "       'category_Candles', 'category_Ceramics',\n",
       "       \"category_Children's Books\", 'category_Childrenswear',\n",
       "       'category_Chiptune', 'category_Civic Design',\n",
       "       'category_Classical Music', 'category_Comedy',\n",
       "       'category_Comic Books', 'category_Comics',\n",
       "       'category_Community Gardens', 'category_Conceptual Art',\n",
       "       'category_Cookbooks', 'category_Country & Folk', 'category_Couture',\n",
       "       'category_Crafts', 'category_Crochet', 'category_DIY',\n",
       "       'category_DIY Electronics', 'category_Dance', 'category_Design',\n",
       "       'category_Digital Art', 'category_Documentary', 'category_Drama',\n",
       "       'category_Drinks', 'category_Electronic Music',\n",
       "       'category_Embroidery', 'category_Events', 'category_Experimental',\n",
       "       'category_Fabrication Tools', 'category_Faith', 'category_Family',\n",
       "       'category_Fantasy', \"category_Farmer's Markets\", 'category_Farms',\n",
       "       'category_Fashion', 'category_Festivals', 'category_Fiction',\n",
       "       'category_Film & Video', 'category_Fine Art', 'category_Flight',\n",
       "       'category_Food', 'category_Food Trucks', 'category_Footwear',\n",
       "       'category_Gadgets', 'category_Games', 'category_Gaming Hardware',\n",
       "       'category_Glass', 'category_Graphic Design',\n",
       "       'category_Graphic Novels', 'category_Hardware', 'category_Hip-Hop',\n",
       "       'category_Horror', 'category_Illustration', 'category_Immersive',\n",
       "       'category_Indie Rock', 'category_Installations',\n",
       "       'category_Interactive Design', 'category_Jazz', 'category_Jewelry',\n",
       "       'category_Journalism', 'category_Kids', 'category_Knitting',\n",
       "       'category_Latin', 'category_Letterpress',\n",
       "       'category_Literary Journals', 'category_Literary Spaces',\n",
       "       'category_Live Games', 'category_Makerspaces', 'category_Metal',\n",
       "       'category_Mixed Media', 'category_Mobile Games',\n",
       "       'category_Movie Theaters', 'category_Music',\n",
       "       'category_Music Videos', 'category_Musical',\n",
       "       'category_Narrative Film', 'category_Nature', 'category_Nonfiction',\n",
       "       'category_Painting', 'category_People', 'category_Performance Art',\n",
       "       'category_Performances', 'category_Periodicals',\n",
       "       'category_Pet Fashion', 'category_Photo', 'category_Photobooks',\n",
       "       'category_Photography', 'category_Places', 'category_Playing Cards',\n",
       "       'category_Plays', 'category_Poetry', 'category_Pop',\n",
       "       'category_Pottery', 'category_Print', 'category_Printing',\n",
       "       'category_Product Design', 'category_Public Art',\n",
       "       'category_Publishing', 'category_Punk', 'category_Puzzles',\n",
       "       'category_Quilts', 'category_R&B', 'category_Radio & Podcasts',\n",
       "       'category_Ready-to-wear', 'category_Residencies',\n",
       "       'category_Restaurants', 'category_Robots', 'category_Rock',\n",
       "       'category_Romance', 'category_Science Fiction',\n",
       "       'category_Sculpture', 'category_Shorts', 'category_Small Batch',\n",
       "       'category_Software', 'category_Sound', 'category_Space Exploration',\n",
       "       'category_Spaces', 'category_Stationery', 'category_Tabletop Games',\n",
       "       'category_Taxidermy', 'category_Technology', 'category_Television',\n",
       "       'category_Textiles', 'category_Theater', 'category_Thrillers',\n",
       "       'category_Translations', 'category_Typography', 'category_Vegan',\n",
       "       'category_Video', 'category_Video Art', 'category_Video Games',\n",
       "       'category_Wearables', 'category_Weaving', 'category_Web',\n",
       "       'category_Webcomics', 'category_Webseries', 'category_Woodworking',\n",
       "       'category_Workshops', 'category_World Music',\n",
       "       'category_Young Adult', 'category_Zines', 'main_cat_Art',\n",
       "       'main_cat_Comics', 'main_cat_Crafts', 'main_cat_Dance',\n",
       "       'main_cat_Design', 'main_cat_Fashion', 'main_cat_Film & Video',\n",
       "       'main_cat_Food', 'main_cat_Games', 'main_cat_Journalism',\n",
       "       'main_cat_Music', 'main_cat_Photography', 'main_cat_Publishing',\n",
       "       'main_cat_Technology', 'main_cat_Theater'], dtype=object)"
      ]
     },
     "execution_count": 191,
     "metadata": {},
     "output_type": "execute_result"
    }
   ],
   "source": [
    "# No mistakes/errors. 1-of-K encoding. Declare categorical\n",
    "raw_data['main_category'] = pd.Categorical(raw_data['main_category'])\n",
    "\n",
    "# 1-of-K and combine w/ raw data\n",
    "main_cat_Dummies = pd.get_dummies(raw_data['main_category'], prefix = 'main_cat')\n",
    "raw_data = pd.concat([raw_data, main_cat_Dummies], axis=1)\n",
    "\n",
    "# Check columns\n",
    "raw_data.columns.values"
   ]
  },
  {
   "cell_type": "code",
   "execution_count": 192,
   "metadata": {},
   "outputs": [
    {
     "name": "stdout",
     "output_type": "stream",
     "text": [
      "---- No empty strings/None values detected ----\n",
      "['AUD', 'CAD', 'CHF', 'DKK', 'EUR', 'GBP', 'HKD', 'JPY', 'MXN', 'NOK', 'NZD', 'SEK', 'SGD', 'USD']\n"
     ]
    }
   ],
   "source": [
    "# Now for currencies. Let's view them:\n",
    "cur = raw_data.loc[:,'currency']\n",
    "if cur.isnull().values.any():\n",
    "    print('---- Empty string/None values detected ----')\n",
    "else:\n",
    "    print('---- No empty strings/None values detected ----')\n",
    "    cur_sort = sorted(set(cur))\n",
    "    print(cur_sort)"
   ]
  },
  {
   "cell_type": "code",
   "execution_count": 193,
   "metadata": {},
   "outputs": [
    {
     "data": {
      "text/plain": [
       "array(['ID', 'name', 'category', 'main_category', 'currency', 'deadline',\n",
       "       'goal', 'launched', 'pledged', 'state', 'backers', 'country',\n",
       "       'usd pledged', 'usd_pledged_real', 'usd_goal_real',\n",
       "       'category_3D Printing', 'category_Academic', 'category_Accessories',\n",
       "       'category_Action', 'category_Animals', 'category_Animation',\n",
       "       'category_Anthologies', 'category_Apparel', 'category_Apps',\n",
       "       'category_Architecture', 'category_Art', 'category_Art Books',\n",
       "       'category_Audio', 'category_Bacon', 'category_Blues',\n",
       "       'category_Calendars', 'category_Camera Equipment',\n",
       "       'category_Candles', 'category_Ceramics',\n",
       "       \"category_Children's Books\", 'category_Childrenswear',\n",
       "       'category_Chiptune', 'category_Civic Design',\n",
       "       'category_Classical Music', 'category_Comedy',\n",
       "       'category_Comic Books', 'category_Comics',\n",
       "       'category_Community Gardens', 'category_Conceptual Art',\n",
       "       'category_Cookbooks', 'category_Country & Folk', 'category_Couture',\n",
       "       'category_Crafts', 'category_Crochet', 'category_DIY',\n",
       "       'category_DIY Electronics', 'category_Dance', 'category_Design',\n",
       "       'category_Digital Art', 'category_Documentary', 'category_Drama',\n",
       "       'category_Drinks', 'category_Electronic Music',\n",
       "       'category_Embroidery', 'category_Events', 'category_Experimental',\n",
       "       'category_Fabrication Tools', 'category_Faith', 'category_Family',\n",
       "       'category_Fantasy', \"category_Farmer's Markets\", 'category_Farms',\n",
       "       'category_Fashion', 'category_Festivals', 'category_Fiction',\n",
       "       'category_Film & Video', 'category_Fine Art', 'category_Flight',\n",
       "       'category_Food', 'category_Food Trucks', 'category_Footwear',\n",
       "       'category_Gadgets', 'category_Games', 'category_Gaming Hardware',\n",
       "       'category_Glass', 'category_Graphic Design',\n",
       "       'category_Graphic Novels', 'category_Hardware', 'category_Hip-Hop',\n",
       "       'category_Horror', 'category_Illustration', 'category_Immersive',\n",
       "       'category_Indie Rock', 'category_Installations',\n",
       "       'category_Interactive Design', 'category_Jazz', 'category_Jewelry',\n",
       "       'category_Journalism', 'category_Kids', 'category_Knitting',\n",
       "       'category_Latin', 'category_Letterpress',\n",
       "       'category_Literary Journals', 'category_Literary Spaces',\n",
       "       'category_Live Games', 'category_Makerspaces', 'category_Metal',\n",
       "       'category_Mixed Media', 'category_Mobile Games',\n",
       "       'category_Movie Theaters', 'category_Music',\n",
       "       'category_Music Videos', 'category_Musical',\n",
       "       'category_Narrative Film', 'category_Nature', 'category_Nonfiction',\n",
       "       'category_Painting', 'category_People', 'category_Performance Art',\n",
       "       'category_Performances', 'category_Periodicals',\n",
       "       'category_Pet Fashion', 'category_Photo', 'category_Photobooks',\n",
       "       'category_Photography', 'category_Places', 'category_Playing Cards',\n",
       "       'category_Plays', 'category_Poetry', 'category_Pop',\n",
       "       'category_Pottery', 'category_Print', 'category_Printing',\n",
       "       'category_Product Design', 'category_Public Art',\n",
       "       'category_Publishing', 'category_Punk', 'category_Puzzles',\n",
       "       'category_Quilts', 'category_R&B', 'category_Radio & Podcasts',\n",
       "       'category_Ready-to-wear', 'category_Residencies',\n",
       "       'category_Restaurants', 'category_Robots', 'category_Rock',\n",
       "       'category_Romance', 'category_Science Fiction',\n",
       "       'category_Sculpture', 'category_Shorts', 'category_Small Batch',\n",
       "       'category_Software', 'category_Sound', 'category_Space Exploration',\n",
       "       'category_Spaces', 'category_Stationery', 'category_Tabletop Games',\n",
       "       'category_Taxidermy', 'category_Technology', 'category_Television',\n",
       "       'category_Textiles', 'category_Theater', 'category_Thrillers',\n",
       "       'category_Translations', 'category_Typography', 'category_Vegan',\n",
       "       'category_Video', 'category_Video Art', 'category_Video Games',\n",
       "       'category_Wearables', 'category_Weaving', 'category_Web',\n",
       "       'category_Webcomics', 'category_Webseries', 'category_Woodworking',\n",
       "       'category_Workshops', 'category_World Music',\n",
       "       'category_Young Adult', 'category_Zines', 'main_cat_Art',\n",
       "       'main_cat_Comics', 'main_cat_Crafts', 'main_cat_Dance',\n",
       "       'main_cat_Design', 'main_cat_Fashion', 'main_cat_Film & Video',\n",
       "       'main_cat_Food', 'main_cat_Games', 'main_cat_Journalism',\n",
       "       'main_cat_Music', 'main_cat_Photography', 'main_cat_Publishing',\n",
       "       'main_cat_Technology', 'main_cat_Theater', 'currency_AUD',\n",
       "       'currency_CAD', 'currency_CHF', 'currency_DKK', 'currency_EUR',\n",
       "       'currency_GBP', 'currency_HKD', 'currency_JPY', 'currency_MXN',\n",
       "       'currency_NOK', 'currency_NZD', 'currency_SEK', 'currency_SGD',\n",
       "       'currency_USD'], dtype=object)"
      ]
     },
     "execution_count": 193,
     "metadata": {},
     "output_type": "execute_result"
    }
   ],
   "source": [
    "# No mistakes/errors. Declare categorical\n",
    "raw_data['currency'] = pd.Categorical(raw_data['currency'])\n",
    "\n",
    "# 1-of-K and combine w/ raw data\n",
    "cur_Dummies = pd.get_dummies(raw_data['currency'], prefix = 'currency')\n",
    "raw_data = pd.concat([raw_data, cur_Dummies], axis=1)\n",
    "\n",
    "# Check columns\n",
    "raw_data.columns.values"
   ]
  },
  {
   "cell_type": "code",
   "execution_count": 194,
   "metadata": {},
   "outputs": [
    {
     "name": "stdout",
     "output_type": "stream",
     "text": [
      "12 projects with implausible starting date were found and removed.\n"
     ]
    },
    {
     "data": {
      "text/plain": [
       "True"
      ]
     },
     "execution_count": 194,
     "metadata": {},
     "output_type": "execute_result"
    }
   ],
   "source": [
    "# As far as the dates go, we'd like to exclude projects that started\n",
    "# before April of 2009 and projects that ended after September of 2018\n",
    "# (we only want to look at finished projects)\n",
    "\n",
    "raw_data['launched'] = pd.to_datetime(raw_data['launched'])\n",
    "raw_data['deadline'] = pd.to_datetime(raw_data['deadline'])\n",
    "print(len(raw_data[raw_data['launched'] < pd.Timestamp('2009-04-28')]), \\\n",
    "     'projects with implausible starting date were found and removed.')\n",
    "\n",
    "# There are 12 observations that started before Kickstarter's founding.\n",
    "# These are removed and checked:\n",
    "raw_data = raw_data[raw_data['launched'] >= pd.Timestamp('2009-04-28')]\n",
    "len(raw_data[raw_data['launched'] < pd.Timestamp('2009-04-28')]) == 0"
   ]
  },
  {
   "cell_type": "code",
   "execution_count": 195,
   "metadata": {},
   "outputs": [
    {
     "name": "stdout",
     "output_type": "stream",
     "text": [
      "---- No empty strings/None values detected ----\n",
      "---- No empty strings/None values detected ----\n"
     ]
    }
   ],
   "source": [
    "# Check dates for missing values\n",
    "if raw_data.launched.isnull().values.any():\n",
    "    print('---- Empty string/None values detected ----')\n",
    "else:\n",
    "    print('---- No empty strings/None values detected ----')\n",
    "    \n",
    "if raw_data.deadline.isnull().values.any():\n",
    "    print('---- Empty string/None values detected ----')\n",
    "else:\n",
    "    print('---- No empty strings/None values detected ----')"
   ]
  },
  {
   "cell_type": "code",
   "execution_count": 196,
   "metadata": {
    "collapsed": true
   },
   "outputs": [],
   "source": [
    "# Now we'd like to go from \"launched\" and \"deadline\"\n",
    "# to \"duration\" (in days), \"yearlaunched\", \"monthlaunched\"\n",
    "# and the number of the month after the founding of Kickstarter\n",
    "\n",
    "# Year launched \n",
    "raw_data['yearlaunched'] = pd.DatetimeIndex(raw_data['launched']).year\n",
    "# Month launched \n",
    "raw_data['monthlaunched'] = pd.DatetimeIndex(raw_data['launched']).month\n",
    "\n",
    "# Make a new coloum with the new duration\n",
    "raw_data['duration']=(raw_data['deadline']-raw_data['launched']).astype('timedelta64[h]')/24"
   ]
  },
  {
   "cell_type": "code",
   "execution_count": 197,
   "metadata": {},
   "outputs": [
    {
     "data": {
      "text/plain": [
       "Index(['ID', 'name', 'category', 'main_category', 'currency', 'deadline',\n",
       "       'goal', 'launched', 'pledged', 'state',\n",
       "       ...\n",
       "       'currency_MXN', 'currency_NOK', 'currency_NZD', 'currency_SEK',\n",
       "       'currency_SGD', 'currency_USD', 'yearlaunched', 'monthlaunched',\n",
       "       'duration', 'month_absolute'],\n",
       "      dtype='object', length=207)"
      ]
     },
     "execution_count": 197,
     "metadata": {},
     "output_type": "execute_result"
    }
   ],
   "source": [
    "# Kickstarter was founded in April 2009. We'll assign this April \n",
    "# to the value zero and count up 1 for every month after that\n",
    "# (e.g. June 2010 = 13)\n",
    "year_month = raw_data[['yearlaunched', 'monthlaunched']]\n",
    "\n",
    "# (-5) at the end to make May the first month\n",
    "month_absolute = (year_month.iloc[:, 0] - 2009) * 12 + (year_month.iloc[:, 1] - 5)\n",
    "\n",
    "# add to dataframe\n",
    "raw_data['month_absolute'] = month_absolute\n",
    "raw_data.columns"
   ]
  },
  {
   "cell_type": "code",
   "execution_count": 198,
   "metadata": {},
   "outputs": [
    {
     "name": "stdout",
     "output_type": "stream",
     "text": [
      "---- No empty strings/None values detected ----\n",
      "[2009, 2010, 2011, 2012, 2013, 2014, 2015, 2016, 2017, 2018]\n"
     ]
    }
   ],
   "source": [
    "# Let's 1-of-K the yearlaunched attribute\n",
    "# Check for missing values\n",
    "if raw_data.yearlaunched.isnull().values.any():\n",
    "    print('---- Empty string/None values detected ----')\n",
    "else:\n",
    "    yr = raw_data.yearlaunched\n",
    "    print('---- No empty strings/None values detected ----')\n",
    "    yr_sort = sorted(set(yr))\n",
    "    print(yr_sort)"
   ]
  },
  {
   "cell_type": "code",
   "execution_count": 199,
   "metadata": {},
   "outputs": [
    {
     "data": {
      "text/plain": [
       "[2009, 2010, 2011, 2012, 2013, 2014, 2015, 2016, 2017]"
      ]
     },
     "execution_count": 199,
     "metadata": {},
     "output_type": "execute_result"
    }
   ],
   "source": [
    "# somehow 2 projects from 2018 still made it into yr_sort\n",
    "# we don't want these\n",
    "del yr_sort[-1]\n",
    "yr_sort"
   ]
  },
  {
   "cell_type": "code",
   "execution_count": 200,
   "metadata": {
    "collapsed": true
   },
   "outputs": [],
   "source": [
    "# No mistakes/errors. Declare categorical\n",
    "raw_data['yearlaunched'] = pd.Categorical(raw_data['yearlaunched'])\n",
    "\n",
    "# 1-of-K and combine w/ raw data\n",
    "yr_Dummies = pd.get_dummies(raw_data['yearlaunched'], prefix = 'yearlaunched')\n",
    "raw_data = pd.concat([raw_data, yr_Dummies], axis=1)"
   ]
  },
  {
   "cell_type": "code",
   "execution_count": 201,
   "metadata": {},
   "outputs": [
    {
     "name": "stdout",
     "output_type": "stream",
     "text": [
      "457 projects with implausible project duration were found and removed.\n"
     ]
    },
    {
     "data": {
      "text/plain": [
       "True"
      ]
     },
     "execution_count": 201,
     "metadata": {},
     "output_type": "execute_result"
    }
   ],
   "source": [
    "# Kickstarter projects used to have a max duration of 90 days (now 60 days).\n",
    "# Therefore we'd like to cut the projects that have a duration of over 90 days.\n",
    "print(len(raw_data[raw_data['duration'] > 90]), \\\n",
    "     'projects with implausible project duration were found and removed.')\n",
    "\n",
    "# There are 457 such projects. Cut and check:\n",
    "raw_data = raw_data[raw_data['duration'] < 90]\n",
    "len(raw_data[raw_data['duration'] > 90]) == 0"
   ]
  },
  {
   "cell_type": "code",
   "execution_count": 202,
   "metadata": {},
   "outputs": [
    {
     "name": "stdout",
     "output_type": "stream",
     "text": [
      "---- No empty strings/None values detected ----\n",
      "['canceled', 'failed', 'live', 'successful', 'suspended', 'undefined']\n"
     ]
    }
   ],
   "source": [
    "# Now for the states. Let's view them:\n",
    "states = raw_data['state']\n",
    "if states.isnull().values.any():\n",
    "    print('---- Empty string/None values detected ----')\n",
    "else:\n",
    "    print('---- No empty strings/None values detected ----')\n",
    "    states_sort = sorted(set(states))\n",
    "    print(states_sort)\n",
    "\n",
    "# We inspect the states_sort vector and don't\n",
    "# find any mistakes/errors. We do, however, have canceled, failed, suspended,\n",
    "# undefined, and live projects."
   ]
  },
  {
   "cell_type": "code",
   "execution_count": 203,
   "metadata": {},
   "outputs": [
    {
     "name": "stdout",
     "output_type": "stream",
     "text": [
      "                ID                                               name  \\\n",
      "169     1000694855                      STREETFIGHTERZ WHEELIE MURICA   \n",
      "328      100149523                        Duncan Woods - Chameleon EP   \n",
      "632     1003023003          The Making of Ashley Kelley's Debut Album   \n",
      "647     1003130892                       Butter Side Down Debut Album   \n",
      "749     1003629045                            Chase Goehring debut EP   \n",
      "...            ...                                                ...   \n",
      "378233   997971307  EQUUS International Film Festival®, all-equine...   \n",
      "378303   998319149                            Emily 2050 - Short Film   \n",
      "378434     9988744                             Matthew Stephens Music   \n",
      "378585   999610349     Lady Vendredi: Afrofuturist concept 12 inch EP   \n",
      "378588   999621278                     Jeune auteur a besoin de vous!   \n",
      "\n",
      "            category main_category currency   deadline     goal  \\\n",
      "169     Film & Video  Film & Video      USD 2014-09-20 6,500.00   \n",
      "328            Music         Music      AUD 2015-08-25 4,500.00   \n",
      "632            Music         Music      USD 2015-04-09 3,500.00   \n",
      "647            Music         Music      USD 2015-11-26 6,000.00   \n",
      "749            Music         Music      USD 2016-03-21 3,000.00   \n",
      "...              ...           ...      ...        ...      ...   \n",
      "378233  Film & Video  Film & Video      USD 2015-02-03 7,500.00   \n",
      "378303  Film & Video  Film & Video      CAD 2014-05-23 3,000.00   \n",
      "378434         Music         Music      USD 2016-02-05 5,000.00   \n",
      "378585         Music         Music      GBP 2015-10-19 2,000.00   \n",
      "378588    Publishing    Publishing      EUR 2015-11-20 1,600.00   \n",
      "\n",
      "                  launched  pledged      state        ...          \\\n",
      "169    2014-08-06 21:28:36   555.00  undefined        ...           \n",
      "328    2015-08-04 12:05:17 4,767.00  undefined        ...           \n",
      "632    2015-03-10 20:06:13 3,576.00  undefined        ...           \n",
      "647    2015-11-02 22:09:19 7,007.80  undefined        ...           \n",
      "749    2016-02-23 03:09:49 3,660.38  undefined        ...           \n",
      "...                    ...      ...        ...        ...           \n",
      "378233 2014-12-05 04:19:14    10.00  undefined        ...           \n",
      "378303 2014-04-08 00:30:09 3,102.00  undefined        ...           \n",
      "378434 2016-01-06 21:59:23   235.00  undefined        ...           \n",
      "378585 2015-09-21 22:33:18 2,125.00  undefined        ...           \n",
      "378588 2015-10-21 21:28:13     0.00  undefined        ...           \n",
      "\n",
      "        yearlaunched_2009 yearlaunched_2010  yearlaunched_2011  \\\n",
      "169                     0                 0                  0   \n",
      "328                     0                 0                  0   \n",
      "632                     0                 0                  0   \n",
      "647                     0                 0                  0   \n",
      "749                     0                 0                  0   \n",
      "...                   ...               ...                ...   \n",
      "378233                  0                 0                  0   \n",
      "378303                  0                 0                  0   \n",
      "378434                  0                 0                  0   \n",
      "378585                  0                 0                  0   \n",
      "378588                  0                 0                  0   \n",
      "\n",
      "        yearlaunched_2012  yearlaunched_2013  yearlaunched_2014  \\\n",
      "169                     0                  0                  1   \n",
      "328                     0                  0                  0   \n",
      "632                     0                  0                  0   \n",
      "647                     0                  0                  0   \n",
      "749                     0                  0                  0   \n",
      "...                   ...                ...                ...   \n",
      "378233                  0                  0                  1   \n",
      "378303                  0                  0                  1   \n",
      "378434                  0                  0                  0   \n",
      "378585                  0                  0                  0   \n",
      "378588                  0                  0                  0   \n",
      "\n",
      "        yearlaunched_2015  yearlaunched_2016  yearlaunched_2017  \\\n",
      "169                     0                  0                  0   \n",
      "328                     1                  0                  0   \n",
      "632                     1                  0                  0   \n",
      "647                     1                  0                  0   \n",
      "749                     0                  1                  0   \n",
      "...                   ...                ...                ...   \n",
      "378233                  0                  0                  0   \n",
      "378303                  0                  0                  0   \n",
      "378434                  0                  1                  0   \n",
      "378585                  1                  0                  0   \n",
      "378588                  1                  0                  0   \n",
      "\n",
      "        yearlaunched_2018  \n",
      "169                     0  \n",
      "328                     0  \n",
      "632                     0  \n",
      "647                     0  \n",
      "749                     0  \n",
      "...                   ...  \n",
      "378233                  0  \n",
      "378303                  0  \n",
      "378434                  0  \n",
      "378585                  0  \n",
      "378588                  0  \n",
      "\n",
      "[3562 rows x 217 columns]\n"
     ]
    }
   ],
   "source": [
    "# Let's start by inspecting at the undefined.\n",
    "undefined = raw_data[states == 'undefined']\n",
    "print(undefined)"
   ]
  },
  {
   "cell_type": "code",
   "execution_count": 204,
   "metadata": {},
   "outputs": [
    {
     "name": "stdout",
     "output_type": "stream",
     "text": [
      "99.7 percent of undefined projects were in categories \"Music\", \"Publishing\" or \"Film & Video\". \n",
      "All undefined projects were removed.\n"
     ]
    },
    {
     "data": {
      "text/plain": [
       "True"
      ]
     },
     "execution_count": 204,
     "metadata": {},
     "output_type": "execute_result"
    }
   ],
   "source": [
    "# Seems like most of the undefined are in main categories \"Music\",\n",
    "# \"Publishing\" or \"Film & Video\":\n",
    "percent_undefined = (len(undefined[undefined['main_category'] == 'Music'])+ \\\n",
    "       len(undefined[undefined['main_category'] == 'Publishing'])+ \\\n",
    "       len(undefined[undefined['main_category'] == 'Film & Video']))/len(undefined)\n",
    "\n",
    "print('%.1f' % float(percent_undefined*100), \\\n",
    "      'percent of undefined projects were in categories \"Music\", \"Publishing\" or \"Film & Video\".',\\\n",
    "     '\\nAll undefined projects were removed.')\n",
    "\n",
    "# Based on what we're doing, we can't really use undefined \n",
    "# projects for anything, so we'll take these rows out.\n",
    "raw_data = raw_data[raw_data['state'] != 'undefined']\n",
    "len(raw_data[raw_data['state'] == 'undefined']) == 0"
   ]
  },
  {
   "cell_type": "code",
   "execution_count": 205,
   "metadata": {},
   "outputs": [
    {
     "name": "stdout",
     "output_type": "stream",
     "text": [
      "1845 paused projects were removed from the dataset.\n"
     ]
    },
    {
     "data": {
      "text/plain": [
       "True"
      ]
     },
     "execution_count": 205,
     "metadata": {},
     "output_type": "execute_result"
    }
   ],
   "source": [
    "# Let's inspect the paused projects.\n",
    "print(len(raw_data[raw_data['state'] == 'suspended']), \\\n",
    "      'paused projects were removed from the dataset.')\n",
    "\n",
    "# There are about 1800 of these. We'll take them out as well, since they don't\n",
    "# help us.\n",
    "raw_data = raw_data[raw_data['state'] != 'suspended']\n",
    "len(raw_data[raw_data['state'] == 'suspended']) == 0"
   ]
  },
  {
   "cell_type": "code",
   "execution_count": 206,
   "metadata": {},
   "outputs": [
    {
     "name": "stdout",
     "output_type": "stream",
     "text": [
      "38751 projects with status \"canceled\".\n"
     ]
    },
    {
     "data": {
      "text/plain": [
       "True"
      ]
     },
     "execution_count": 206,
     "metadata": {},
     "output_type": "execute_result"
    }
   ],
   "source": [
    "# Now for canceled projects:\n",
    "print(len(raw_data[raw_data['state'] == 'canceled']), 'projects with status \"canceled\".')\n",
    "\n",
    "# About 10% of projects in the data set have been canceled. Take out:\n",
    "raw_data = raw_data[raw_data['state'] != 'canceled']\n",
    "len(raw_data[raw_data['state'] == 'canceled']) == 0"
   ]
  },
  {
   "cell_type": "code",
   "execution_count": 207,
   "metadata": {},
   "outputs": [
    {
     "data": {
      "text/html": [
       "<div>\n",
       "<style>\n",
       "    .dataframe thead tr:only-child th {\n",
       "        text-align: right;\n",
       "    }\n",
       "\n",
       "    .dataframe thead th {\n",
       "        text-align: left;\n",
       "    }\n",
       "\n",
       "    .dataframe tbody tr th {\n",
       "        vertical-align: top;\n",
       "    }\n",
       "</style>\n",
       "<table border=\"1\" class=\"dataframe\">\n",
       "  <thead>\n",
       "    <tr style=\"text-align: right;\">\n",
       "      <th></th>\n",
       "      <th>ID</th>\n",
       "      <th>name</th>\n",
       "      <th>category</th>\n",
       "      <th>main_category</th>\n",
       "      <th>currency</th>\n",
       "      <th>deadline</th>\n",
       "      <th>goal</th>\n",
       "      <th>launched</th>\n",
       "      <th>pledged</th>\n",
       "      <th>state</th>\n",
       "      <th>...</th>\n",
       "      <th>yearlaunched_2009</th>\n",
       "      <th>yearlaunched_2010</th>\n",
       "      <th>yearlaunched_2011</th>\n",
       "      <th>yearlaunched_2012</th>\n",
       "      <th>yearlaunched_2013</th>\n",
       "      <th>yearlaunched_2014</th>\n",
       "      <th>yearlaunched_2015</th>\n",
       "      <th>yearlaunched_2016</th>\n",
       "      <th>yearlaunched_2017</th>\n",
       "      <th>yearlaunched_2018</th>\n",
       "    </tr>\n",
       "  </thead>\n",
       "  <tbody>\n",
       "    <tr>\n",
       "      <th>371277</th>\n",
       "      <td>961951460</td>\n",
       "      <td>Jahque Inc. is merging with Reesi's Cakes 'N T...</td>\n",
       "      <td>Events</td>\n",
       "      <td>Food</td>\n",
       "      <td>USD</td>\n",
       "      <td>2016-05-05</td>\n",
       "      <td>25,000.00</td>\n",
       "      <td>2016-04-05 06:01:09</td>\n",
       "      <td>0.00</td>\n",
       "      <td>live</td>\n",
       "      <td>...</td>\n",
       "      <td>0</td>\n",
       "      <td>0</td>\n",
       "      <td>0</td>\n",
       "      <td>0</td>\n",
       "      <td>0</td>\n",
       "      <td>0</td>\n",
       "      <td>0</td>\n",
       "      <td>1</td>\n",
       "      <td>0</td>\n",
       "      <td>0</td>\n",
       "    </tr>\n",
       "    <tr>\n",
       "      <th>339521</th>\n",
       "      <td>79946509</td>\n",
       "      <td>Omnicharge: Smart &amp; Compact Portable Power Bank</td>\n",
       "      <td>Gadgets</td>\n",
       "      <td>Technology</td>\n",
       "      <td>USD</td>\n",
       "      <td>2016-08-08</td>\n",
       "      <td>8,000.00</td>\n",
       "      <td>2016-07-25 23:57:23</td>\n",
       "      <td>7,035.00</td>\n",
       "      <td>live</td>\n",
       "      <td>...</td>\n",
       "      <td>0</td>\n",
       "      <td>0</td>\n",
       "      <td>0</td>\n",
       "      <td>0</td>\n",
       "      <td>0</td>\n",
       "      <td>0</td>\n",
       "      <td>0</td>\n",
       "      <td>1</td>\n",
       "      <td>0</td>\n",
       "      <td>0</td>\n",
       "    </tr>\n",
       "    <tr>\n",
       "      <th>304386</th>\n",
       "      <td>619709625</td>\n",
       "      <td>Escapsim</td>\n",
       "      <td>Film &amp; Video</td>\n",
       "      <td>Film &amp; Video</td>\n",
       "      <td>USD</td>\n",
       "      <td>2017-02-16</td>\n",
       "      <td>5,000.00</td>\n",
       "      <td>2017-01-07 21:54:19</td>\n",
       "      <td>30.00</td>\n",
       "      <td>live</td>\n",
       "      <td>...</td>\n",
       "      <td>0</td>\n",
       "      <td>0</td>\n",
       "      <td>0</td>\n",
       "      <td>0</td>\n",
       "      <td>0</td>\n",
       "      <td>0</td>\n",
       "      <td>0</td>\n",
       "      <td>0</td>\n",
       "      <td>1</td>\n",
       "      <td>0</td>\n",
       "    </tr>\n",
       "    <tr>\n",
       "      <th>19716</th>\n",
       "      <td>1100111323</td>\n",
       "      <td>DAWSON HOLLOW</td>\n",
       "      <td>Indie Rock</td>\n",
       "      <td>Music</td>\n",
       "      <td>USD</td>\n",
       "      <td>2017-04-20</td>\n",
       "      <td>40,000.00</td>\n",
       "      <td>2017-03-17 18:06:01</td>\n",
       "      <td>20.00</td>\n",
       "      <td>live</td>\n",
       "      <td>...</td>\n",
       "      <td>0</td>\n",
       "      <td>0</td>\n",
       "      <td>0</td>\n",
       "      <td>0</td>\n",
       "      <td>0</td>\n",
       "      <td>0</td>\n",
       "      <td>0</td>\n",
       "      <td>0</td>\n",
       "      <td>1</td>\n",
       "      <td>0</td>\n",
       "    </tr>\n",
       "    <tr>\n",
       "      <th>229599</th>\n",
       "      <td>237278551</td>\n",
       "      <td>Flyboard Air®</td>\n",
       "      <td>Technology</td>\n",
       "      <td>Technology</td>\n",
       "      <td>EUR</td>\n",
       "      <td>2017-08-15</td>\n",
       "      <td>250,000.00</td>\n",
       "      <td>2017-07-16 14:56:18</td>\n",
       "      <td>520.00</td>\n",
       "      <td>live</td>\n",
       "      <td>...</td>\n",
       "      <td>0</td>\n",
       "      <td>0</td>\n",
       "      <td>0</td>\n",
       "      <td>0</td>\n",
       "      <td>0</td>\n",
       "      <td>0</td>\n",
       "      <td>0</td>\n",
       "      <td>0</td>\n",
       "      <td>1</td>\n",
       "      <td>0</td>\n",
       "    </tr>\n",
       "    <tr>\n",
       "      <th>...</th>\n",
       "      <td>...</td>\n",
       "      <td>...</td>\n",
       "      <td>...</td>\n",
       "      <td>...</td>\n",
       "      <td>...</td>\n",
       "      <td>...</td>\n",
       "      <td>...</td>\n",
       "      <td>...</td>\n",
       "      <td>...</td>\n",
       "      <td>...</td>\n",
       "      <td>...</td>\n",
       "      <td>...</td>\n",
       "      <td>...</td>\n",
       "      <td>...</td>\n",
       "      <td>...</td>\n",
       "      <td>...</td>\n",
       "      <td>...</td>\n",
       "      <td>...</td>\n",
       "      <td>...</td>\n",
       "      <td>...</td>\n",
       "      <td>...</td>\n",
       "    </tr>\n",
       "    <tr>\n",
       "      <th>260693</th>\n",
       "      <td>396064457</td>\n",
       "      <td>Deaths of Athazar</td>\n",
       "      <td>Games</td>\n",
       "      <td>Games</td>\n",
       "      <td>USD</td>\n",
       "      <td>2018-03-02</td>\n",
       "      <td>15,000.00</td>\n",
       "      <td>2018-01-01 13:27:13</td>\n",
       "      <td>1.00</td>\n",
       "      <td>live</td>\n",
       "      <td>...</td>\n",
       "      <td>0</td>\n",
       "      <td>0</td>\n",
       "      <td>0</td>\n",
       "      <td>0</td>\n",
       "      <td>0</td>\n",
       "      <td>0</td>\n",
       "      <td>0</td>\n",
       "      <td>0</td>\n",
       "      <td>0</td>\n",
       "      <td>1</td>\n",
       "    </tr>\n",
       "    <tr>\n",
       "      <th>292034</th>\n",
       "      <td>55596200</td>\n",
       "      <td>Plateforme de statistiques</td>\n",
       "      <td>Apps</td>\n",
       "      <td>Technology</td>\n",
       "      <td>EUR</td>\n",
       "      <td>2018-03-02</td>\n",
       "      <td>9,000.00</td>\n",
       "      <td>2018-01-01 15:40:26</td>\n",
       "      <td>0.00</td>\n",
       "      <td>live</td>\n",
       "      <td>...</td>\n",
       "      <td>0</td>\n",
       "      <td>0</td>\n",
       "      <td>0</td>\n",
       "      <td>0</td>\n",
       "      <td>0</td>\n",
       "      <td>0</td>\n",
       "      <td>0</td>\n",
       "      <td>0</td>\n",
       "      <td>0</td>\n",
       "      <td>1</td>\n",
       "    </tr>\n",
       "    <tr>\n",
       "      <th>226982</th>\n",
       "      <td>22387366</td>\n",
       "      <td>Nerd Collect</td>\n",
       "      <td>Apps</td>\n",
       "      <td>Technology</td>\n",
       "      <td>GBP</td>\n",
       "      <td>2018-03-03</td>\n",
       "      <td>150,000.00</td>\n",
       "      <td>2018-01-02 03:26:52</td>\n",
       "      <td>0.00</td>\n",
       "      <td>live</td>\n",
       "      <td>...</td>\n",
       "      <td>0</td>\n",
       "      <td>0</td>\n",
       "      <td>0</td>\n",
       "      <td>0</td>\n",
       "      <td>0</td>\n",
       "      <td>0</td>\n",
       "      <td>0</td>\n",
       "      <td>0</td>\n",
       "      <td>0</td>\n",
       "      <td>1</td>\n",
       "    </tr>\n",
       "    <tr>\n",
       "      <th>7164</th>\n",
       "      <td>1036415983</td>\n",
       "      <td>Aikyam : Onnu</td>\n",
       "      <td>Music</td>\n",
       "      <td>Music</td>\n",
       "      <td>USD</td>\n",
       "      <td>2018-03-03</td>\n",
       "      <td>10,000.00</td>\n",
       "      <td>2018-01-02 08:11:58</td>\n",
       "      <td>174.00</td>\n",
       "      <td>live</td>\n",
       "      <td>...</td>\n",
       "      <td>0</td>\n",
       "      <td>0</td>\n",
       "      <td>0</td>\n",
       "      <td>0</td>\n",
       "      <td>0</td>\n",
       "      <td>0</td>\n",
       "      <td>0</td>\n",
       "      <td>0</td>\n",
       "      <td>0</td>\n",
       "      <td>1</td>\n",
       "    </tr>\n",
       "    <tr>\n",
       "      <th>180250</th>\n",
       "      <td>1916988520</td>\n",
       "      <td>Back in Black Hills Movie</td>\n",
       "      <td>Drama</td>\n",
       "      <td>Film &amp; Video</td>\n",
       "      <td>USD</td>\n",
       "      <td>2018-03-03</td>\n",
       "      <td>5,500.00</td>\n",
       "      <td>2018-01-02 01:16:16</td>\n",
       "      <td>0.00</td>\n",
       "      <td>live</td>\n",
       "      <td>...</td>\n",
       "      <td>0</td>\n",
       "      <td>0</td>\n",
       "      <td>0</td>\n",
       "      <td>0</td>\n",
       "      <td>0</td>\n",
       "      <td>0</td>\n",
       "      <td>0</td>\n",
       "      <td>0</td>\n",
       "      <td>0</td>\n",
       "      <td>1</td>\n",
       "    </tr>\n",
       "  </tbody>\n",
       "</table>\n",
       "<p>2799 rows × 217 columns</p>\n",
       "</div>"
      ],
      "text/plain": [
       "                ID                                               name  \\\n",
       "371277   961951460  Jahque Inc. is merging with Reesi's Cakes 'N T...   \n",
       "339521    79946509    Omnicharge: Smart & Compact Portable Power Bank   \n",
       "304386   619709625                                           Escapsim   \n",
       "19716   1100111323                                      DAWSON HOLLOW   \n",
       "229599   237278551                                      Flyboard Air®   \n",
       "...            ...                                                ...   \n",
       "260693   396064457                                  Deaths of Athazar   \n",
       "292034    55596200                         Plateforme de statistiques   \n",
       "226982    22387366                                       Nerd Collect   \n",
       "7164    1036415983                                      Aikyam : Onnu   \n",
       "180250  1916988520                          Back in Black Hills Movie   \n",
       "\n",
       "            category main_category currency   deadline       goal  \\\n",
       "371277        Events          Food      USD 2016-05-05  25,000.00   \n",
       "339521       Gadgets    Technology      USD 2016-08-08   8,000.00   \n",
       "304386  Film & Video  Film & Video      USD 2017-02-16   5,000.00   \n",
       "19716     Indie Rock         Music      USD 2017-04-20  40,000.00   \n",
       "229599    Technology    Technology      EUR 2017-08-15 250,000.00   \n",
       "...              ...           ...      ...        ...        ...   \n",
       "260693         Games         Games      USD 2018-03-02  15,000.00   \n",
       "292034          Apps    Technology      EUR 2018-03-02   9,000.00   \n",
       "226982          Apps    Technology      GBP 2018-03-03 150,000.00   \n",
       "7164           Music         Music      USD 2018-03-03  10,000.00   \n",
       "180250         Drama  Film & Video      USD 2018-03-03   5,500.00   \n",
       "\n",
       "                  launched  pledged state        ...          \\\n",
       "371277 2016-04-05 06:01:09     0.00  live        ...           \n",
       "339521 2016-07-25 23:57:23 7,035.00  live        ...           \n",
       "304386 2017-01-07 21:54:19    30.00  live        ...           \n",
       "19716  2017-03-17 18:06:01    20.00  live        ...           \n",
       "229599 2017-07-16 14:56:18   520.00  live        ...           \n",
       "...                    ...      ...   ...        ...           \n",
       "260693 2018-01-01 13:27:13     1.00  live        ...           \n",
       "292034 2018-01-01 15:40:26     0.00  live        ...           \n",
       "226982 2018-01-02 03:26:52     0.00  live        ...           \n",
       "7164   2018-01-02 08:11:58   174.00  live        ...           \n",
       "180250 2018-01-02 01:16:16     0.00  live        ...           \n",
       "\n",
       "        yearlaunched_2009 yearlaunched_2010  yearlaunched_2011  \\\n",
       "371277                  0                 0                  0   \n",
       "339521                  0                 0                  0   \n",
       "304386                  0                 0                  0   \n",
       "19716                   0                 0                  0   \n",
       "229599                  0                 0                  0   \n",
       "...                   ...               ...                ...   \n",
       "260693                  0                 0                  0   \n",
       "292034                  0                 0                  0   \n",
       "226982                  0                 0                  0   \n",
       "7164                    0                 0                  0   \n",
       "180250                  0                 0                  0   \n",
       "\n",
       "        yearlaunched_2012  yearlaunched_2013  yearlaunched_2014  \\\n",
       "371277                  0                  0                  0   \n",
       "339521                  0                  0                  0   \n",
       "304386                  0                  0                  0   \n",
       "19716                   0                  0                  0   \n",
       "229599                  0                  0                  0   \n",
       "...                   ...                ...                ...   \n",
       "260693                  0                  0                  0   \n",
       "292034                  0                  0                  0   \n",
       "226982                  0                  0                  0   \n",
       "7164                    0                  0                  0   \n",
       "180250                  0                  0                  0   \n",
       "\n",
       "        yearlaunched_2015  yearlaunched_2016  yearlaunched_2017  \\\n",
       "371277                  0                  1                  0   \n",
       "339521                  0                  1                  0   \n",
       "304386                  0                  0                  1   \n",
       "19716                   0                  0                  1   \n",
       "229599                  0                  0                  1   \n",
       "...                   ...                ...                ...   \n",
       "260693                  0                  0                  0   \n",
       "292034                  0                  0                  0   \n",
       "226982                  0                  0                  0   \n",
       "7164                    0                  0                  0   \n",
       "180250                  0                  0                  0   \n",
       "\n",
       "        yearlaunched_2018  \n",
       "371277                  0  \n",
       "339521                  0  \n",
       "304386                  0  \n",
       "19716                   0  \n",
       "229599                  0  \n",
       "...                   ...  \n",
       "260693                  1  \n",
       "292034                  1  \n",
       "226982                  1  \n",
       "7164                    1  \n",
       "180250                  1  \n",
       "\n",
       "[2799 rows x 217 columns]"
      ]
     },
     "execution_count": 207,
     "metadata": {},
     "output_type": "execute_result"
    }
   ],
   "source": [
    "# Now for live projects:\n",
    "len(raw_data[raw_data['state'] == 'live'])\n",
    "\n",
    "# There are about 2800 of these. The data was pulled in January 2018, so\n",
    "# let's see what that means in terms of end dates.\n",
    "live = raw_data[raw_data['state'] == 'live'].sort_values(by = 'deadline')\n",
    "live"
   ]
  },
  {
   "cell_type": "code",
   "execution_count": 208,
   "metadata": {},
   "outputs": [
    {
     "data": {
      "text/plain": [
       "371277    -25,000.00\n",
       "339521       -965.00\n",
       "304386     -4,970.00\n",
       "19716     -39,980.00\n",
       "229599   -292,889.09\n",
       "44312      -2,680.00\n",
       "178739    -33,394.33\n",
       "dtype: float64"
      ]
     },
     "execution_count": 208,
     "metadata": {},
     "output_type": "execute_result"
    }
   ],
   "source": [
    "# The first 7 examples are mistakes of some sort. Let's see what's up:\n",
    "live.iloc[0:7,:]['usd_pledged_real'] - live.iloc[0:7,:]['usd_goal_real']"
   ]
  },
  {
   "cell_type": "code",
   "execution_count": 209,
   "metadata": {
    "collapsed": true
   },
   "outputs": [],
   "source": [
    "# Its seems that all these projects actually failed. Let's change their status.\n",
    "# Copy slice\n",
    "notlive = raw_data['state'][raw_data['deadline'] < pd.Timestamp('2018-01-01')][raw_data['state'] == 'live'].copy()\n",
    "\n",
    "# Edit copy\n",
    "for i in range(len(notlive)):\n",
    "    notlive.iloc[i] = 'failed'"
   ]
  },
  {
   "cell_type": "code",
   "execution_count": 210,
   "metadata": {},
   "outputs": [
    {
     "data": {
      "text/plain": [
       "True"
      ]
     },
     "execution_count": 210,
     "metadata": {},
     "output_type": "execute_result"
    }
   ],
   "source": [
    "# Update original dataframe and check\n",
    "raw_data.update(notlive)\n",
    "len(raw_data['state'][raw_data['deadline'] < pd.Timestamp('2018-01-01')][raw_data['state'] == 'live']) == 0\n",
    "\n",
    "# Delete rest of the live values and check\n",
    "raw_data = raw_data[raw_data['state'] != 'live']\n",
    "len(raw_data[raw_data['state'] == 'live']) == 0"
   ]
  },
  {
   "cell_type": "code",
   "execution_count": 211,
   "metadata": {},
   "outputs": [
    {
     "name": "stdout",
     "output_type": "stream",
     "text": [
      "---- No empty strings/None values detected ----\n",
      "['failed', 'successful']\n"
     ]
    }
   ],
   "source": [
    "# Let's view states again\n",
    "states_1 = raw_data.loc[:,'state']\n",
    "if states_1.isnull().values.any():\n",
    "    print('---- Empty string/None values detected ----')\n",
    "else:\n",
    "    print('---- No empty strings/None values detected ----')\n",
    "    states_1_sort = sorted(set(states_1))\n",
    "    print(states_1_sort)"
   ]
  },
  {
   "cell_type": "code",
   "execution_count": 212,
   "metadata": {
    "collapsed": true
   },
   "outputs": [],
   "source": [
    "# Copy slice\n",
    "f_s = raw_data['state'].copy()\n",
    "\n",
    "# Edit copy\n",
    "f_s[f_s == 'successful'] = 1\n",
    "f_s[f_s == 'failed'] = 0\n",
    "\n",
    "# Update original\n",
    "raw_data.update(f_s)"
   ]
  },
  {
   "cell_type": "code",
   "execution_count": 213,
   "metadata": {
    "collapsed": true
   },
   "outputs": [],
   "source": [
    "# No mistakes/errors. Declare categorical\n",
    "# raw_data['state'] = pd.Categorical(raw_data['state'])\n",
    "\n",
    "# 1-of-K and combine w/ raw data\n",
    "# state_Dummies = pd.get_dummies(raw_data['state'], prefix = 'state')\n",
    "# raw_data = pd.concat([raw_data, state_Dummies], axis=1)"
   ]
  },
  {
   "cell_type": "code",
   "execution_count": 214,
   "metadata": {},
   "outputs": [
    {
     "name": "stdout",
     "output_type": "stream",
     "text": [
      "---- No empty strings/None values detected ----\n"
     ]
    }
   ],
   "source": [
    "# Let's look at backers. Check for missing values\n",
    "if raw_data.backers.isnull().values.any():\n",
    "    print('---- Empty string/None values detected ----')\n",
    "else:\n",
    "    print('---- No empty strings/None values detected ----')"
   ]
  },
  {
   "cell_type": "code",
   "execution_count": 215,
   "metadata": {},
   "outputs": [
    {
     "name": "stdout",
     "output_type": "stream",
     "text": [
      "---- No empty strings/None values detected ----\n",
      "['AT', 'AU', 'BE', 'CA', 'CH', 'DE', 'DK', 'ES', 'FR', 'GB', 'HK', 'IE', 'IT', 'JP', 'LU', 'MX', 'N,0\"', 'NL', 'NO', 'NZ', 'SE', 'SG', 'US']\n"
     ]
    }
   ],
   "source": [
    "# Now for the countries. Let's view them:\n",
    "if raw_data.country.isnull().values.any():\n",
    "    print('---- Empty string/None values detected ----')\n",
    "else:\n",
    "    countries = raw_data.country\n",
    "    print('---- No empty strings/None values detected ----')\n",
    "    countries_sort = sorted(set(countries))\n",
    "    print(countries_sort)"
   ]
  },
  {
   "cell_type": "code",
   "execution_count": 216,
   "metadata": {},
   "outputs": [
    {
     "data": {
      "text/plain": [
       "2457      N,0\"\n",
       "4892      N,0\"\n",
       "5353      N,0\"\n",
       "5597      N,0\"\n",
       "8260      N,0\"\n",
       "          ... \n",
       "371277    N,0\"\n",
       "371387    N,0\"\n",
       "372375    N,0\"\n",
       "375359    N,0\"\n",
       "378188    N,0\"\n",
       "Name: country, Length: 211, dtype: object"
      ]
     },
     "execution_count": 216,
     "metadata": {},
     "output_type": "execute_result"
    }
   ],
   "source": [
    "# 'N,0\"' is clearly a mistake.\n",
    "raw_data.country[raw_data.country == 'N,0\"']"
   ]
  },
  {
   "cell_type": "code",
   "execution_count": 217,
   "metadata": {},
   "outputs": [
    {
     "data": {
      "text/plain": [
       "2457      USD\n",
       "4892      USD\n",
       "5353      USD\n",
       "5597      USD\n",
       "8260      USD\n",
       "         ... \n",
       "371277    USD\n",
       "371387    EUR\n",
       "372375    USD\n",
       "375359    USD\n",
       "378188    USD\n",
       "Name: currency, Length: 211, dtype: category\n",
       "Categories (14, object): [AUD, CAD, CHF, DKK, ..., NZD, SEK, SGD, USD]"
      ]
     },
     "execution_count": 217,
     "metadata": {},
     "output_type": "execute_result"
    }
   ],
   "source": [
    "# For whatever reason there are 233 of these observations. No clue what that\n",
    "# means. Let's check currency for these observations\n",
    "raw_data.currency[raw_data.country == 'N,0\"']"
   ]
  },
  {
   "cell_type": "code",
   "execution_count": 218,
   "metadata": {
    "scrolled": true
   },
   "outputs": [
    {
     "data": {
      "text/html": [
       "<div>\n",
       "<style>\n",
       "    .dataframe thead tr:only-child th {\n",
       "        text-align: right;\n",
       "    }\n",
       "\n",
       "    .dataframe thead th {\n",
       "        text-align: left;\n",
       "    }\n",
       "\n",
       "    .dataframe tbody tr th {\n",
       "        vertical-align: top;\n",
       "    }\n",
       "</style>\n",
       "<table border=\"1\" class=\"dataframe\">\n",
       "  <thead>\n",
       "    <tr style=\"text-align: right;\">\n",
       "      <th></th>\n",
       "      <th>ID</th>\n",
       "      <th>name</th>\n",
       "      <th>category</th>\n",
       "      <th>main_category</th>\n",
       "      <th>currency</th>\n",
       "      <th>deadline</th>\n",
       "      <th>goal</th>\n",
       "      <th>launched</th>\n",
       "      <th>pledged</th>\n",
       "      <th>state</th>\n",
       "      <th>...</th>\n",
       "      <th>yearlaunched_2009</th>\n",
       "      <th>yearlaunched_2010</th>\n",
       "      <th>yearlaunched_2011</th>\n",
       "      <th>yearlaunched_2012</th>\n",
       "      <th>yearlaunched_2013</th>\n",
       "      <th>yearlaunched_2014</th>\n",
       "      <th>yearlaunched_2015</th>\n",
       "      <th>yearlaunched_2016</th>\n",
       "      <th>yearlaunched_2017</th>\n",
       "      <th>yearlaunched_2018</th>\n",
       "    </tr>\n",
       "  </thead>\n",
       "  <tbody>\n",
       "    <tr>\n",
       "      <th>220490</th>\n",
       "      <td>2123028188</td>\n",
       "      <td>game laced the mixtape/ep</td>\n",
       "      <td>Music</td>\n",
       "      <td>Music</td>\n",
       "      <td>USD</td>\n",
       "      <td>2016-05-03</td>\n",
       "      <td>2,000.00</td>\n",
       "      <td>2016-03-27 09:51:16</td>\n",
       "      <td>0.00</td>\n",
       "      <td>0</td>\n",
       "      <td>...</td>\n",
       "      <td>0</td>\n",
       "      <td>0</td>\n",
       "      <td>0</td>\n",
       "      <td>0</td>\n",
       "      <td>0</td>\n",
       "      <td>0</td>\n",
       "      <td>0</td>\n",
       "      <td>1</td>\n",
       "      <td>0</td>\n",
       "      <td>0</td>\n",
       "    </tr>\n",
       "    <tr>\n",
       "      <th>267773</th>\n",
       "      <td>432387445</td>\n",
       "      <td>FestLove</td>\n",
       "      <td>Music</td>\n",
       "      <td>Music</td>\n",
       "      <td>GBP</td>\n",
       "      <td>2016-04-30</td>\n",
       "      <td>3,000.00</td>\n",
       "      <td>2016-04-01 10:37:56</td>\n",
       "      <td>0.00</td>\n",
       "      <td>0</td>\n",
       "      <td>...</td>\n",
       "      <td>0</td>\n",
       "      <td>0</td>\n",
       "      <td>0</td>\n",
       "      <td>0</td>\n",
       "      <td>0</td>\n",
       "      <td>0</td>\n",
       "      <td>0</td>\n",
       "      <td>1</td>\n",
       "      <td>0</td>\n",
       "      <td>0</td>\n",
       "    </tr>\n",
       "    <tr>\n",
       "      <th>257114</th>\n",
       "      <td>377449688</td>\n",
       "      <td>M2 Youth Community Orchestra</td>\n",
       "      <td>Music</td>\n",
       "      <td>Music</td>\n",
       "      <td>USD</td>\n",
       "      <td>2016-04-24</td>\n",
       "      <td>5,000.00</td>\n",
       "      <td>2016-03-25 11:14:01</td>\n",
       "      <td>0.00</td>\n",
       "      <td>0</td>\n",
       "      <td>...</td>\n",
       "      <td>0</td>\n",
       "      <td>0</td>\n",
       "      <td>0</td>\n",
       "      <td>0</td>\n",
       "      <td>0</td>\n",
       "      <td>0</td>\n",
       "      <td>0</td>\n",
       "      <td>1</td>\n",
       "      <td>0</td>\n",
       "      <td>0</td>\n",
       "    </tr>\n",
       "    <tr>\n",
       "      <th>144441</th>\n",
       "      <td>173383805</td>\n",
       "      <td>Chef's Guide to Culinary Training</td>\n",
       "      <td>Publishing</td>\n",
       "      <td>Publishing</td>\n",
       "      <td>USD</td>\n",
       "      <td>2016-04-30</td>\n",
       "      <td>2,100.00</td>\n",
       "      <td>2016-03-31 18:35:09</td>\n",
       "      <td>0.00</td>\n",
       "      <td>0</td>\n",
       "      <td>...</td>\n",
       "      <td>0</td>\n",
       "      <td>0</td>\n",
       "      <td>0</td>\n",
       "      <td>0</td>\n",
       "      <td>0</td>\n",
       "      <td>0</td>\n",
       "      <td>0</td>\n",
       "      <td>1</td>\n",
       "      <td>0</td>\n",
       "      <td>0</td>\n",
       "    </tr>\n",
       "    <tr>\n",
       "      <th>81288</th>\n",
       "      <td>1413431376</td>\n",
       "      <td>Journey to Salvation reprinting</td>\n",
       "      <td>Publishing</td>\n",
       "      <td>Publishing</td>\n",
       "      <td>USD</td>\n",
       "      <td>2016-05-27</td>\n",
       "      <td>5,000.00</td>\n",
       "      <td>2016-04-27 00:24:41</td>\n",
       "      <td>0.00</td>\n",
       "      <td>0</td>\n",
       "      <td>...</td>\n",
       "      <td>0</td>\n",
       "      <td>0</td>\n",
       "      <td>0</td>\n",
       "      <td>0</td>\n",
       "      <td>0</td>\n",
       "      <td>0</td>\n",
       "      <td>0</td>\n",
       "      <td>1</td>\n",
       "      <td>0</td>\n",
       "      <td>0</td>\n",
       "    </tr>\n",
       "    <tr>\n",
       "      <th>...</th>\n",
       "      <td>...</td>\n",
       "      <td>...</td>\n",
       "      <td>...</td>\n",
       "      <td>...</td>\n",
       "      <td>...</td>\n",
       "      <td>...</td>\n",
       "      <td>...</td>\n",
       "      <td>...</td>\n",
       "      <td>...</td>\n",
       "      <td>...</td>\n",
       "      <td>...</td>\n",
       "      <td>...</td>\n",
       "      <td>...</td>\n",
       "      <td>...</td>\n",
       "      <td>...</td>\n",
       "      <td>...</td>\n",
       "      <td>...</td>\n",
       "      <td>...</td>\n",
       "      <td>...</td>\n",
       "      <td>...</td>\n",
       "      <td>...</td>\n",
       "    </tr>\n",
       "    <tr>\n",
       "      <th>269187</th>\n",
       "      <td>439754054</td>\n",
       "      <td>'Another Way Home'</td>\n",
       "      <td>Music</td>\n",
       "      <td>Music</td>\n",
       "      <td>USD</td>\n",
       "      <td>2013-04-07</td>\n",
       "      <td>8,000.00</td>\n",
       "      <td>2013-03-08 23:04:33</td>\n",
       "      <td>9,050.00</td>\n",
       "      <td>1</td>\n",
       "      <td>...</td>\n",
       "      <td>0</td>\n",
       "      <td>0</td>\n",
       "      <td>0</td>\n",
       "      <td>0</td>\n",
       "      <td>1</td>\n",
       "      <td>0</td>\n",
       "      <td>0</td>\n",
       "      <td>0</td>\n",
       "      <td>0</td>\n",
       "      <td>0</td>\n",
       "    </tr>\n",
       "    <tr>\n",
       "      <th>368860</th>\n",
       "      <td>949209229</td>\n",
       "      <td>Be A Catalyst!!!! Help Casey Clark make a name...</td>\n",
       "      <td>Music</td>\n",
       "      <td>Music</td>\n",
       "      <td>USD</td>\n",
       "      <td>2016-05-24</td>\n",
       "      <td>8,000.00</td>\n",
       "      <td>2016-03-25 03:54:04</td>\n",
       "      <td>9,625.00</td>\n",
       "      <td>1</td>\n",
       "      <td>...</td>\n",
       "      <td>0</td>\n",
       "      <td>0</td>\n",
       "      <td>0</td>\n",
       "      <td>0</td>\n",
       "      <td>0</td>\n",
       "      <td>0</td>\n",
       "      <td>0</td>\n",
       "      <td>1</td>\n",
       "      <td>0</td>\n",
       "      <td>0</td>\n",
       "    </tr>\n",
       "    <tr>\n",
       "      <th>170332</th>\n",
       "      <td>1866608144</td>\n",
       "      <td>ensemble, et al. second full-length album —wit...</td>\n",
       "      <td>Music</td>\n",
       "      <td>Music</td>\n",
       "      <td>USD</td>\n",
       "      <td>2016-04-26</td>\n",
       "      <td>8,000.00</td>\n",
       "      <td>2016-03-26 18:56:44</td>\n",
       "      <td>9,897.00</td>\n",
       "      <td>1</td>\n",
       "      <td>...</td>\n",
       "      <td>0</td>\n",
       "      <td>0</td>\n",
       "      <td>0</td>\n",
       "      <td>0</td>\n",
       "      <td>0</td>\n",
       "      <td>0</td>\n",
       "      <td>0</td>\n",
       "      <td>1</td>\n",
       "      <td>0</td>\n",
       "      <td>0</td>\n",
       "    </tr>\n",
       "    <tr>\n",
       "      <th>264759</th>\n",
       "      <td>416754357</td>\n",
       "      <td>Stixx garland clamp: easiest way to hang up pa...</td>\n",
       "      <td>Product Design</td>\n",
       "      <td>Design</td>\n",
       "      <td>EUR</td>\n",
       "      <td>2016-05-01</td>\n",
       "      <td>10,000.00</td>\n",
       "      <td>2016-04-01 09:07:12</td>\n",
       "      <td>10,063.00</td>\n",
       "      <td>1</td>\n",
       "      <td>...</td>\n",
       "      <td>0</td>\n",
       "      <td>0</td>\n",
       "      <td>0</td>\n",
       "      <td>0</td>\n",
       "      <td>0</td>\n",
       "      <td>0</td>\n",
       "      <td>0</td>\n",
       "      <td>1</td>\n",
       "      <td>0</td>\n",
       "      <td>0</td>\n",
       "    </tr>\n",
       "    <tr>\n",
       "      <th>13001</th>\n",
       "      <td>1065249597</td>\n",
       "      <td>SCiO: Your Sixth Sense. A Pocket Molecular Sen...</td>\n",
       "      <td>Hardware</td>\n",
       "      <td>Technology</td>\n",
       "      <td>USD</td>\n",
       "      <td>2014-06-15</td>\n",
       "      <td>200,000.00</td>\n",
       "      <td>2014-04-29 17:18:03</td>\n",
       "      <td>2,762,571.78</td>\n",
       "      <td>1</td>\n",
       "      <td>...</td>\n",
       "      <td>0</td>\n",
       "      <td>0</td>\n",
       "      <td>0</td>\n",
       "      <td>0</td>\n",
       "      <td>0</td>\n",
       "      <td>1</td>\n",
       "      <td>0</td>\n",
       "      <td>0</td>\n",
       "      <td>0</td>\n",
       "      <td>0</td>\n",
       "    </tr>\n",
       "  </tbody>\n",
       "</table>\n",
       "<p>211 rows × 217 columns</p>\n",
       "</div>"
      ],
      "text/plain": [
       "                ID                                               name  \\\n",
       "220490  2123028188                          game laced the mixtape/ep   \n",
       "267773   432387445                                           FestLove   \n",
       "257114   377449688                       M2 Youth Community Orchestra   \n",
       "144441   173383805                  Chef's Guide to Culinary Training   \n",
       "81288   1413431376                    Journey to Salvation reprinting   \n",
       "...            ...                                                ...   \n",
       "269187   439754054                                 'Another Way Home'   \n",
       "368860   949209229  Be A Catalyst!!!! Help Casey Clark make a name...   \n",
       "170332  1866608144  ensemble, et al. second full-length album —wit...   \n",
       "264759   416754357  Stixx garland clamp: easiest way to hang up pa...   \n",
       "13001   1065249597  SCiO: Your Sixth Sense. A Pocket Molecular Sen...   \n",
       "\n",
       "              category main_category currency   deadline       goal  \\\n",
       "220490           Music         Music      USD 2016-05-03   2,000.00   \n",
       "267773           Music         Music      GBP 2016-04-30   3,000.00   \n",
       "257114           Music         Music      USD 2016-04-24   5,000.00   \n",
       "144441      Publishing    Publishing      USD 2016-04-30   2,100.00   \n",
       "81288       Publishing    Publishing      USD 2016-05-27   5,000.00   \n",
       "...                ...           ...      ...        ...        ...   \n",
       "269187           Music         Music      USD 2013-04-07   8,000.00   \n",
       "368860           Music         Music      USD 2016-05-24   8,000.00   \n",
       "170332           Music         Music      USD 2016-04-26   8,000.00   \n",
       "264759  Product Design        Design      EUR 2016-05-01  10,000.00   \n",
       "13001         Hardware    Technology      USD 2014-06-15 200,000.00   \n",
       "\n",
       "                  launched      pledged state        ...          \\\n",
       "220490 2016-03-27 09:51:16         0.00     0        ...           \n",
       "267773 2016-04-01 10:37:56         0.00     0        ...           \n",
       "257114 2016-03-25 11:14:01         0.00     0        ...           \n",
       "144441 2016-03-31 18:35:09         0.00     0        ...           \n",
       "81288  2016-04-27 00:24:41         0.00     0        ...           \n",
       "...                    ...          ...   ...        ...           \n",
       "269187 2013-03-08 23:04:33     9,050.00     1        ...           \n",
       "368860 2016-03-25 03:54:04     9,625.00     1        ...           \n",
       "170332 2016-03-26 18:56:44     9,897.00     1        ...           \n",
       "264759 2016-04-01 09:07:12    10,063.00     1        ...           \n",
       "13001  2014-04-29 17:18:03 2,762,571.78     1        ...           \n",
       "\n",
       "        yearlaunched_2009 yearlaunched_2010  yearlaunched_2011  \\\n",
       "220490                  0                 0                  0   \n",
       "267773                  0                 0                  0   \n",
       "257114                  0                 0                  0   \n",
       "144441                  0                 0                  0   \n",
       "81288                   0                 0                  0   \n",
       "...                   ...               ...                ...   \n",
       "269187                  0                 0                  0   \n",
       "368860                  0                 0                  0   \n",
       "170332                  0                 0                  0   \n",
       "264759                  0                 0                  0   \n",
       "13001                   0                 0                  0   \n",
       "\n",
       "        yearlaunched_2012  yearlaunched_2013  yearlaunched_2014  \\\n",
       "220490                  0                  0                  0   \n",
       "267773                  0                  0                  0   \n",
       "257114                  0                  0                  0   \n",
       "144441                  0                  0                  0   \n",
       "81288                   0                  0                  0   \n",
       "...                   ...                ...                ...   \n",
       "269187                  0                  1                  0   \n",
       "368860                  0                  0                  0   \n",
       "170332                  0                  0                  0   \n",
       "264759                  0                  0                  0   \n",
       "13001                   0                  0                  1   \n",
       "\n",
       "        yearlaunched_2015  yearlaunched_2016  yearlaunched_2017  \\\n",
       "220490                  0                  1                  0   \n",
       "267773                  0                  1                  0   \n",
       "257114                  0                  1                  0   \n",
       "144441                  0                  1                  0   \n",
       "81288                   0                  1                  0   \n",
       "...                   ...                ...                ...   \n",
       "269187                  0                  0                  0   \n",
       "368860                  0                  1                  0   \n",
       "170332                  0                  1                  0   \n",
       "264759                  0                  1                  0   \n",
       "13001                   0                  0                  0   \n",
       "\n",
       "        yearlaunched_2018  \n",
       "220490                  0  \n",
       "267773                  0  \n",
       "257114                  0  \n",
       "144441                  0  \n",
       "81288                   0  \n",
       "...                   ...  \n",
       "269187                  0  \n",
       "368860                  0  \n",
       "170332                  0  \n",
       "264759                  0  \n",
       "13001                   0  \n",
       "\n",
       "[211 rows x 217 columns]"
      ]
     },
     "execution_count": 218,
     "metadata": {},
     "output_type": "execute_result"
    }
   ],
   "source": [
    "# All sorts of different currencies. Let's check more generally.\n",
    "raw_data[raw_data.country == 'N,0\"'].sort_values(by = 'usd_pledged_real')"
   ]
  },
  {
   "cell_type": "code",
   "execution_count": 219,
   "metadata": {
    "collapsed": true
   },
   "outputs": [],
   "source": [
    "# Let's not delete these values. At least one of these projects seem significant\n",
    "# (there's one with over 2.7 mio USD pledged).\n",
    "\n",
    "# 1-of-K encoding. Declare categorical\n",
    "raw_data.country = pd.Categorical(raw_data.country)\n",
    "\n",
    "# 1-of-K and combine w/ raw data\n",
    "country_Dummies = pd.get_dummies(raw_data.country, prefix = 'country')\n",
    "raw_data = pd.concat([raw_data, country_Dummies], axis=1)"
   ]
  },
  {
   "cell_type": "code",
   "execution_count": 220,
   "metadata": {},
   "outputs": [
    {
     "name": "stdout",
     "output_type": "stream",
     "text": [
      "---- No empty strings/None values detected ----\n",
      "---- No empty strings/None values detected ----\n"
     ]
    }
   ],
   "source": [
    "# We only want to use usd_pledged_real and usd_goal_real, so we'll delete\n",
    "# everything else. Now we'll also delete the ID and name columns, and the\n",
    "# categorical variables that we've 1-of-K encoded.\n",
    "\n",
    "# First let's check usd_pledged_real and usd_goal_real. Check for missing values:\n",
    "pledged = raw_data.usd_pledged_real\n",
    "if pledged.isnull().values.any():\n",
    "    print('---- Empty string/None values detected ----')\n",
    "else:\n",
    "    print('---- No empty strings/None values detected ----')\n",
    "    \n",
    "goal = raw_data.usd_goal_real\n",
    "if goal.isnull().values.any():\n",
    "    print('---- Empty string/None values detected ----')\n",
    "else:\n",
    "    print('---- No empty strings/None values detected ----')"
   ]
  },
  {
   "cell_type": "code",
   "execution_count": 221,
   "metadata": {},
   "outputs": [
    {
     "data": {
      "text/plain": [
       "0"
      ]
     },
     "execution_count": 221,
     "metadata": {},
     "output_type": "execute_result"
    }
   ],
   "source": [
    "# Check for negatives:\n",
    "len(raw_data[raw_data['usd_pledged_real'] < 0])\n",
    "len(raw_data[raw_data['usd_goal_real'] < 0])"
   ]
  },
  {
   "cell_type": "code",
   "execution_count": 227,
   "metadata": {},
   "outputs": [
    {
     "name": "stdout",
     "output_type": "stream",
     "text": [
      "['ID' 'name' 'category' 'main_category' 'currency' 'deadline' 'goal'\n",
      " 'launched' 'pledged' 'state' 'backers' 'country' 'usd pledged'\n",
      " 'usd_pledged_real' 'usd_goal_real' 'category_3D Printing'\n",
      " 'category_Academic' 'category_Accessories' 'category_Action'\n",
      " 'category_Animals' 'category_Animation' 'category_Anthologies'\n",
      " 'category_Apparel' 'category_Apps' 'category_Architecture' 'category_Art'\n",
      " 'category_Art Books' 'category_Audio' 'category_Bacon' 'category_Blues'\n",
      " 'category_Calendars' 'category_Camera Equipment' 'category_Candles'\n",
      " 'category_Ceramics' \"category_Children's Books\" 'category_Childrenswear'\n",
      " 'category_Chiptune' 'category_Civic Design' 'category_Classical Music'\n",
      " 'category_Comedy' 'category_Comic Books' 'category_Comics'\n",
      " 'category_Community Gardens' 'category_Conceptual Art'\n",
      " 'category_Cookbooks' 'category_Country & Folk' 'category_Couture'\n",
      " 'category_Crafts' 'category_Crochet' 'category_DIY'\n",
      " 'category_DIY Electronics' 'category_Dance' 'category_Design'\n",
      " 'category_Digital Art' 'category_Documentary' 'category_Drama'\n",
      " 'category_Drinks' 'category_Electronic Music' 'category_Embroidery'\n",
      " 'category_Events' 'category_Experimental' 'category_Fabrication Tools'\n",
      " 'category_Faith' 'category_Family' 'category_Fantasy'\n",
      " \"category_Farmer's Markets\" 'category_Farms' 'category_Fashion'\n",
      " 'category_Festivals' 'category_Fiction' 'category_Film & Video'\n",
      " 'category_Fine Art' 'category_Flight' 'category_Food'\n",
      " 'category_Food Trucks' 'category_Footwear' 'category_Gadgets'\n",
      " 'category_Games' 'category_Gaming Hardware' 'category_Glass'\n",
      " 'category_Graphic Design' 'category_Graphic Novels' 'category_Hardware'\n",
      " 'category_Hip-Hop' 'category_Horror' 'category_Illustration'\n",
      " 'category_Immersive' 'category_Indie Rock' 'category_Installations'\n",
      " 'category_Interactive Design' 'category_Jazz' 'category_Jewelry'\n",
      " 'category_Journalism' 'category_Kids' 'category_Knitting' 'category_Latin'\n",
      " 'category_Letterpress' 'category_Literary Journals'\n",
      " 'category_Literary Spaces' 'category_Live Games' 'category_Makerspaces'\n",
      " 'category_Metal' 'category_Mixed Media' 'category_Mobile Games'\n",
      " 'category_Movie Theaters' 'category_Music' 'category_Music Videos'\n",
      " 'category_Musical' 'category_Narrative Film' 'category_Nature'\n",
      " 'category_Nonfiction' 'category_Painting' 'category_People'\n",
      " 'category_Performance Art' 'category_Performances' 'category_Periodicals'\n",
      " 'category_Pet Fashion' 'category_Photo' 'category_Photobooks'\n",
      " 'category_Photography' 'category_Places' 'category_Playing Cards'\n",
      " 'category_Plays' 'category_Poetry' 'category_Pop' 'category_Pottery'\n",
      " 'category_Print' 'category_Printing' 'category_Product Design'\n",
      " 'category_Public Art' 'category_Publishing' 'category_Punk'\n",
      " 'category_Puzzles' 'category_Quilts' 'category_R&B'\n",
      " 'category_Radio & Podcasts' 'category_Ready-to-wear'\n",
      " 'category_Residencies' 'category_Restaurants' 'category_Robots'\n",
      " 'category_Rock' 'category_Romance' 'category_Science Fiction'\n",
      " 'category_Sculpture' 'category_Shorts' 'category_Small Batch'\n",
      " 'category_Software' 'category_Sound' 'category_Space Exploration'\n",
      " 'category_Spaces' 'category_Stationery' 'category_Tabletop Games'\n",
      " 'category_Taxidermy' 'category_Technology' 'category_Television'\n",
      " 'category_Textiles' 'category_Theater' 'category_Thrillers'\n",
      " 'category_Translations' 'category_Typography' 'category_Vegan'\n",
      " 'category_Video' 'category_Video Art' 'category_Video Games'\n",
      " 'category_Wearables' 'category_Weaving' 'category_Web'\n",
      " 'category_Webcomics' 'category_Webseries' 'category_Woodworking'\n",
      " 'category_Workshops' 'category_World Music' 'category_Young Adult'\n",
      " 'category_Zines' 'main_cat_Art' 'main_cat_Comics' 'main_cat_Crafts'\n",
      " 'main_cat_Dance' 'main_cat_Design' 'main_cat_Fashion'\n",
      " 'main_cat_Film & Video' 'main_cat_Food' 'main_cat_Games'\n",
      " 'main_cat_Journalism' 'main_cat_Music' 'main_cat_Photography'\n",
      " 'main_cat_Publishing' 'main_cat_Technology' 'main_cat_Theater'\n",
      " 'currency_AUD' 'currency_CAD' 'currency_CHF' 'currency_DKK' 'currency_EUR'\n",
      " 'currency_GBP' 'currency_HKD' 'currency_JPY' 'currency_MXN' 'currency_NOK'\n",
      " 'currency_NZD' 'currency_SEK' 'currency_SGD' 'currency_USD' 'yearlaunched'\n",
      " 'monthlaunched' 'duration' 'month_absolute' 'yearlaunched_2009'\n",
      " 'yearlaunched_2010' 'yearlaunched_2011' 'yearlaunched_2012'\n",
      " 'yearlaunched_2013' 'yearlaunched_2014' 'yearlaunched_2015'\n",
      " 'yearlaunched_2016' 'yearlaunched_2017' 'yearlaunched_2018' 'country_AT'\n",
      " 'country_AU' 'country_BE' 'country_CA' 'country_CH' 'country_DE'\n",
      " 'country_DK' 'country_ES' 'country_FR' 'country_GB' 'country_HK'\n",
      " 'country_IE' 'country_IT' 'country_JP' 'country_LU' 'country_MX'\n",
      " 'country_N,0\"' 'country_NL' 'country_NO' 'country_NZ' 'country_SE'\n",
      " 'country_SG' 'country_US']\n"
     ]
    }
   ],
   "source": [
    "print(raw_data.columns.values)"
   ]
  },
  {
   "cell_type": "code",
   "execution_count": 233,
   "metadata": {},
   "outputs": [
    {
     "name": "stdout",
     "output_type": "stream",
     "text": [
      "No more missing data in the dataset.\n"
     ]
    },
    {
     "data": {
      "text/plain": [
       "True"
      ]
     },
     "execution_count": 233,
     "metadata": {},
     "output_type": "execute_result"
    }
   ],
   "source": [
    "# Now let's take the important part of the data\n",
    "cleaned_data = raw_data.drop(['ID','name','category','main_category','currency','deadline','goal','launched','pledged','country','usd pledged','monthlaunched'], axis = 1)\n",
    "cleaned_data.columns.values\n",
    "\n",
    "# Check one last time for missing data\n",
    "print('No more missing data in the dataset.')\n",
    "cleaned_data.isnull().sum().sum() == 0\n",
    "\n",
    "# ----------- OUTPUT FOR ALL OF THIS IS THE DATAFRAME cleaned_data -------\n",
    "# ----------- FOR PCA, RATIO ATTRIBUTES STILL NEED TO BE NORMALIZED ------\n",
    "# ----------- FOR PLOTS, OUTLIERS NEED TO BE TAKEN OUT -------------------"
   ]
  },
  {
   "cell_type": "code",
   "execution_count": 234,
   "metadata": {
    "scrolled": true
   },
   "outputs": [
    {
     "data": {
      "text/plain": [
       "(331210, 228)"
      ]
     },
     "execution_count": 234,
     "metadata": {},
     "output_type": "execute_result"
    }
   ],
   "source": [
    "np.shape(cleaned_data)"
   ]
  },
  {
   "cell_type": "code",
   "execution_count": 235,
   "metadata": {},
   "outputs": [
    {
     "data": {
      "text/plain": [
       "array(['state', 'backers', 'usd_pledged_real', 'usd_goal_real',\n",
       "       'category_3D Printing', 'category_Academic', 'category_Accessories',\n",
       "       'category_Action', 'category_Animals', 'category_Animation',\n",
       "       'category_Anthologies', 'category_Apparel', 'category_Apps',\n",
       "       'category_Architecture', 'category_Art', 'category_Art Books',\n",
       "       'category_Audio', 'category_Bacon', 'category_Blues',\n",
       "       'category_Calendars', 'category_Camera Equipment',\n",
       "       'category_Candles', 'category_Ceramics',\n",
       "       \"category_Children's Books\", 'category_Childrenswear',\n",
       "       'category_Chiptune', 'category_Civic Design',\n",
       "       'category_Classical Music', 'category_Comedy',\n",
       "       'category_Comic Books', 'category_Comics',\n",
       "       'category_Community Gardens', 'category_Conceptual Art',\n",
       "       'category_Cookbooks', 'category_Country & Folk', 'category_Couture',\n",
       "       'category_Crafts', 'category_Crochet', 'category_DIY',\n",
       "       'category_DIY Electronics', 'category_Dance', 'category_Design',\n",
       "       'category_Digital Art', 'category_Documentary', 'category_Drama',\n",
       "       'category_Drinks', 'category_Electronic Music',\n",
       "       'category_Embroidery', 'category_Events', 'category_Experimental',\n",
       "       'category_Fabrication Tools', 'category_Faith', 'category_Family',\n",
       "       'category_Fantasy', \"category_Farmer's Markets\", 'category_Farms',\n",
       "       'category_Fashion', 'category_Festivals', 'category_Fiction',\n",
       "       'category_Film & Video', 'category_Fine Art', 'category_Flight',\n",
       "       'category_Food', 'category_Food Trucks', 'category_Footwear',\n",
       "       'category_Gadgets', 'category_Games', 'category_Gaming Hardware',\n",
       "       'category_Glass', 'category_Graphic Design',\n",
       "       'category_Graphic Novels', 'category_Hardware', 'category_Hip-Hop',\n",
       "       'category_Horror', 'category_Illustration', 'category_Immersive',\n",
       "       'category_Indie Rock', 'category_Installations',\n",
       "       'category_Interactive Design', 'category_Jazz', 'category_Jewelry',\n",
       "       'category_Journalism', 'category_Kids', 'category_Knitting',\n",
       "       'category_Latin', 'category_Letterpress',\n",
       "       'category_Literary Journals', 'category_Literary Spaces',\n",
       "       'category_Live Games', 'category_Makerspaces', 'category_Metal',\n",
       "       'category_Mixed Media', 'category_Mobile Games',\n",
       "       'category_Movie Theaters', 'category_Music',\n",
       "       'category_Music Videos', 'category_Musical',\n",
       "       'category_Narrative Film', 'category_Nature', 'category_Nonfiction',\n",
       "       'category_Painting', 'category_People', 'category_Performance Art',\n",
       "       'category_Performances', 'category_Periodicals',\n",
       "       'category_Pet Fashion', 'category_Photo', 'category_Photobooks',\n",
       "       'category_Photography', 'category_Places', 'category_Playing Cards',\n",
       "       'category_Plays', 'category_Poetry', 'category_Pop',\n",
       "       'category_Pottery', 'category_Print', 'category_Printing',\n",
       "       'category_Product Design', 'category_Public Art',\n",
       "       'category_Publishing', 'category_Punk', 'category_Puzzles',\n",
       "       'category_Quilts', 'category_R&B', 'category_Radio & Podcasts',\n",
       "       'category_Ready-to-wear', 'category_Residencies',\n",
       "       'category_Restaurants', 'category_Robots', 'category_Rock',\n",
       "       'category_Romance', 'category_Science Fiction',\n",
       "       'category_Sculpture', 'category_Shorts', 'category_Small Batch',\n",
       "       'category_Software', 'category_Sound', 'category_Space Exploration',\n",
       "       'category_Spaces', 'category_Stationery', 'category_Tabletop Games',\n",
       "       'category_Taxidermy', 'category_Technology', 'category_Television',\n",
       "       'category_Textiles', 'category_Theater', 'category_Thrillers',\n",
       "       'category_Translations', 'category_Typography', 'category_Vegan',\n",
       "       'category_Video', 'category_Video Art', 'category_Video Games',\n",
       "       'category_Wearables', 'category_Weaving', 'category_Web',\n",
       "       'category_Webcomics', 'category_Webseries', 'category_Woodworking',\n",
       "       'category_Workshops', 'category_World Music',\n",
       "       'category_Young Adult', 'category_Zines', 'main_cat_Art',\n",
       "       'main_cat_Comics', 'main_cat_Crafts', 'main_cat_Dance',\n",
       "       'main_cat_Design', 'main_cat_Fashion', 'main_cat_Film & Video',\n",
       "       'main_cat_Food', 'main_cat_Games', 'main_cat_Journalism',\n",
       "       'main_cat_Music', 'main_cat_Photography', 'main_cat_Publishing',\n",
       "       'main_cat_Technology', 'main_cat_Theater', 'currency_AUD',\n",
       "       'currency_CAD', 'currency_CHF', 'currency_DKK', 'currency_EUR',\n",
       "       'currency_GBP', 'currency_HKD', 'currency_JPY', 'currency_MXN',\n",
       "       'currency_NOK', 'currency_NZD', 'currency_SEK', 'currency_SGD',\n",
       "       'currency_USD', 'yearlaunched', 'duration', 'month_absolute',\n",
       "       'yearlaunched_2009', 'yearlaunched_2010', 'yearlaunched_2011',\n",
       "       'yearlaunched_2012', 'yearlaunched_2013', 'yearlaunched_2014',\n",
       "       'yearlaunched_2015', 'yearlaunched_2016', 'yearlaunched_2017',\n",
       "       'yearlaunched_2018', 'country_AT', 'country_AU', 'country_BE',\n",
       "       'country_CA', 'country_CH', 'country_DE', 'country_DK',\n",
       "       'country_ES', 'country_FR', 'country_GB', 'country_HK',\n",
       "       'country_IE', 'country_IT', 'country_JP', 'country_LU',\n",
       "       'country_MX', 'country_N,0\"', 'country_NL', 'country_NO',\n",
       "       'country_NZ', 'country_SE', 'country_SG', 'country_US'], dtype=object)"
      ]
     },
     "execution_count": 235,
     "metadata": {},
     "output_type": "execute_result"
    }
   ],
   "source": [
    "cleaned_data.columns.values"
   ]
  },
  {
   "cell_type": "markdown",
   "metadata": {},
   "source": [
    "**Bottom line data preprocessing**   \n",
    "***\n",
    "The various preprocessing steps have changed the dimensions of the dataset. The data matrix has lost some observations in the cleaning process but gained a lot of attributes, mainly due to 1 of K encoding.  \n",
    "  \n",
    "The current shape and size of __X__ (called `cleaned_data`) is displayed in the two cells above. In total, we're left with  \n",
    "**N** = 230 attributes of  \n",
    "**M** = 369961 features  \n",
    "(adding up to over 85 million entries)."
   ]
  },
  {
   "cell_type": "markdown",
   "metadata": {},
   "source": [
    "## 2. Visualizations\n",
    "\n"
   ]
  },
  {
   "cell_type": "code",
   "execution_count": 236,
   "metadata": {},
   "outputs": [
    {
     "name": "stdout",
     "output_type": "stream",
     "text": [
      "On average, projects in this dataset were launched 5.18 years after Kickstarter was founded.\n"
     ]
    },
    {
     "ename": "KeyError",
     "evalue": "'state_successful'",
     "output_type": "error",
     "traceback": [
      "\u001b[1;31m---------------------------------------------------------------------------\u001b[0m",
      "\u001b[1;31mKeyError\u001b[0m                                  Traceback (most recent call last)",
      "\u001b[1;32m~\\Anaconda3\\lib\\site-packages\\pandas\\core\\indexes\\base.py\u001b[0m in \u001b[0;36mget_loc\u001b[1;34m(self, key, method, tolerance)\u001b[0m\n\u001b[0;32m   2441\u001b[0m             \u001b[1;32mtry\u001b[0m\u001b[1;33m:\u001b[0m\u001b[1;33m\u001b[0m\u001b[0m\n\u001b[1;32m-> 2442\u001b[1;33m                 \u001b[1;32mreturn\u001b[0m \u001b[0mself\u001b[0m\u001b[1;33m.\u001b[0m\u001b[0m_engine\u001b[0m\u001b[1;33m.\u001b[0m\u001b[0mget_loc\u001b[0m\u001b[1;33m(\u001b[0m\u001b[0mkey\u001b[0m\u001b[1;33m)\u001b[0m\u001b[1;33m\u001b[0m\u001b[0m\n\u001b[0m\u001b[0;32m   2443\u001b[0m             \u001b[1;32mexcept\u001b[0m \u001b[0mKeyError\u001b[0m\u001b[1;33m:\u001b[0m\u001b[1;33m\u001b[0m\u001b[0m\n",
      "\u001b[1;32mpandas\\_libs\\index.pyx\u001b[0m in \u001b[0;36mpandas._libs.index.IndexEngine.get_loc\u001b[1;34m()\u001b[0m\n",
      "\u001b[1;32mpandas\\_libs\\index.pyx\u001b[0m in \u001b[0;36mpandas._libs.index.IndexEngine.get_loc\u001b[1;34m()\u001b[0m\n",
      "\u001b[1;32mpandas\\_libs\\hashtable_class_helper.pxi\u001b[0m in \u001b[0;36mpandas._libs.hashtable.PyObjectHashTable.get_item\u001b[1;34m()\u001b[0m\n",
      "\u001b[1;32mpandas\\_libs\\hashtable_class_helper.pxi\u001b[0m in \u001b[0;36mpandas._libs.hashtable.PyObjectHashTable.get_item\u001b[1;34m()\u001b[0m\n",
      "\u001b[1;31mKeyError\u001b[0m: 'state_successful'",
      "\nDuring handling of the above exception, another exception occurred:\n",
      "\u001b[1;31mKeyError\u001b[0m                                  Traceback (most recent call last)",
      "\u001b[1;32m<ipython-input-236-906686cde235>\u001b[0m in \u001b[0;36m<module>\u001b[1;34m()\u001b[0m\n\u001b[0;32m     14\u001b[0m \u001b[1;33m\u001b[0m\u001b[0m\n\u001b[0;32m     15\u001b[0m \u001b[1;33m\u001b[0m\u001b[0m\n\u001b[1;32m---> 16\u001b[1;33m \u001b[0msuccessful_projects\u001b[0m \u001b[1;33m=\u001b[0m \u001b[0mcleaned_data\u001b[0m\u001b[1;33m[\u001b[0m\u001b[0mcleaned_data\u001b[0m\u001b[1;33m[\u001b[0m\u001b[1;34m'state_successful'\u001b[0m\u001b[1;33m]\u001b[0m \u001b[1;33m==\u001b[0m \u001b[1;36m1\u001b[0m\u001b[1;33m]\u001b[0m\u001b[1;33m\u001b[0m\u001b[0m\n\u001b[0m\u001b[0;32m     17\u001b[0m \u001b[1;33m\u001b[0m\u001b[0m\n\u001b[0;32m     18\u001b[0m \u001b[0msuccesses_per_year\u001b[0m \u001b[1;33m=\u001b[0m \u001b[0mlist\u001b[0m\u001b[1;33m(\u001b[0m\u001b[0msuccessful_projects\u001b[0m\u001b[1;33m[\u001b[0m\u001b[0myearlaunched_index_\u001b[0m\u001b[1;33m[\u001b[0m\u001b[0myear\u001b[0m\u001b[1;33m]\u001b[0m\u001b[1;33m]\u001b[0m\u001b[1;33m.\u001b[0m\u001b[0msum\u001b[0m\u001b[1;33m(\u001b[0m\u001b[1;33m)\u001b[0m \u001b[1;32mfor\u001b[0m \u001b[0myear\u001b[0m \u001b[1;32min\u001b[0m \u001b[0mrange\u001b[0m\u001b[1;33m(\u001b[0m\u001b[0mlen\u001b[0m\u001b[1;33m(\u001b[0m\u001b[0myr_sort\u001b[0m\u001b[1;33m)\u001b[0m\u001b[1;33m)\u001b[0m\u001b[1;33m)\u001b[0m\u001b[1;33m\u001b[0m\u001b[0m\n",
      "\u001b[1;32m~\\Anaconda3\\lib\\site-packages\\pandas\\core\\frame.py\u001b[0m in \u001b[0;36m__getitem__\u001b[1;34m(self, key)\u001b[0m\n\u001b[0;32m   1962\u001b[0m             \u001b[1;32mreturn\u001b[0m \u001b[0mself\u001b[0m\u001b[1;33m.\u001b[0m\u001b[0m_getitem_multilevel\u001b[0m\u001b[1;33m(\u001b[0m\u001b[0mkey\u001b[0m\u001b[1;33m)\u001b[0m\u001b[1;33m\u001b[0m\u001b[0m\n\u001b[0;32m   1963\u001b[0m         \u001b[1;32melse\u001b[0m\u001b[1;33m:\u001b[0m\u001b[1;33m\u001b[0m\u001b[0m\n\u001b[1;32m-> 1964\u001b[1;33m             \u001b[1;32mreturn\u001b[0m \u001b[0mself\u001b[0m\u001b[1;33m.\u001b[0m\u001b[0m_getitem_column\u001b[0m\u001b[1;33m(\u001b[0m\u001b[0mkey\u001b[0m\u001b[1;33m)\u001b[0m\u001b[1;33m\u001b[0m\u001b[0m\n\u001b[0m\u001b[0;32m   1965\u001b[0m \u001b[1;33m\u001b[0m\u001b[0m\n\u001b[0;32m   1966\u001b[0m     \u001b[1;32mdef\u001b[0m \u001b[0m_getitem_column\u001b[0m\u001b[1;33m(\u001b[0m\u001b[0mself\u001b[0m\u001b[1;33m,\u001b[0m \u001b[0mkey\u001b[0m\u001b[1;33m)\u001b[0m\u001b[1;33m:\u001b[0m\u001b[1;33m\u001b[0m\u001b[0m\n",
      "\u001b[1;32m~\\Anaconda3\\lib\\site-packages\\pandas\\core\\frame.py\u001b[0m in \u001b[0;36m_getitem_column\u001b[1;34m(self, key)\u001b[0m\n\u001b[0;32m   1969\u001b[0m         \u001b[1;31m# get column\u001b[0m\u001b[1;33m\u001b[0m\u001b[1;33m\u001b[0m\u001b[0m\n\u001b[0;32m   1970\u001b[0m         \u001b[1;32mif\u001b[0m \u001b[0mself\u001b[0m\u001b[1;33m.\u001b[0m\u001b[0mcolumns\u001b[0m\u001b[1;33m.\u001b[0m\u001b[0mis_unique\u001b[0m\u001b[1;33m:\u001b[0m\u001b[1;33m\u001b[0m\u001b[0m\n\u001b[1;32m-> 1971\u001b[1;33m             \u001b[1;32mreturn\u001b[0m \u001b[0mself\u001b[0m\u001b[1;33m.\u001b[0m\u001b[0m_get_item_cache\u001b[0m\u001b[1;33m(\u001b[0m\u001b[0mkey\u001b[0m\u001b[1;33m)\u001b[0m\u001b[1;33m\u001b[0m\u001b[0m\n\u001b[0m\u001b[0;32m   1972\u001b[0m \u001b[1;33m\u001b[0m\u001b[0m\n\u001b[0;32m   1973\u001b[0m         \u001b[1;31m# duplicate columns & possible reduce dimensionality\u001b[0m\u001b[1;33m\u001b[0m\u001b[1;33m\u001b[0m\u001b[0m\n",
      "\u001b[1;32m~\\Anaconda3\\lib\\site-packages\\pandas\\core\\generic.py\u001b[0m in \u001b[0;36m_get_item_cache\u001b[1;34m(self, item)\u001b[0m\n\u001b[0;32m   1643\u001b[0m         \u001b[0mres\u001b[0m \u001b[1;33m=\u001b[0m \u001b[0mcache\u001b[0m\u001b[1;33m.\u001b[0m\u001b[0mget\u001b[0m\u001b[1;33m(\u001b[0m\u001b[0mitem\u001b[0m\u001b[1;33m)\u001b[0m\u001b[1;33m\u001b[0m\u001b[0m\n\u001b[0;32m   1644\u001b[0m         \u001b[1;32mif\u001b[0m \u001b[0mres\u001b[0m \u001b[1;32mis\u001b[0m \u001b[1;32mNone\u001b[0m\u001b[1;33m:\u001b[0m\u001b[1;33m\u001b[0m\u001b[0m\n\u001b[1;32m-> 1645\u001b[1;33m             \u001b[0mvalues\u001b[0m \u001b[1;33m=\u001b[0m \u001b[0mself\u001b[0m\u001b[1;33m.\u001b[0m\u001b[0m_data\u001b[0m\u001b[1;33m.\u001b[0m\u001b[0mget\u001b[0m\u001b[1;33m(\u001b[0m\u001b[0mitem\u001b[0m\u001b[1;33m)\u001b[0m\u001b[1;33m\u001b[0m\u001b[0m\n\u001b[0m\u001b[0;32m   1646\u001b[0m             \u001b[0mres\u001b[0m \u001b[1;33m=\u001b[0m \u001b[0mself\u001b[0m\u001b[1;33m.\u001b[0m\u001b[0m_box_item_values\u001b[0m\u001b[1;33m(\u001b[0m\u001b[0mitem\u001b[0m\u001b[1;33m,\u001b[0m \u001b[0mvalues\u001b[0m\u001b[1;33m)\u001b[0m\u001b[1;33m\u001b[0m\u001b[0m\n\u001b[0;32m   1647\u001b[0m             \u001b[0mcache\u001b[0m\u001b[1;33m[\u001b[0m\u001b[0mitem\u001b[0m\u001b[1;33m]\u001b[0m \u001b[1;33m=\u001b[0m \u001b[0mres\u001b[0m\u001b[1;33m\u001b[0m\u001b[0m\n",
      "\u001b[1;32m~\\Anaconda3\\lib\\site-packages\\pandas\\core\\internals.py\u001b[0m in \u001b[0;36mget\u001b[1;34m(self, item, fastpath)\u001b[0m\n\u001b[0;32m   3588\u001b[0m \u001b[1;33m\u001b[0m\u001b[0m\n\u001b[0;32m   3589\u001b[0m             \u001b[1;32mif\u001b[0m \u001b[1;32mnot\u001b[0m \u001b[0misnull\u001b[0m\u001b[1;33m(\u001b[0m\u001b[0mitem\u001b[0m\u001b[1;33m)\u001b[0m\u001b[1;33m:\u001b[0m\u001b[1;33m\u001b[0m\u001b[0m\n\u001b[1;32m-> 3590\u001b[1;33m                 \u001b[0mloc\u001b[0m \u001b[1;33m=\u001b[0m \u001b[0mself\u001b[0m\u001b[1;33m.\u001b[0m\u001b[0mitems\u001b[0m\u001b[1;33m.\u001b[0m\u001b[0mget_loc\u001b[0m\u001b[1;33m(\u001b[0m\u001b[0mitem\u001b[0m\u001b[1;33m)\u001b[0m\u001b[1;33m\u001b[0m\u001b[0m\n\u001b[0m\u001b[0;32m   3591\u001b[0m             \u001b[1;32melse\u001b[0m\u001b[1;33m:\u001b[0m\u001b[1;33m\u001b[0m\u001b[0m\n\u001b[0;32m   3592\u001b[0m                 \u001b[0mindexer\u001b[0m \u001b[1;33m=\u001b[0m \u001b[0mnp\u001b[0m\u001b[1;33m.\u001b[0m\u001b[0marange\u001b[0m\u001b[1;33m(\u001b[0m\u001b[0mlen\u001b[0m\u001b[1;33m(\u001b[0m\u001b[0mself\u001b[0m\u001b[1;33m.\u001b[0m\u001b[0mitems\u001b[0m\u001b[1;33m)\u001b[0m\u001b[1;33m)\u001b[0m\u001b[1;33m[\u001b[0m\u001b[0misnull\u001b[0m\u001b[1;33m(\u001b[0m\u001b[0mself\u001b[0m\u001b[1;33m.\u001b[0m\u001b[0mitems\u001b[0m\u001b[1;33m)\u001b[0m\u001b[1;33m]\u001b[0m\u001b[1;33m\u001b[0m\u001b[0m\n",
      "\u001b[1;32m~\\Anaconda3\\lib\\site-packages\\pandas\\core\\indexes\\base.py\u001b[0m in \u001b[0;36mget_loc\u001b[1;34m(self, key, method, tolerance)\u001b[0m\n\u001b[0;32m   2442\u001b[0m                 \u001b[1;32mreturn\u001b[0m \u001b[0mself\u001b[0m\u001b[1;33m.\u001b[0m\u001b[0m_engine\u001b[0m\u001b[1;33m.\u001b[0m\u001b[0mget_loc\u001b[0m\u001b[1;33m(\u001b[0m\u001b[0mkey\u001b[0m\u001b[1;33m)\u001b[0m\u001b[1;33m\u001b[0m\u001b[0m\n\u001b[0;32m   2443\u001b[0m             \u001b[1;32mexcept\u001b[0m \u001b[0mKeyError\u001b[0m\u001b[1;33m:\u001b[0m\u001b[1;33m\u001b[0m\u001b[0m\n\u001b[1;32m-> 2444\u001b[1;33m                 \u001b[1;32mreturn\u001b[0m \u001b[0mself\u001b[0m\u001b[1;33m.\u001b[0m\u001b[0m_engine\u001b[0m\u001b[1;33m.\u001b[0m\u001b[0mget_loc\u001b[0m\u001b[1;33m(\u001b[0m\u001b[0mself\u001b[0m\u001b[1;33m.\u001b[0m\u001b[0m_maybe_cast_indexer\u001b[0m\u001b[1;33m(\u001b[0m\u001b[0mkey\u001b[0m\u001b[1;33m)\u001b[0m\u001b[1;33m)\u001b[0m\u001b[1;33m\u001b[0m\u001b[0m\n\u001b[0m\u001b[0;32m   2445\u001b[0m \u001b[1;33m\u001b[0m\u001b[0m\n\u001b[0;32m   2446\u001b[0m         \u001b[0mindexer\u001b[0m \u001b[1;33m=\u001b[0m \u001b[0mself\u001b[0m\u001b[1;33m.\u001b[0m\u001b[0mget_indexer\u001b[0m\u001b[1;33m(\u001b[0m\u001b[1;33m[\u001b[0m\u001b[0mkey\u001b[0m\u001b[1;33m]\u001b[0m\u001b[1;33m,\u001b[0m \u001b[0mmethod\u001b[0m\u001b[1;33m=\u001b[0m\u001b[0mmethod\u001b[0m\u001b[1;33m,\u001b[0m \u001b[0mtolerance\u001b[0m\u001b[1;33m=\u001b[0m\u001b[0mtolerance\u001b[0m\u001b[1;33m)\u001b[0m\u001b[1;33m\u001b[0m\u001b[0m\n",
      "\u001b[1;32mpandas\\_libs\\index.pyx\u001b[0m in \u001b[0;36mpandas._libs.index.IndexEngine.get_loc\u001b[1;34m()\u001b[0m\n",
      "\u001b[1;32mpandas\\_libs\\index.pyx\u001b[0m in \u001b[0;36mpandas._libs.index.IndexEngine.get_loc\u001b[1;34m()\u001b[0m\n",
      "\u001b[1;32mpandas\\_libs\\hashtable_class_helper.pxi\u001b[0m in \u001b[0;36mpandas._libs.hashtable.PyObjectHashTable.get_item\u001b[1;34m()\u001b[0m\n",
      "\u001b[1;32mpandas\\_libs\\hashtable_class_helper.pxi\u001b[0m in \u001b[0;36mpandas._libs.hashtable.PyObjectHashTable.get_item\u001b[1;34m()\u001b[0m\n",
      "\u001b[1;31mKeyError\u001b[0m: 'state_successful'"
     ]
    }
   ],
   "source": [
    "# In which year did projects start?\n",
    "\n",
    "# create a list of indices to address the individual years\n",
    "yearlaunched_index_ = list('yearlaunched_' + str(yr_sort[i]) for i in range(len(yr_sort)))\n",
    "\n",
    "# sum up number of projects per year and store in list\n",
    "projects_per_year = list(cleaned_data[yearlaunched_index_[year]].sum() for year in range(len(yr_sort)))\n",
    "\n",
    "# calculate mean launchyear relative to Kickstarter founding.\n",
    "years_after_launch = np.arange(9)\n",
    "mean_launchyear = sum(projects_per_year*years_after_launch)/sum(projects_per_year)\n",
    "print('On average, projects in this dataset were launched', \\\n",
    "      '%.2f' % mean_launchyear, 'years after Kickstarter was founded.')\n",
    "\n",
    "\n",
    "\n",
    "successful_projects = cleaned_data[cleaned_data['state_successful'] == 1]\n",
    "\n",
    "successes_per_year = list(successful_projects[yearlaunched_index_[year]].sum() for year in range(len(yr_sort)))\n",
    "\n",
    "projects = np.asarray(projects_per_year)\n",
    "successes = np.asarray(successes_per_year)\n",
    "\n",
    "fails = projects - successes"
   ]
  },
  {
   "cell_type": "code",
   "execution_count": 95,
   "metadata": {},
   "outputs": [
    {
     "data": {
      "image/png": "[encoded data removed]",
      "text/plain": [
       "<Figure size 504x360 with 1 Axes>"
      ]
     },
     "metadata": {},
     "output_type": "display_data"
    }
   ],
   "source": [
    "fig = plt.subplots(figsize=(7,5))\n",
    "N = 9\n",
    "ind = np.arange(N)\n",
    "width = 0.5        # the width of the bars\n",
    "\n",
    "p1 = plt.bar(ind, successes, width, color='#d62728')\n",
    "p2 = plt.bar(ind, fails, width, bottom=successes)\n",
    "\n",
    "plt.ylabel('Total number of projects')\n",
    "plt.title('Failed and succeeded Kickstarter projects')\n",
    "plt.xlabel('Year')\n",
    "plt.xticks(ind, yr_sort)\n",
    "plt.legend((p1[0], p2[0]), ('Succeeded', 'Failed'));"
   ]
  },
  {
   "cell_type": "code",
   "execution_count": null,
   "metadata": {
    "collapsed": true
   },
   "outputs": [],
   "source": [
    "fig, ax = plt.subplots(figsize=(10,6))\n",
    "sns.countplot(\n",
    "    cleaned_data['month_absolute'],\n",
    "    palette='Blues'\n",
    ")\n",
    "sns.despine()"
   ]
  },
  {
   "cell_type": "code",
   "execution_count": null,
   "metadata": {
    "collapsed": true
   },
   "outputs": [],
   "source": [
    "# plot a simple relationship\n",
    "fig, ax = plt.subplots(figsize=(5,5))\n",
    "ax.set(title='5000 projects up to 100k USD',\n",
    "      xlabel='Project goal [USD]', ylabel='Money pledged [USD]',\n",
    "      xlim=[0, 100000], ylim=[0, 100000])\n",
    "ax.scatter(df_training['goal'], df_training['pledged'], alpha=0.4)\n",
    "ax.plot(df_training['goal'], df_training['goal'], color='black', linewidth=1, label='Threshold')\n",
    "ax.legend()\n",
    "# idea: split dataset\n",
    "success_mask = [df_training['pledged'] >= df_training['goal']]\n",
    "# 'succeeded'-color blue, else 'failed'-red "
   ]
  },
  {
   "cell_type": "markdown",
   "metadata": {},
   "source": [
    "## 3. Principle component analysis\n",
    "\n",
    "Next up is decomposing this set into its principal components. The mean value of all interval or ratio data is computed and stored as pandas object `means`, thre respective standard deviations are calculated using numpy's `std()`. \n",
    "\n",
    "The data is then normalized to prepare it for the singular value decomposition. As attribute values differ by orders of magnitude, they are all divided by their standard deviation (eg. compare number of backers: ~$10^2$ to funding goals: ~$10^4$)."
   ]
  },
  {
   "cell_type": "code",
   "execution_count": 325,
   "metadata": {},
   "outputs": [
    {
     "data": {
      "text/plain": [
       "['state',\n",
       " 'backers',\n",
       " 'usd_pledged_real',\n",
       " 'usd_goal_real',\n",
       " 'category_3D Printing',\n",
       " 'category_Academic',\n",
       " 'category_Accessories',\n",
       " 'category_Action',\n",
       " 'category_Animals',\n",
       " 'category_Animation',\n",
       " 'category_Anthologies',\n",
       " 'category_Apparel',\n",
       " 'category_Apps',\n",
       " 'category_Architecture',\n",
       " 'category_Art',\n",
       " 'category_Art Books',\n",
       " 'category_Audio',\n",
       " 'category_Bacon',\n",
       " 'category_Blues',\n",
       " 'category_Calendars',\n",
       " 'category_Camera Equipment',\n",
       " 'category_Candles',\n",
       " 'category_Ceramics',\n",
       " \"category_Children's Books\",\n",
       " 'category_Childrenswear',\n",
       " 'category_Chiptune',\n",
       " 'category_Civic Design',\n",
       " 'category_Classical Music',\n",
       " 'category_Comedy',\n",
       " 'category_Comic Books',\n",
       " 'category_Comics',\n",
       " 'category_Community Gardens',\n",
       " 'category_Conceptual Art',\n",
       " 'category_Cookbooks',\n",
       " 'category_Country & Folk',\n",
       " 'category_Couture',\n",
       " 'category_Crafts',\n",
       " 'category_Crochet',\n",
       " 'category_DIY',\n",
       " 'category_DIY Electronics',\n",
       " 'category_Dance',\n",
       " 'category_Design',\n",
       " 'category_Digital Art',\n",
       " 'category_Documentary',\n",
       " 'category_Drama',\n",
       " 'category_Drinks',\n",
       " 'category_Electronic Music',\n",
       " 'category_Embroidery',\n",
       " 'category_Events',\n",
       " 'category_Experimental',\n",
       " 'category_Fabrication Tools',\n",
       " 'category_Faith',\n",
       " 'category_Family',\n",
       " 'category_Fantasy',\n",
       " \"category_Farmer's Markets\",\n",
       " 'category_Farms',\n",
       " 'category_Fashion',\n",
       " 'category_Festivals',\n",
       " 'category_Fiction',\n",
       " 'category_Film & Video',\n",
       " 'category_Fine Art',\n",
       " 'category_Flight',\n",
       " 'category_Food',\n",
       " 'category_Food Trucks',\n",
       " 'category_Footwear',\n",
       " 'category_Gadgets',\n",
       " 'category_Games',\n",
       " 'category_Gaming Hardware',\n",
       " 'category_Glass',\n",
       " 'category_Graphic Design',\n",
       " 'category_Graphic Novels',\n",
       " 'category_Hardware',\n",
       " 'category_Hip-Hop',\n",
       " 'category_Horror',\n",
       " 'category_Illustration',\n",
       " 'category_Immersive',\n",
       " 'category_Indie Rock',\n",
       " 'category_Installations',\n",
       " 'category_Interactive Design',\n",
       " 'category_Jazz',\n",
       " 'category_Jewelry',\n",
       " 'category_Journalism',\n",
       " 'category_Kids',\n",
       " 'category_Knitting',\n",
       " 'category_Latin',\n",
       " 'category_Letterpress',\n",
       " 'category_Literary Journals',\n",
       " 'category_Literary Spaces',\n",
       " 'category_Live Games',\n",
       " 'category_Makerspaces',\n",
       " 'category_Metal',\n",
       " 'category_Mixed Media',\n",
       " 'category_Mobile Games',\n",
       " 'category_Movie Theaters',\n",
       " 'category_Music',\n",
       " 'category_Music Videos',\n",
       " 'category_Musical',\n",
       " 'category_Narrative Film',\n",
       " 'category_Nature',\n",
       " 'category_Nonfiction',\n",
       " 'category_Painting',\n",
       " 'category_People',\n",
       " 'category_Performance Art',\n",
       " 'category_Performances',\n",
       " 'category_Periodicals',\n",
       " 'category_Pet Fashion',\n",
       " 'category_Photo',\n",
       " 'category_Photobooks',\n",
       " 'category_Photography',\n",
       " 'category_Places',\n",
       " 'category_Playing Cards',\n",
       " 'category_Plays',\n",
       " 'category_Poetry',\n",
       " 'category_Pop',\n",
       " 'category_Pottery',\n",
       " 'category_Print',\n",
       " 'category_Printing',\n",
       " 'category_Product Design',\n",
       " 'category_Public Art',\n",
       " 'category_Publishing',\n",
       " 'category_Punk',\n",
       " 'category_Puzzles',\n",
       " 'category_Quilts',\n",
       " 'category_R&B',\n",
       " 'category_Radio & Podcasts',\n",
       " 'category_Ready-to-wear',\n",
       " 'category_Residencies',\n",
       " 'category_Restaurants',\n",
       " 'category_Robots',\n",
       " 'category_Rock',\n",
       " 'category_Romance',\n",
       " 'category_Science Fiction',\n",
       " 'category_Sculpture',\n",
       " 'category_Shorts',\n",
       " 'category_Small Batch',\n",
       " 'category_Software',\n",
       " 'category_Sound',\n",
       " 'category_Space Exploration',\n",
       " 'category_Spaces',\n",
       " 'category_Stationery',\n",
       " 'category_Tabletop Games',\n",
       " 'category_Taxidermy',\n",
       " 'category_Technology',\n",
       " 'category_Television',\n",
       " 'category_Textiles',\n",
       " 'category_Theater',\n",
       " 'category_Thrillers',\n",
       " 'category_Translations',\n",
       " 'category_Typography',\n",
       " 'category_Vegan',\n",
       " 'category_Video',\n",
       " 'category_Video Art',\n",
       " 'category_Video Games',\n",
       " 'category_Wearables',\n",
       " 'category_Weaving',\n",
       " 'category_Web',\n",
       " 'category_Webcomics',\n",
       " 'category_Webseries',\n",
       " 'category_Woodworking',\n",
       " 'category_Workshops',\n",
       " 'category_World Music',\n",
       " 'category_Young Adult',\n",
       " 'category_Zines',\n",
       " 'main_cat_Art',\n",
       " 'main_cat_Comics',\n",
       " 'main_cat_Crafts',\n",
       " 'main_cat_Dance',\n",
       " 'main_cat_Design',\n",
       " 'main_cat_Fashion',\n",
       " 'main_cat_Film & Video',\n",
       " 'main_cat_Food',\n",
       " 'main_cat_Games',\n",
       " 'main_cat_Journalism',\n",
       " 'main_cat_Music',\n",
       " 'main_cat_Photography',\n",
       " 'main_cat_Publishing',\n",
       " 'main_cat_Technology',\n",
       " 'main_cat_Theater',\n",
       " 'currency_AUD',\n",
       " 'currency_CAD',\n",
       " 'currency_CHF',\n",
       " 'currency_DKK',\n",
       " 'currency_EUR',\n",
       " 'currency_GBP',\n",
       " 'currency_HKD',\n",
       " 'currency_JPY',\n",
       " 'currency_MXN',\n",
       " 'currency_NOK',\n",
       " 'currency_NZD',\n",
       " 'currency_SEK',\n",
       " 'currency_SGD',\n",
       " 'currency_USD',\n",
       " 'yearlaunched',\n",
       " 'duration',\n",
       " 'month_absolute',\n",
       " 'yearlaunched_2009',\n",
       " 'yearlaunched_2010',\n",
       " 'yearlaunched_2011',\n",
       " 'yearlaunched_2012',\n",
       " 'yearlaunched_2013',\n",
       " 'yearlaunched_2014',\n",
       " 'yearlaunched_2015',\n",
       " 'yearlaunched_2016',\n",
       " 'yearlaunched_2017',\n",
       " 'yearlaunched_2018',\n",
       " 'country_AT',\n",
       " 'country_AU',\n",
       " 'country_BE',\n",
       " 'country_CA',\n",
       " 'country_CH',\n",
       " 'country_DE',\n",
       " 'country_DK',\n",
       " 'country_ES',\n",
       " 'country_FR',\n",
       " 'country_GB',\n",
       " 'country_HK',\n",
       " 'country_IE',\n",
       " 'country_IT',\n",
       " 'country_JP',\n",
       " 'country_LU',\n",
       " 'country_MX',\n",
       " 'country_N,0\"',\n",
       " 'country_NL',\n",
       " 'country_NO',\n",
       " 'country_NZ',\n",
       " 'country_SE',\n",
       " 'country_SG',\n",
       " 'country_US']"
      ]
     },
     "execution_count": 325,
     "metadata": {},
     "output_type": "execute_result"
    }
   ],
   "source": [
    "list(cleaned_data)"
   ]
  },
  {
   "cell_type": "code",
   "execution_count": 326,
   "metadata": {},
   "outputs": [
    {
     "name": "stdout",
     "output_type": "stream",
     "text": [
      "Mean values of ratio attributes:\n",
      "\n",
      "backers               117.00\n",
      "usd_pledged_real    9,953.00\n",
      "usd_goal_real      41,519.00\n",
      "duration               33.00\n",
      "month_absolute         64.00\n",
      "dtype: float64\n",
      "\n",
      "Their standard deviations:\n",
      "\n",
      "backers                  966.00\n",
      "usd_pledged_real      96,800.00\n",
      "usd_goal_real      1,109,618.00\n",
      "duration                  13.00\n",
      "month_absolute            23.00\n",
      "dtype: float64\n",
      "\n",
      "The modes are:\n",
      "\n",
      "   backers  usd_pledged_real  usd_goal_real  duration  month_absolute\n",
      "0        0              0.00       5,000.00     29.00              62\n",
      "\n",
      "The medians are:\n",
      "\n",
      "backers               15.00\n",
      "usd_pledged_real     789.00\n",
      "usd_goal_real      5,000.00\n",
      "duration              30.00\n",
      "month_absolute        66.00\n",
      "dtype: float64\n"
     ]
    }
   ],
   "source": [
    "# Extract all ratio columns for normalization and calculate \n",
    "# summary statistics (mean, standard dev, mode, median).\n",
    "\n",
    "ratio_data = ['backers', 'usd_pledged_real', 'usd_goal_real', 'duration', 'month_absolute']\n",
    "\n",
    "means = round(cleaned_data[ratio_data].mean())\n",
    "print('Mean values of ratio attributes:\\n')\n",
    "print(means)\n",
    "\n",
    "standard_deviations = round(np.std(cleaned_data[ratio_data]))\n",
    "print('\\nTheir standard deviations:\\n')\n",
    "print(standard_deviations)\n",
    "\n",
    "modes = round(cleaned_data[ratio_data].mode())\n",
    "print('\\nThe modes are:\\n')\n",
    "print(modes)\n",
    "\n",
    "medians = round(cleaned_data[ratio_data].median())\n",
    "print('\\nThe medians are:\\n')\n",
    "print(medians)"
   ]
  },
  {
   "cell_type": "code",
   "execution_count": 327,
   "metadata": {},
   "outputs": [
    {
     "name": "stdout",
     "output_type": "stream",
     "text": [
      "The first two principal components explain 58.5 % of the variance.\n"
     ]
    }
   ],
   "source": [
    "# Subtract mean value from data and divide by standard deviation\n",
    "normalized = (cleaned_data[ratio_data] - means)/standard_deviations\n",
    "\n",
    "# PCA by computing SVD of Y\n",
    "U,S,V = svd(normalized,full_matrices=False)\n",
    "# print('U[0] = ', U[0], '\\nS[0] =', S[0], '\\nV[0] =', V[0])\n",
    "\n",
    "# Compute variance explained by principal components\n",
    "rho = (S**2) / (S**2).sum()\n",
    "\n",
    "print('The first two principal components explain', '%.1f' % sum(rho[i]*100 for i in range(2)),'% of the variance.')"
   ]
  },
  {
   "cell_type": "code",
   "execution_count": 328,
   "metadata": {},
   "outputs": [
    {
     "name": "stdout",
     "output_type": "stream",
     "text": [
      "[[ -7.06389058e-01  -2.27915485e-02   1.25100706e-02  -2.63949476e-02\n",
      "   -7.06853484e-01]\n",
      " [ -7.06460837e-01  -2.37928035e-02   9.41216753e-03  -8.30859584e-03\n",
      "    7.07240671e-01]\n",
      " [ -1.15325088e-02  -2.76544534e-02  -9.92296256e-01  -1.20207907e-01\n",
      "   -6.56556049e-04]\n",
      " [  4.14510073e-04  -6.26462938e-01  -7.64979489e-02   7.75616639e-01\n",
      "   -1.05313199e-02]\n",
      " [ -4.23605117e-02   7.78263365e-01  -9.61827037e-02   6.19034056e-01\n",
      "   -7.57929227e-03]]\n"
     ]
    }
   ],
   "source": [
    "print(V.T)"
   ]
  },
  {
   "cell_type": "code",
   "execution_count": 329,
   "metadata": {},
   "outputs": [
    {
     "data": {
      "application/vnd.plotly.v1+json": {
       "data": [
        {
         "name": "VE absolute",
         "type": "scatter",
         "uid": "7af2ba76-c4dc-11e8-a420-a402b9d2a9d7",
         "x": [
          1,
          2,
          3,
          4,
          5
         ],
         "y": [
          0.35514878524937754,
          0.22962445202825502,
          0.20304451208854096,
          0.16203694244775804,
          0.050145308186068355
         ]
        },
        {
         "name": "VE cumulated",
         "type": "scatter",
         "uid": "7af2ba77-c4dc-11e8-86f4-a402b9d2a9d7",
         "x": [
          1,
          2,
          3,
          4,
          5
         ],
         "y": [
          0.35514878524937754,
          0.5847732372776325,
          0.7878177493661735,
          0.9498546918139316,
          0.9999999999999999
         ]
        }
       ],
       "layout": {
        "xaxis": {
         "dtick": 1,
         "title": "Principal component"
        },
        "yaxis": {
         "title": "Variance explained"
        }
       }
      },
      "text/html": [
       "<div id=\"ffaa474b-b424-4bfd-941f-8f03fbcdc282\" style=\"height: 525px; width: 100%;\" class=\"plotly-graph-div\"></div><script type=\"text/javascript\">require([\"plotly\"], function(Plotly) { window.PLOTLYENV=window.PLOTLYENV || {};window.PLOTLYENV.BASE_URL=\"https://plot.ly\";Plotly.newPlot(\"ffaa474b-b424-4bfd-941f-8f03fbcdc282\", [{\"name\": \"VE absolute\", \"x\": [1, 2, 3, 4, 5], \"y\": [0.35514878524937754, 0.22962445202825502, 0.20304451208854096, 0.16203694244775804, 0.050145308186068355], \"type\": \"scatter\", \"uid\": \"7af2ba76-c4dc-11e8-a420-a402b9d2a9d7\"}, {\"name\": \"VE cumulated\", \"x\": [1, 2, 3, 4, 5], \"y\": [0.35514878524937754, 0.5847732372776325, 0.7878177493661735, 0.9498546918139316, 0.9999999999999999], \"type\": \"scatter\", \"uid\": \"7af2ba77-c4dc-11e8-86f4-a402b9d2a9d7\"}], {\"xaxis\": {\"dtick\": 1, \"title\": \"Principal component\"}, \"yaxis\": {\"title\": \"Variance explained\"}}, {\"showLink\": true, \"linkText\": \"Export to plot.ly\"})});</script>"
      ],
      "text/vnd.plotly.v1+html": [
       "<div id=\"ffaa474b-b424-4bfd-941f-8f03fbcdc282\" style=\"height: 525px; width: 100%;\" class=\"plotly-graph-div\"></div><script type=\"text/javascript\">require([\"plotly\"], function(Plotly) { window.PLOTLYENV=window.PLOTLYENV || {};window.PLOTLYENV.BASE_URL=\"https://plot.ly\";Plotly.newPlot(\"ffaa474b-b424-4bfd-941f-8f03fbcdc282\", [{\"name\": \"VE absolute\", \"x\": [1, 2, 3, 4, 5], \"y\": [0.35514878524937754, 0.22962445202825502, 0.20304451208854096, 0.16203694244775804, 0.050145308186068355], \"type\": \"scatter\", \"uid\": \"7af2ba76-c4dc-11e8-a420-a402b9d2a9d7\"}, {\"name\": \"VE cumulated\", \"x\": [1, 2, 3, 4, 5], \"y\": [0.35514878524937754, 0.5847732372776325, 0.7878177493661735, 0.9498546918139316, 0.9999999999999999], \"type\": \"scatter\", \"uid\": \"7af2ba77-c4dc-11e8-86f4-a402b9d2a9d7\"}], {\"xaxis\": {\"dtick\": 1, \"title\": \"Principal component\"}, \"yaxis\": {\"title\": \"Variance explained\"}}, {\"showLink\": true, \"linkText\": \"Export to plot.ly\"})});</script>"
      ]
     },
     "metadata": {},
     "output_type": "display_data"
    }
   ],
   "source": [
    "# Plot variance explained\n",
    "\n",
    "# I've decided to implement the graphs in plotly because the\n",
    "# interactiveness can become really helpful with more complex plots later on\n",
    "\n",
    "layout = go.Layout(xaxis=dict(title='Principal component', dtick=1), \n",
    "                   yaxis=dict(title='Variance explained'),\n",
    "                   )\n",
    "\n",
    "trace1 = go.Scatter(\n",
    "    name = 'VE absolute',\n",
    "    x = np.arange(1,len(rho)+1),\n",
    "    y = rho )\n",
    "trace2 = go.Scatter(\n",
    "    name = 'VE cumulated',\n",
    "    x = np.arange(1,len(rho)+1),\n",
    "    y = np.cumsum(rho) )\n",
    "\n",
    "\n",
    "data = [trace1, trace2]\n",
    "\n",
    "fig = go.Figure(data=[trace1, trace2], layout=layout)\n",
    "py.offline.iplot(fig)"
   ]
  },
  {
   "cell_type": "code",
   "execution_count": 434,
   "metadata": {},
   "outputs": [
    {
     "data": {
      "image/png": "[encoded data removed]",
      "text/plain": [
       "<matplotlib.figure.Figure at 0x2147269bfd0>"
      ]
     },
     "metadata": {},
     "output_type": "display_data"
    }
   ],
   "source": [
    "# should you prefer matplotlib, this block gives the same output:\n",
    "\n",
    "fig, ax = plt.subplots(figsize=(10,10))\n",
    "ax.plot(np.arange(1,len(rho)+1), np.cumsum(rho), 'o-', label = 'Cumulated VE')\n",
    "ax.plot(range(1,len(rho)+1),rho,'o-', label = 'Absolute VE')\n",
    "plt.xlabel('Principal components used',fontsize=25)\n",
    "plt.ylabel('Variance explained (VE)',fontsize=25)\n",
    "ax.legend(fontsize = 25);\n",
    "plt.xticks([1,2,3,4,5],fontsize = 15)\n",
    "plt.yticks(fontsize = 15)\n",
    "\n",
    "plt.savefig('Variance_explained.eps', format='eps', dpi = 1000)"
   ]
  },
  {
   "cell_type": "code",
   "execution_count": 433,
   "metadata": {},
   "outputs": [
    {
     "data": {
      "image/png": "[encoded data removed]",
      "text/plain": [
       "<matplotlib.figure.Figure at 0x214724dc8d0>"
      ]
     },
     "metadata": {},
     "output_type": "display_data"
    }
   ],
   "source": [
    "fig, ax = plt.subplots(figsize=(10,10))\n",
    "ax.plot(Z[:,0], Z[:,1], '*')\n",
    "plt.ylim(-3,1.5)\n",
    "plt.xlim(-3,1.8)\n",
    "plt.xlabel('PC 1', fontsize = 25)\n",
    "plt.ylabel('PC 2',fontsize = 25);\n",
    "\n",
    "plt.ylim(-2,1.5)\n",
    "plt.xlim(-2,2)\n",
    "plt.xticks(fontsize = 15)\n",
    "plt.yticks(fontsize = 15)\n",
    "\n",
    "plt.savefig('PCA1_and_2.eps', format='eps', dpi = 1000)"
   ]
  },
  {
   "cell_type": "code",
   "execution_count": 336,
   "metadata": {},
   "outputs": [
    {
     "name": "stdout",
     "output_type": "stream",
     "text": [
      "        backers  usd_pledged_real  usd_goal_real  duration  month_absolute\n",
      "15472     -0.12             -0.10          -0.04     -0.24           -0.65\n",
      "335971    -0.09             -0.05          -0.03      1.00           -0.83\n",
      "277387    -0.11             -0.06          -0.03      2.04           -1.48\n",
      "185290    -0.10             -0.08          -0.03     -0.29            0.30\n",
      "5551      -0.09             -0.10          -0.04     -0.24            0.91\n",
      "...         ...               ...            ...       ...             ...\n",
      "278599    -0.11             -0.09           0.13      2.02            1.35\n",
      "314482    -0.08             -0.03          -0.03     -0.22            0.39\n",
      "266046     0.30              2.19          -0.02      2.02            1.39\n",
      "331637    -0.09             -0.09          -0.01     -0.29           -1.13\n",
      "175053    -0.08             -0.09           0.01      2.01            1.04\n",
      "\n",
      "[2000 rows x 5 columns]\n"
     ]
    }
   ],
   "source": [
    "# for plotting purposes, a reduced dataframe\n",
    "ratio = normalized\n",
    "index = list(np.random.randint(0,len(cleaned_data),2000))\n",
    "ratio_reduced = ratio.iloc[index,:]\n",
    "print(ratio_reduced)"
   ]
  },
  {
   "cell_type": "code",
   "execution_count": 337,
   "metadata": {},
   "outputs": [
    {
     "name": "stdout",
     "output_type": "stream",
     "text": [
      "(2000, 5)\n"
     ]
    },
    {
     "data": {
      "text/plain": [
       "array([[ 0.55337745, -0.37304325,  0.0692237 , -0.11594657, -0.21619411],\n",
       "       [ 0.62491045, -0.52506595, -0.08412107,  0.81636353,  0.59064543],\n",
       "       [ 1.07020696, -0.98303193, -0.20807305,  1.64397961,  1.23554151],\n",
       "       ..., \n",
       "       [-1.30187287,  0.69986754, -0.28816707,  0.17680923,  2.93312061],\n",
       "       [ 0.87514294, -0.72853118,  0.05413084, -0.15728165, -0.23605029],\n",
       "       [-0.72981665,  0.78212447, -0.24591266,  1.60322431,  1.16406688]])"
      ]
     },
     "execution_count": 337,
     "metadata": {},
     "output_type": "execute_result"
    }
   ],
   "source": [
    "V = V.T\n",
    "# Project the centered data onto principal component space\n",
    "Z = np.array(ratio_reduced @ V)\n",
    "print(np.shape(Z))\n",
    "Z"
   ]
  },
  {
   "cell_type": "code",
   "execution_count": 396,
   "metadata": {},
   "outputs": [
    {
     "data": {
      "text/plain": [
       "[<matplotlib.lines.Line2D at 0x2144e42dc88>]"
      ]
     },
     "execution_count": 396,
     "metadata": {},
     "output_type": "execute_result"
    },
    {
     "data": {
      "image/png": "[encoded data removed]",
      "text/plain": [
       "<matplotlib.figure.Figure at 0x2144e3cdac8>"
      ]
     },
     "metadata": {},
     "output_type": "display_data"
    }
   ],
   "source": [
    "fig, ax = plt.subplots(figsize=(6,6))\n",
    "ax.plot(Z[:,0], Z[:,1], 'o')"
   ]
  },
  {
   "cell_type": "code",
   "execution_count": 342,
   "metadata": {},
   "outputs": [
    {
     "name": "stdout",
     "output_type": "stream",
     "text": [
      "[0 1 1 ..., 1 0 0]\n"
     ]
    }
   ],
   "source": [
    "y = np.array(cleaned_data['state'].iloc[index])"
   ]
  },
  {
   "cell_type": "code",
   "execution_count": 371,
   "metadata": {},
   "outputs": [],
   "source": [
    "import seaborn as sns\n",
    "sns.set()\n",
    "sns.color_palette(\"husl\", 8);"
   ]
  },
  {
   "cell_type": "code",
   "execution_count": 395,
   "metadata": {},
   "outputs": [
    {
     "data": {
      "text/plain": [
       "(array([-2. , -1.5, -1. , -0.5,  0. ,  0.5,  1. ,  1.5,  2. ]),\n",
       " <a list of 9 Text yticklabel objects>)"
      ]
     },
     "execution_count": 395,
     "metadata": {},
     "output_type": "execute_result"
    },
    {
     "data": {
      "image/png": "[encoded data removed]",
      "text/plain": [
       "<matplotlib.figure.Figure at 0x2144e487470>"
      ]
     },
     "metadata": {},
     "output_type": "display_data"
    }
   ],
   "source": [
    "C = len(np.array([0,1]))\n",
    "\n",
    "i = 0\n",
    "j = 1\n",
    "\n",
    "# Plot PCA of the data\n",
    "f = figure()\n",
    "#Z = array(Z)\n",
    "for c in range(C):\n",
    "    # select indices belonging to class c:\n",
    "    class_mask = y==c\n",
    "    plot(Z[class_mask,i], Z[class_mask,j], 'o')\n",
    "legend(['Failed','Successful'], fontsize = 25)\n",
    "xlabel('PC{0}'.format(i+1), fontsize = 25)\n",
    "ylabel('PC{0}'.format(j+1), fontsize = 25)\n",
    "plt.ylim(-2,2)\n",
    "plt.xlim(-2,2)\n",
    "plt.xticks(fontsize = 15)\n",
    "plt.yticks(fontsize = 15)"
   ]
  },
  {
   "cell_type": "code",
   "execution_count": null,
   "metadata": {
    "collapsed": true
   },
   "outputs": [],
   "source": []
  },
  {
   "cell_type": "code",
   "execution_count": null,
   "metadata": {
    "collapsed": true
   },
   "outputs": [],
   "source": [
    "states_merge = ['state_successful', 'state_failed', 'state_canceled']\n",
    "cleaned_data[states_merge] == 'state_successful'"
   ]
  },
  {
   "cell_type": "code",
   "execution_count": null,
   "metadata": {
    "collapsed": true
   },
   "outputs": [],
   "source": [
    "\n",
    "framework=;\n",
    "list_of_cmaps=['Blues','Greens','Reds','Oranges','Reds','Reds']\n",
    "printsample=pltdf.sample(n=40)\n",
    "\n",
    "g = sns.PairGrid(printsample,hue='state',hue_kws={\"cmap\":list_of_cmaps})\n",
    "g.map_upper(plt.scatter)\n",
    "g.map_lower(sns.kdeplot, shade=False, shade_lowest=False)\n",
    "g.map_diag(sns.distplot)\n",
    "# g.map_diag(plt.hist)\n",
    "g.add_legend()"
   ]
  },
  {
   "cell_type": "code",
   "execution_count": 297,
   "metadata": {
    "collapsed": true
   },
   "outputs": [],
   "source": [
    "# Indices of the principal components to be plotted\n",
    "from matplotlib.pyplot import figure, plot, title, xlabel, ylabel, show, legend\n",
    "\n",
    "V = V.T\n",
    "# Project the centered data onto principal component space\n",
    "Z = np.array(ratio_reduced @ V)"
   ]
  },
  {
   "cell_type": "code",
   "execution_count": 314,
   "metadata": {
    "collapsed": true
   },
   "outputs": [],
   "source": [
    "y = np.array(cleaned_data['state'])"
   ]
  },
  {
   "cell_type": "code",
   "execution_count": 315,
   "metadata": {},
   "outputs": [
    {
     "ename": "KeyboardInterrupt",
     "evalue": "",
     "output_type": "error",
     "traceback": [
      "\u001b[1;31m---------------------------------------------------------------------------\u001b[0m",
      "\u001b[1;31mKeyboardInterrupt\u001b[0m                         Traceback (most recent call last)",
      "\u001b[1;32m<ipython-input-315-db69160f2de5>\u001b[0m in \u001b[0;36m<module>\u001b[1;34m()\u001b[0m\n\u001b[0;32m     11\u001b[0m     \u001b[1;31m# select indices belonging to class c:\u001b[0m\u001b[1;33m\u001b[0m\u001b[1;33m\u001b[0m\u001b[0m\n\u001b[0;32m     12\u001b[0m     \u001b[0mclass_mask\u001b[0m \u001b[1;33m=\u001b[0m \u001b[0my\u001b[0m\u001b[1;33m==\u001b[0m\u001b[0mc\u001b[0m\u001b[1;33m\u001b[0m\u001b[0m\n\u001b[1;32m---> 13\u001b[1;33m     \u001b[0mplot\u001b[0m\u001b[1;33m(\u001b[0m\u001b[0mZ\u001b[0m\u001b[1;33m[\u001b[0m\u001b[0mclass_mask\u001b[0m\u001b[1;33m,\u001b[0m\u001b[0mi\u001b[0m\u001b[1;33m]\u001b[0m\u001b[1;33m,\u001b[0m \u001b[0mZ\u001b[0m\u001b[1;33m[\u001b[0m\u001b[0mclass_mask\u001b[0m\u001b[1;33m,\u001b[0m\u001b[0mj\u001b[0m\u001b[1;33m]\u001b[0m\u001b[1;33m,\u001b[0m \u001b[1;34m'o'\u001b[0m\u001b[1;33m)\u001b[0m\u001b[1;33m\u001b[0m\u001b[0m\n\u001b[0m\u001b[0;32m     14\u001b[0m \u001b[0mlegend\u001b[0m\u001b[1;33m(\u001b[0m\u001b[1;34m''\u001b[0m\u001b[1;33m)\u001b[0m\u001b[1;33m\u001b[0m\u001b[0m\n\u001b[0;32m     15\u001b[0m \u001b[0mxlabel\u001b[0m\u001b[1;33m(\u001b[0m\u001b[1;34m'PC{0}'\u001b[0m\u001b[1;33m.\u001b[0m\u001b[0mformat\u001b[0m\u001b[1;33m(\u001b[0m\u001b[0mi\u001b[0m\u001b[1;33m+\u001b[0m\u001b[1;36m1\u001b[0m\u001b[1;33m)\u001b[0m\u001b[1;33m)\u001b[0m\u001b[1;33m\u001b[0m\u001b[0m\n",
      "\u001b[1;32m~\\Anaconda3\\lib\\site-packages\\matplotlib\\pyplot.py\u001b[0m in \u001b[0;36mplot\u001b[1;34m(*args, **kwargs)\u001b[0m\n\u001b[0;32m   3238\u001b[0m                       mplDeprecation)\n\u001b[0;32m   3239\u001b[0m     \u001b[1;32mtry\u001b[0m\u001b[1;33m:\u001b[0m\u001b[1;33m\u001b[0m\u001b[0m\n\u001b[1;32m-> 3240\u001b[1;33m         \u001b[0mret\u001b[0m \u001b[1;33m=\u001b[0m \u001b[0max\u001b[0m\u001b[1;33m.\u001b[0m\u001b[0mplot\u001b[0m\u001b[1;33m(\u001b[0m\u001b[1;33m*\u001b[0m\u001b[0margs\u001b[0m\u001b[1;33m,\u001b[0m \u001b[1;33m**\u001b[0m\u001b[0mkwargs\u001b[0m\u001b[1;33m)\u001b[0m\u001b[1;33m\u001b[0m\u001b[0m\n\u001b[0m\u001b[0;32m   3241\u001b[0m     \u001b[1;32mfinally\u001b[0m\u001b[1;33m:\u001b[0m\u001b[1;33m\u001b[0m\u001b[0m\n\u001b[0;32m   3242\u001b[0m         \u001b[0max\u001b[0m\u001b[1;33m.\u001b[0m\u001b[0m_hold\u001b[0m \u001b[1;33m=\u001b[0m \u001b[0mwashold\u001b[0m\u001b[1;33m\u001b[0m\u001b[0m\n",
      "\u001b[1;32m~\\Anaconda3\\lib\\site-packages\\matplotlib\\__init__.py\u001b[0m in \u001b[0;36minner\u001b[1;34m(ax, *args, **kwargs)\u001b[0m\n\u001b[0;32m   1708\u001b[0m                     warnings.warn(msg % (label_namer, func.__name__),\n\u001b[0;32m   1709\u001b[0m                                   RuntimeWarning, stacklevel=2)\n\u001b[1;32m-> 1710\u001b[1;33m             \u001b[1;32mreturn\u001b[0m \u001b[0mfunc\u001b[0m\u001b[1;33m(\u001b[0m\u001b[0max\u001b[0m\u001b[1;33m,\u001b[0m \u001b[1;33m*\u001b[0m\u001b[0margs\u001b[0m\u001b[1;33m,\u001b[0m \u001b[1;33m**\u001b[0m\u001b[0mkwargs\u001b[0m\u001b[1;33m)\u001b[0m\u001b[1;33m\u001b[0m\u001b[0m\n\u001b[0m\u001b[0;32m   1711\u001b[0m         \u001b[0mpre_doc\u001b[0m \u001b[1;33m=\u001b[0m \u001b[0minner\u001b[0m\u001b[1;33m.\u001b[0m\u001b[0m__doc__\u001b[0m\u001b[1;33m\u001b[0m\u001b[0m\n\u001b[0;32m   1712\u001b[0m         \u001b[1;32mif\u001b[0m \u001b[0mpre_doc\u001b[0m \u001b[1;32mis\u001b[0m \u001b[1;32mNone\u001b[0m\u001b[1;33m:\u001b[0m\u001b[1;33m\u001b[0m\u001b[0m\n",
      "\u001b[1;32m~\\Anaconda3\\lib\\site-packages\\matplotlib\\axes\\_axes.py\u001b[0m in \u001b[0;36mplot\u001b[1;34m(self, *args, **kwargs)\u001b[0m\n\u001b[0;32m   1439\u001b[0m             \u001b[0mlines\u001b[0m\u001b[1;33m.\u001b[0m\u001b[0mappend\u001b[0m\u001b[1;33m(\u001b[0m\u001b[0mline\u001b[0m\u001b[1;33m)\u001b[0m\u001b[1;33m\u001b[0m\u001b[0m\n\u001b[0;32m   1440\u001b[0m \u001b[1;33m\u001b[0m\u001b[0m\n\u001b[1;32m-> 1441\u001b[1;33m         \u001b[0mself\u001b[0m\u001b[1;33m.\u001b[0m\u001b[0mautoscale_view\u001b[0m\u001b[1;33m(\u001b[0m\u001b[0mscalex\u001b[0m\u001b[1;33m=\u001b[0m\u001b[0mscalex\u001b[0m\u001b[1;33m,\u001b[0m \u001b[0mscaley\u001b[0m\u001b[1;33m=\u001b[0m\u001b[0mscaley\u001b[0m\u001b[1;33m)\u001b[0m\u001b[1;33m\u001b[0m\u001b[0m\n\u001b[0m\u001b[0;32m   1442\u001b[0m         \u001b[1;32mreturn\u001b[0m \u001b[0mlines\u001b[0m\u001b[1;33m\u001b[0m\u001b[0m\n\u001b[0;32m   1443\u001b[0m \u001b[1;33m\u001b[0m\u001b[0m\n",
      "\u001b[1;32m~\\Anaconda3\\lib\\site-packages\\matplotlib\\axes\\_base.py\u001b[0m in \u001b[0;36mautoscale_view\u001b[1;34m(self, tight, scalex, scaley)\u001b[0m\n\u001b[0;32m   2240\u001b[0m             \u001b[0mstickies\u001b[0m \u001b[1;33m=\u001b[0m \u001b[1;33m[\u001b[0m\u001b[0martist\u001b[0m\u001b[1;33m.\u001b[0m\u001b[0msticky_edges\u001b[0m \u001b[1;32mfor\u001b[0m \u001b[0martist\u001b[0m \u001b[1;32min\u001b[0m \u001b[0mself\u001b[0m\u001b[1;33m.\u001b[0m\u001b[0mget_children\u001b[0m\u001b[1;33m(\u001b[0m\u001b[1;33m)\u001b[0m\u001b[1;33m]\u001b[0m\u001b[1;33m\u001b[0m\u001b[0m\n\u001b[0;32m   2241\u001b[0m             \u001b[0mx_stickies\u001b[0m \u001b[1;33m=\u001b[0m \u001b[0msum\u001b[0m\u001b[1;33m(\u001b[0m\u001b[1;33m[\u001b[0m\u001b[0msticky\u001b[0m\u001b[1;33m.\u001b[0m\u001b[0mx\u001b[0m \u001b[1;32mfor\u001b[0m \u001b[0msticky\u001b[0m \u001b[1;32min\u001b[0m \u001b[0mstickies\u001b[0m\u001b[1;33m]\u001b[0m\u001b[1;33m,\u001b[0m \u001b[1;33m[\u001b[0m\u001b[1;33m]\u001b[0m\u001b[1;33m)\u001b[0m\u001b[1;33m\u001b[0m\u001b[0m\n\u001b[1;32m-> 2242\u001b[1;33m             \u001b[0my_stickies\u001b[0m \u001b[1;33m=\u001b[0m \u001b[0msum\u001b[0m\u001b[1;33m(\u001b[0m\u001b[1;33m[\u001b[0m\u001b[0msticky\u001b[0m\u001b[1;33m.\u001b[0m\u001b[0my\u001b[0m \u001b[1;32mfor\u001b[0m \u001b[0msticky\u001b[0m \u001b[1;32min\u001b[0m \u001b[0mstickies\u001b[0m\u001b[1;33m]\u001b[0m\u001b[1;33m,\u001b[0m \u001b[1;33m[\u001b[0m\u001b[1;33m]\u001b[0m\u001b[1;33m)\u001b[0m\u001b[1;33m\u001b[0m\u001b[0m\n\u001b[0m\u001b[0;32m   2243\u001b[0m             \u001b[1;32mif\u001b[0m \u001b[0mself\u001b[0m\u001b[1;33m.\u001b[0m\u001b[0mget_xscale\u001b[0m\u001b[1;33m(\u001b[0m\u001b[1;33m)\u001b[0m\u001b[1;33m.\u001b[0m\u001b[0mlower\u001b[0m\u001b[1;33m(\u001b[0m\u001b[1;33m)\u001b[0m \u001b[1;33m==\u001b[0m \u001b[1;34m'log'\u001b[0m\u001b[1;33m:\u001b[0m\u001b[1;33m\u001b[0m\u001b[0m\n\u001b[0;32m   2244\u001b[0m                 \u001b[0mx_stickies\u001b[0m \u001b[1;33m=\u001b[0m \u001b[1;33m[\u001b[0m\u001b[0mxs\u001b[0m \u001b[1;32mfor\u001b[0m \u001b[0mxs\u001b[0m \u001b[1;32min\u001b[0m \u001b[0mx_stickies\u001b[0m \u001b[1;32mif\u001b[0m \u001b[0mxs\u001b[0m \u001b[1;33m>\u001b[0m \u001b[1;36m0\u001b[0m\u001b[1;33m]\u001b[0m\u001b[1;33m\u001b[0m\u001b[0m\n",
      "\u001b[1;32m~\\Anaconda3\\lib\\site-packages\\matplotlib\\axes\\_base.py\u001b[0m in \u001b[0;36m<listcomp>\u001b[1;34m(.0)\u001b[0m\n\u001b[0;32m   2240\u001b[0m             \u001b[0mstickies\u001b[0m \u001b[1;33m=\u001b[0m \u001b[1;33m[\u001b[0m\u001b[0martist\u001b[0m\u001b[1;33m.\u001b[0m\u001b[0msticky_edges\u001b[0m \u001b[1;32mfor\u001b[0m \u001b[0martist\u001b[0m \u001b[1;32min\u001b[0m \u001b[0mself\u001b[0m\u001b[1;33m.\u001b[0m\u001b[0mget_children\u001b[0m\u001b[1;33m(\u001b[0m\u001b[1;33m)\u001b[0m\u001b[1;33m]\u001b[0m\u001b[1;33m\u001b[0m\u001b[0m\n\u001b[0;32m   2241\u001b[0m             \u001b[0mx_stickies\u001b[0m \u001b[1;33m=\u001b[0m \u001b[0msum\u001b[0m\u001b[1;33m(\u001b[0m\u001b[1;33m[\u001b[0m\u001b[0msticky\u001b[0m\u001b[1;33m.\u001b[0m\u001b[0mx\u001b[0m \u001b[1;32mfor\u001b[0m \u001b[0msticky\u001b[0m \u001b[1;32min\u001b[0m \u001b[0mstickies\u001b[0m\u001b[1;33m]\u001b[0m\u001b[1;33m,\u001b[0m \u001b[1;33m[\u001b[0m\u001b[1;33m]\u001b[0m\u001b[1;33m)\u001b[0m\u001b[1;33m\u001b[0m\u001b[0m\n\u001b[1;32m-> 2242\u001b[1;33m             \u001b[0my_stickies\u001b[0m \u001b[1;33m=\u001b[0m \u001b[0msum\u001b[0m\u001b[1;33m(\u001b[0m\u001b[1;33m[\u001b[0m\u001b[0msticky\u001b[0m\u001b[1;33m.\u001b[0m\u001b[0my\u001b[0m \u001b[1;32mfor\u001b[0m \u001b[0msticky\u001b[0m \u001b[1;32min\u001b[0m \u001b[0mstickies\u001b[0m\u001b[1;33m]\u001b[0m\u001b[1;33m,\u001b[0m \u001b[1;33m[\u001b[0m\u001b[1;33m]\u001b[0m\u001b[1;33m)\u001b[0m\u001b[1;33m\u001b[0m\u001b[0m\n\u001b[0m\u001b[0;32m   2243\u001b[0m             \u001b[1;32mif\u001b[0m \u001b[0mself\u001b[0m\u001b[1;33m.\u001b[0m\u001b[0mget_xscale\u001b[0m\u001b[1;33m(\u001b[0m\u001b[1;33m)\u001b[0m\u001b[1;33m.\u001b[0m\u001b[0mlower\u001b[0m\u001b[1;33m(\u001b[0m\u001b[1;33m)\u001b[0m \u001b[1;33m==\u001b[0m \u001b[1;34m'log'\u001b[0m\u001b[1;33m:\u001b[0m\u001b[1;33m\u001b[0m\u001b[0m\n\u001b[0;32m   2244\u001b[0m                 \u001b[0mx_stickies\u001b[0m \u001b[1;33m=\u001b[0m \u001b[1;33m[\u001b[0m\u001b[0mxs\u001b[0m \u001b[1;32mfor\u001b[0m \u001b[0mxs\u001b[0m \u001b[1;32min\u001b[0m \u001b[0mx_stickies\u001b[0m \u001b[1;32mif\u001b[0m \u001b[0mxs\u001b[0m \u001b[1;33m>\u001b[0m \u001b[1;36m0\u001b[0m\u001b[1;33m]\u001b[0m\u001b[1;33m\u001b[0m\u001b[0m\n",
      "\u001b[1;31mKeyboardInterrupt\u001b[0m: "
     ]
    },
    {
     "data": {
      "image/png": "[encoded data removed]",
      "text/plain": [
       "<matplotlib.figure.Figure at 0x2143ae931d0>"
      ]
     },
     "metadata": {},
     "output_type": "display_data"
    }
   ],
   "source": [
    "C = len(cleaned_data['state'])\n",
    "\n",
    "i = 0\n",
    "j = 1\n",
    "\n",
    "# Plot PCA of the data\n",
    "f = figure()\n",
    "title('NanoNose data: PCA')\n",
    "#Z = array(Z)\n",
    "for c in range(C):\n",
    "    # select indices belonging to class c:\n",
    "    class_mask = y==c\n",
    "    plot(Z[class_mask,i], Z[class_mask,j], 'o')\n",
    "legend('')\n",
    "xlabel('PC{0}'.format(i+1))\n",
    "ylabel('PC{0}'.format(j+1))"
   ]
  },
  {
   "cell_type": "code",
   "execution_count": 300,
   "metadata": {},
   "outputs": [],
   "source": [
    "# So we need to try to zoom in by cutting out the outlying observations\n",
    "PC1 = Z[:,0]\n",
    "PC1[abs(Z[:,0]) > 1] = 1\n",
    "\n",
    "Z[:,0] = PC1\n",
    "\n",
    "PC2 = Z[:,1]\n",
    "PC2[abs(Z[:,1]) > 1] = 1\n",
    "\n",
    "Z[:,1] = PC2"
   ]
  },
  {
   "cell_type": "code",
   "execution_count": 301,
   "metadata": {},
   "outputs": [
    {
     "data": {
      "text/plain": [
       "Text(0,0.5,'PC2')"
      ]
     },
     "execution_count": 301,
     "metadata": {},
     "output_type": "execute_result"
    },
    {
     "data": {
      "image/png": "[encoded data removed]",
      "text/plain": [
       "<matplotlib.figure.Figure at 0x2142fbc0630>"
      ]
     },
     "metadata": {},
     "output_type": "display_data"
    }
   ],
   "source": [
    "# Plot PCA of the data\n",
    "f = figure()\n",
    "title('NanoNose data: PCA')\n",
    "#Z = array(Z)\n",
    "for c in range(C):\n",
    "    # select indices belonging to class c:\n",
    "    class_mask = y==c\n",
    "    plot(Z[class_mask,i], Z[class_mask,j], 'o')\n",
    "legend('')\n",
    "xlabel('PC{0}'.format(i+1))\n",
    "ylabel('PC{0}'.format(j+1))"
   ]
  },
  {
   "cell_type": "code",
   "execution_count": null,
   "metadata": {
    "collapsed": true
   },
   "outputs": [],
   "source": [
    "V = V.T\n",
    "# Project the centered data onto principal component space\n",
    "Z = np.array(normalized @ V)\n",
    "\n",
    "\n",
    "# Indices of the principal components to be plotted\n",
    "pc1 = 0\n",
    "pc2 = 1\n",
    "pc3 = 2\n",
    "\n",
    "component1 = Z[ratio_reduced['backers'],pc1]\n",
    "component2 = Z[ratio_reduced['duration'],pc2]\n",
    "\n",
    "# Plot PCA of the data\n",
    "f = plt.figure()\n",
    "plt.title('Kickstarter data: PCA')\n",
    "for c in range(len(interval_ratio_reduced['backers'])):\n",
    "    plt.plot(component1[c], \n",
    "             component2[c], 'o')"
   ]
  },
  {
   "cell_type": "code",
   "execution_count": null,
   "metadata": {
    "collapsed": true
   },
   "outputs": [],
   "source": [
    "# plot first 3 principle components in 3d\n",
    "# so far, x, y and z are just for testing purposees\n",
    "\n",
    "scatter = dict(\n",
    "    mode = \"markers\",\n",
    "    name = \"y\",\n",
    "    type = \"scatter3d\",    \n",
    "    x = [1,2,3], y = [2,3,4], z = [3,4,5],\n",
    "    marker = dict( size=2, color=\"rgb(23, 190, 207)\" ))\n",
    "\n",
    "layout = dict(\n",
    "    title = '3d point clustering',\n",
    "    scene = dict(\n",
    "        xaxis = dict( zeroline=False ),\n",
    "        yaxis = dict( zeroline=False ),\n",
    "        zaxis = dict( zeroline=False ) ))\n",
    "    \n",
    "fig2 = dict(data=[scatter], layout=layout)\n",
    "py.offline.iplot(fig2)"
   ]
  },
  {
   "cell_type": "code",
   "execution_count": null,
   "metadata": {
    "collapsed": true
   },
   "outputs": [],
   "source": [
    "# create a list of indices to address the individual categories\n",
    "yearlaunched_index_ = list('main_cat_' + str(main_cat[i]) for i in range(len(main_cat)))\n",
    "\n",
    "# sum up number of projects per year and store in list\n",
    "projects_per_year = list(cleaned_data[yearlaunched_index_[year]].sum() for year in range(len(yr_sort)))\n",
    "\n",
    "# generate data for follow up plot\n",
    "successful_projects = cleaned_data[cleaned_data['state_successful'] == 1]\n",
    "successes_per_year = list(successful_projects[yearlaunched_index_[year]].sum() for year in range(len(yr_sort)))\n",
    "\n",
    "# convert lists to numpy arrays\n",
    "projects = np.asarray(projects_per_year)\n",
    "successes = np.asarray(successes_per_year)\n",
    "\n",
    "# declare final values for plot\n",
    "fails = projects - successes\n",
    "success_ratio = np.round(((successes/projects)*100), decimals=1)\n",
    "\n",
    "\n",
    "# create bar plot\n",
    "fig = plt.subplots(figsize=(9,5))\n",
    "N = 9\n",
    "ind = np.arange(N)\n",
    "width = 0.6        # the width of the bars\n",
    "\n",
    "success = plt.bar(ind, successes, width, color='#d62728', alpha=0.7)\n",
    "failure = plt.bar(ind, fails, width, bottom=successes, alpha=0.7)\n",
    "\n",
    "plt.ylabel('Total number of projects')\n",
    "plt.title('Success-rates of Kickstarter projects')\n",
    "plt.xlabel('Year')\n",
    "plt.xticks(ind, yr_sort)\n",
    "plt.ylim([0,80000])\n",
    "plt.legend((p1[0], p2[0]), ('Succeeded', 'Failed'));\n",
    " \n",
    "# Percentage of succeeded projects on the top of each barplot\n",
    "for i in range(len(yr_sort)):\n",
    "    plt.text(x = i-0.28, y = projects[i]+1500, s = str(success_ratio[i])+'%', size = 10);\n",
    "    \n",
    "plt.savefig('Success_rates.eps', format='eps', dpi = 1000)"
   ]
  }
 ],
 "metadata": {
  "kernelspec": {
   "display_name": "Python 3",
   "language": "python",
   "name": "python3"
  },
  "language_info": {
   "codemirror_mode": {
    "name": "ipython",
    "version": 3
   },
   "file_extension": ".py",
   "mimetype": "text/x-python",
   "name": "python",
   "nbconvert_exporter": "python",
   "pygments_lexer": "ipython3",
   "version": "3.6.5"
  },
  "varInspector": {
   "cols": {
    "lenName": 16,
    "lenType": 16,
    "lenVar": 40
   },
   "kernels_config": {
    "python": {
     "delete_cmd_postfix": "",
     "delete_cmd_prefix": "del ",
     "library": "var_list.py",
     "varRefreshCmd": "print(var_dic_list())"
    },
    "r": {
     "delete_cmd_postfix": ") ",
     "delete_cmd_prefix": "rm(",
     "library": "var_list.r",
     "varRefreshCmd": "cat(var_dic_list()) "
    }
   },
   "types_to_exclude": [
    "module",
    "function",
    "builtin_function_or_method",
    "instance",
    "_Feature"
   ],
   "window_display": false
  }
 },
 "nbformat": 4,
 "nbformat_minor": 2
}
